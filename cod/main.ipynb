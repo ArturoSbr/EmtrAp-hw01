{
 "cells": [
  {
   "cell_type": "markdown",
   "id": "f4147fc8",
   "metadata": {
    "id": "f4147fc8"
   },
   "source": [
    "# Econometría Aplicada II\n",
    "## Tarea 1\n",
    "Importar librerías"
   ]
  },
  {
   "cell_type": "code",
   "execution_count": 1,
   "id": "0183c18b",
   "metadata": {
    "id": "0183c18b"
   },
   "outputs": [],
   "source": [
    "%%capture\n",
    "\n",
    "# Don't crash\n",
    "from IPython import get_ipython\n",
    "\n",
    "# Clonar repo si estamos en colab\n",
    "if 'google.colab' in str(get_ipython()):\n",
    "    !git clone https://github.com/ArturoSbr/EmtrAp2-hw01\n",
    "    # !pip install scipy==1.7.3\n",
    "    %cd EmtrAp2-hw01/cod\n",
    "\n",
    "# Libs\n",
    "import numpy as np\n",
    "import pandas as pd\n",
    "from scipy import stats\n",
    "from statsmodels.api import OLS\n",
    "from matplotlib import pyplot as plt"
   ]
  },
  {
   "cell_type": "markdown",
   "id": "f28d8dad",
   "metadata": {
    "id": "f28d8dad"
   },
   "source": [
    "Importar datos"
   ]
  },
  {
   "cell_type": "code",
   "execution_count": 2,
   "id": "69e10890",
   "metadata": {
    "id": "69e10890"
   },
   "outputs": [],
   "source": [
    "d1 = pd.read_csv('../dat/baseline.csv')\n",
    "d2 = pd.read_csv('../dat/endline.csv')\n",
    "d3 = pd.read_csv('../dat/completa.csv')"
   ]
  },
  {
   "cell_type": "markdown",
   "id": "b93ef3b8",
   "metadata": {
    "id": "b93ef3b8"
   },
   "source": [
    "### 1.1. Balance\n",
    "Tabla de balance por grupo de acuerdo a `T_nap`"
   ]
  },
  {
   "cell_type": "code",
   "execution_count": 3,
   "id": "14a8a3d0",
   "metadata": {
    "colab": {
     "base_uri": "https://localhost:8080/",
     "height": 381
    },
    "id": "14a8a3d0",
    "outputId": "54291182-c6c5-4c9c-b861-3ab60eef7f1d",
    "scrolled": false
   },
   "outputs": [
    {
     "data": {
      "text/html": [
       "<div>\n",
       "<style scoped>\n",
       "    .dataframe tbody tr th:only-of-type {\n",
       "        vertical-align: middle;\n",
       "    }\n",
       "\n",
       "    .dataframe tbody tr th {\n",
       "        vertical-align: top;\n",
       "    }\n",
       "\n",
       "    .dataframe thead th {\n",
       "        text-align: right;\n",
       "    }\n",
       "</style>\n",
       "<table border=\"1\" class=\"dataframe\">\n",
       "  <thead>\n",
       "    <tr style=\"text-align: right;\">\n",
       "      <th></th>\n",
       "      <th>var</th>\n",
       "      <th>t</th>\n",
       "      <th>p</th>\n",
       "    </tr>\n",
       "  </thead>\n",
       "  <tbody>\n",
       "    <tr>\n",
       "      <th>6</th>\n",
       "      <td>act inbed</td>\n",
       "      <td>1.255</td>\n",
       "      <td>0.210</td>\n",
       "    </tr>\n",
       "    <tr>\n",
       "      <th>1</th>\n",
       "      <td>age</td>\n",
       "      <td>-0.249</td>\n",
       "      <td>0.804</td>\n",
       "    </tr>\n",
       "    <tr>\n",
       "      <th>7</th>\n",
       "      <td>an 12 number of awakenings</td>\n",
       "      <td>0.780</td>\n",
       "      <td>0.436</td>\n",
       "    </tr>\n",
       "    <tr>\n",
       "      <th>8</th>\n",
       "      <td>an 13 average awakening length</td>\n",
       "      <td>0.111</td>\n",
       "      <td>0.912</td>\n",
       "    </tr>\n",
       "    <tr>\n",
       "      <th>3</th>\n",
       "      <td>education</td>\n",
       "      <td>-1.296</td>\n",
       "      <td>0.196</td>\n",
       "    </tr>\n",
       "    <tr>\n",
       "      <th>2</th>\n",
       "      <td>female</td>\n",
       "      <td>-0.034</td>\n",
       "      <td>0.973</td>\n",
       "    </tr>\n",
       "    <tr>\n",
       "      <th>5</th>\n",
       "      <td>no of children</td>\n",
       "      <td>0.533</td>\n",
       "      <td>0.594</td>\n",
       "    </tr>\n",
       "    <tr>\n",
       "      <th>4</th>\n",
       "      <td>sleep report</td>\n",
       "      <td>1.125</td>\n",
       "      <td>0.262</td>\n",
       "    </tr>\n",
       "    <tr>\n",
       "      <th>0</th>\n",
       "      <td>time in office</td>\n",
       "      <td>-0.246</td>\n",
       "      <td>0.806</td>\n",
       "    </tr>\n",
       "    <tr>\n",
       "      <th>9</th>\n",
       "      <td>unemployed</td>\n",
       "      <td>0.491</td>\n",
       "      <td>0.624</td>\n",
       "    </tr>\n",
       "  </tbody>\n",
       "</table>\n",
       "</div>"
      ],
      "text/plain": [
       "                              var      t      p\n",
       "6                       act inbed  1.255  0.210\n",
       "1                            age  -0.249  0.804\n",
       "7      an 12 number of awakenings  0.780  0.436\n",
       "8  an 13 average awakening length  0.111  0.912\n",
       "3                      education  -1.296  0.196\n",
       "2                         female  -0.034  0.973\n",
       "5                 no of children   0.533  0.594\n",
       "4                    sleep report  1.125  0.262\n",
       "0                  time in office -0.246  0.806\n",
       "9                      unemployed  0.491  0.624"
      ]
     },
     "execution_count": 3,
     "metadata": {},
     "output_type": "execute_result"
    }
   ],
   "source": [
    "# Seleccionar 10 variables basales\n",
    "X = ['time_in_office','age_','female_','education_','sleep_report','no_of_children_','act_inbed',\n",
    "     'an_12_number_of_awakenings','an_13_average_awakening_length','unemployed']\n",
    "\n",
    "# Inicializar lista\n",
    "d = []\n",
    "\n",
    "# Medias de variables basales\n",
    "for x in X:\n",
    "    # Grupos\n",
    "    b, a = d1.groupby('T_nap')[x].apply(np.array)\n",
    "    # t-test\n",
    "    test = stats.ttest_ind(a=a, b=b, equal_var=False, nan_policy='omit')\n",
    "    # Agregar a lista\n",
    "    d.append([x] + list(test))\n",
    "\n",
    "# A tabla\n",
    "t = pd.DataFrame(data=d, columns=['var','t','p']).sort_values('var')\n",
    "t['var'] = t['var'].str.replace('_',' ')\n",
    "t.round(3)"
   ]
  },
  {
   "cell_type": "code",
   "execution_count": 4,
   "id": "94e88ddf",
   "metadata": {
    "id": "94e88ddf",
    "scrolled": true
   },
   "outputs": [],
   "source": [
    "# To latex\n",
    "# print(t.set_index('var').to_latex(float_format='%.3f', caption='Balance sobre 10 covariables'))"
   ]
  },
  {
   "cell_type": "markdown",
   "id": "6010a6d0",
   "metadata": {
    "id": "6010a6d0"
   },
   "source": [
    "Todos los p-values de las pruebas de diferencia de medias son mayores a 0.1. Esto significa que para toda variable independiente $X_j$, no podemos rechazar la hipótesis nula $\\mu_{X_j}^C = \\mu_{X_j}^T$. Las pruebas individuales sugieren que no existe ninguna diferencia entra las medias del grupo de control y el grupo de tratamiento.\n",
    "\n",
    "Para evaluar la significancia de manera conjunta, uso el siguiente modelo de probabilidad lineal:\n",
    "$$T_i = \\beta_0 + X_i^T \\beta + U_i$$\n",
    "donde $X_i^T$ contiene todos los controles evaluados en la prueba anterior.\n",
    "\n",
    "La prueba de hipótesis para determinar si al menos una de las variables indepentientes está relacionada con la asignación a tratamiento es:\n",
    "$$H_0: \\beta_1 = 0$$\n",
    "$$H_1: \\text{Al menos un coeficiente es distinto de cero}$$"
   ]
  },
  {
   "cell_type": "code",
   "execution_count": 5,
   "id": "bf866f0f",
   "metadata": {
    "colab": {
     "base_uri": "https://localhost:8080/"
    },
    "id": "bf866f0f",
    "outputId": "72b59a57-e1b2-4264-f5b2-17b70aed5960"
   },
   "outputs": [
    {
     "name": "stdout",
     "output_type": "stream",
     "text": [
      "                            OLS Regression Results                            \n",
      "==============================================================================\n",
      "Dep. Variable:                  T_nap   R-squared:                       0.014\n",
      "Model:                            OLS   Adj. R-squared:                 -0.010\n",
      "Method:                 Least Squares   F-statistic:                    0.5731\n",
      "Date:                Thu, 19 May 2022   Prob (F-statistic):              0.836\n",
      "Time:                        09:38:00   Log-Likelihood:                -297.54\n",
      "No. Observations:                 414   AIC:                             617.1\n",
      "Df Residuals:                     403   BIC:                             661.4\n",
      "Df Model:                          10                                         \n",
      "Covariance Type:            nonrobust                                         \n",
      "==================================================================================================\n",
      "                                     coef    std err          t      P>|t|      [0.025      0.975]\n",
      "--------------------------------------------------------------------------------------------------\n",
      "time_in_office                    -0.0140      0.037     -0.380      0.704      -0.086       0.058\n",
      "age_                              -0.0019      0.004     -0.469      0.639      -0.010       0.006\n",
      "female_                           -0.0106      0.065     -0.164      0.870      -0.138       0.117\n",
      "education_                        -0.0119      0.009     -1.274      0.203      -0.030       0.006\n",
      "sleep_report                       0.1037      0.091      1.144      0.253      -0.074       0.282\n",
      "no_of_children_                    0.0109      0.029      0.375      0.708      -0.046       0.068\n",
      "act_inbed                          0.0325      0.035      0.926      0.355      -0.036       0.101\n",
      "an_12_number_of_awakenings         0.0008      0.004      0.192      0.848      -0.008       0.009\n",
      "an_13_average_awakening_length     0.0056      0.019      0.293      0.770      -0.032       0.043\n",
      "unemployed                         0.0117      0.023      0.511      0.610      -0.033       0.057\n",
      "const                              0.3992      0.458      0.872      0.384      -0.501       1.300\n",
      "==============================================================================\n",
      "Omnibus:                     1835.610   Durbin-Watson:                   2.147\n",
      "Prob(Omnibus):                  0.000   Jarque-Bera (JB):               65.989\n",
      "Skew:                           0.027   Prob(JB):                     4.68e-15\n",
      "Kurtosis:                       1.045   Cond. No.                         934.\n",
      "==============================================================================\n",
      "\n",
      "Notes:\n",
      "[1] Standard Errors assume that the covariance matrix of the errors is correctly specified.\n"
     ]
    }
   ],
   "source": [
    "# T_nap en función de controles\n",
    "m = OLS(endog=d1['T_nap'], exog=d1[X].assign(const = 1)).fit()\n",
    "\n",
    "# Tabla de resumen\n",
    "print(m.summary())"
   ]
  },
  {
   "cell_type": "markdown",
   "id": "c364addf",
   "metadata": {
    "id": "c364addf"
   },
   "source": [
    "Al igual que en las diferencias de medias, todos los coeficientes estimados del modelo de probabilidad lineal tienen p-values menores a 0.1. Por ende, ninguno de las variables independientes tiene significancia individual para determinar la asignación a tratamiento.\n",
    "\n",
    "La prueba que nos interesa se ve reflejada en el estadístico $F$. La prueba de significancia conjunta tiene un p-value de 0.882. Es decir, no hay evidencia de que alguno de los coeficientes sea distinto de cero.\n",
    "\n",
    "Como conclusión, parece que el tratamiento sí fue asignado de manera aleatoria con base en los 10 controles que elegí.\n",
    "\n",
    "### 1.2. Efectos de tratamiento\n",
    "Efectos de tratamiento sobre la productividad de los trabajadores.\n",
    "\n",
    "#### a) Estimadores de Neyman"
   ]
  },
  {
   "cell_type": "code",
   "execution_count": 6,
   "id": "d05b58a9",
   "metadata": {
    "colab": {
     "base_uri": "https://localhost:8080/"
    },
    "id": "d05b58a9",
    "outputId": "42750cfe-6528-4ee6-e447-8f34ab6fc99b"
   },
   "outputs": [
    {
     "name": "stdout",
     "output_type": "stream",
     "text": [
      "Prueba de Neyman sobre productividad:\n",
      "['T_nap', -170.53711387267913, 177.8423473054588, -0.9589229812614184, 0.3375975464907819]\n"
     ]
    }
   ],
   "source": [
    "# Función para estimador de Neyman\n",
    "def neyman(frame, treatment_col, values_col):\n",
    "    # Arreglos C y T\n",
    "    m = frame[[treatment_col,values_col]].notna().all(axis=1)\n",
    "    a, b = frame[m].groupby(treatment_col)[values_col].apply(np.array)\n",
    "    # Diferencia de medias\n",
    "    tau = np.mean(b) - np.mean(a)\n",
    "    # Error estándar sobre-estimado\n",
    "    bse = np.sqrt(np.var(a, ddof=1) / len(a) + np.var(b, ddof=1) / len(b))\n",
    "    # t-stat\n",
    "    t = tau / bse\n",
    "    # p-value\n",
    "    p = 2 * (1 - stats.norm().cdf(np.abs(t)))\n",
    "    return [treatment_col, tau, bse, t, p]\n",
    "\n",
    "# Diferencia de Neyman\n",
    "prod_ney = neyman(d2, 'T_nap', 'productivity')\n",
    "print(f'Prueba de Neyman sobre productividad:\\n{prod_ney}')"
   ]
  },
  {
   "cell_type": "markdown",
   "id": "2ed76558",
   "metadata": {
    "id": "2ed76558"
   },
   "source": [
    "#### b) Estimadores OLS sin controles"
   ]
  },
  {
   "cell_type": "code",
   "execution_count": 7,
   "id": "9f69843a",
   "metadata": {
    "colab": {
     "base_uri": "https://localhost:8080/"
    },
    "id": "9f69843a",
    "outputId": "37a2ccb8-9ebe-4fd4-ef71-49740fb66ad7"
   },
   "outputs": [
    {
     "name": "stdout",
     "output_type": "stream",
     "text": [
      "Estimación OLS sobre productividad:\n",
      "['T_nap', -170.53711387267884, 177.41291329606045, -0.9612440870529672, 0.3364294539166679]\n"
     ]
    }
   ],
   "source": [
    "m = OLS(endog=d2['productivity'], exog=d2.assign(const = 1)[['const','T_nap']], missing='drop')\n",
    "m = m.fit(cov_type='HC0')\n",
    "\n",
    "# Diferencia OLS sin X\n",
    "prod_ols = ['T_nap', m.params['T_nap'], m.bse['T_nap'], m.tvalues['T_nap'], m.pvalues['T_nap']]\n",
    "print(f'Estimación OLS sobre productividad:\\n{prod_ols}')"
   ]
  },
  {
   "cell_type": "markdown",
   "id": "672981fe",
   "metadata": {
    "id": "672981fe"
   },
   "source": [
    "#### c) Estimadores con controles\n",
    "De acuerdo al paper, $X_i$ contiene `age_` en cuartiles, `female_` y la variable que indica si $i$ fue asignado a trabajar o a tomarse un break en vez de tomar una siesta.\n",
    "\n",
    "Como esta pregunta usa la base con promedios durante los 20 días de estudio, la variable que indica la actividad asignada cada día a los individuos del grupo de control no está disponible. Por ende, usaré el siguiente model:\n",
    "$$Y_i = \\beta_0 + \\sum_{q=1}^4I\\big[\\beta_q \\times Q(age_i)\\big] + \\beta_f fem_i$$\n",
    "donde $Q(age_i)$ asigna un cuartil a $i$ con base en su edad y $fem_i = 1$ si $i$ es mujer."
   ]
  },
  {
   "cell_type": "code",
   "execution_count": 8,
   "id": "29012c16",
   "metadata": {
    "colab": {
     "base_uri": "https://localhost:8080/"
    },
    "id": "29012c16",
    "outputId": "33861108-2a09-49fe-fbeb-406cc13ef378"
   },
   "outputs": [
    {
     "name": "stdout",
     "output_type": "stream",
     "text": [
      "Estimación OLS+X sobre productividad:\n",
      "['T_nap', -212.86371743292182, 168.4855593575082, -1.2633944312179772, 0.20644746445790074]\n"
     ]
    }
   ],
   "source": [
    "# Edad a cuartiles y luego a dummies\n",
    "d2['age_q'] = pd.qcut(x=d2['age_'], q=4, labels=[f'q{i}' for i in range(1,5)])\n",
    "d2 = pd.get_dummies(data=d2, prefix='age_', prefix_sep='', columns=['age_q'], )\n",
    "\n",
    "# Tratamiento y controles\n",
    "X = ['T_nap','const','age_q2','age_q3','age_q4','female_']\n",
    "\n",
    "# Correr regresión\n",
    "m = OLS(endog=d2['productivity'], exog=d2.assign(const = 1)[X], missing='drop')\n",
    "m = m.fit(cov_type='HC0')\n",
    "\n",
    "# Regresión con controles\n",
    "prod_ctr = ['T_nap', m.params['T_nap'], m.bse['T_nap'], m.tvalues['T_nap'], m.pvalues['T_nap']]\n",
    "print(f'Estimación OLS+X sobre productividad:\\n{prod_ctr}')"
   ]
  },
  {
   "cell_type": "markdown",
   "id": "taHtJSS3Y1xS",
   "metadata": {
    "id": "taHtJSS3Y1xS"
   },
   "source": [
    "#### d) Resultados a tabla"
   ]
  },
  {
   "cell_type": "code",
   "execution_count": 9,
   "id": "eyUKsklr_SAf",
   "metadata": {
    "colab": {
     "base_uri": "https://localhost:8080/",
     "height": 150
    },
    "id": "eyUKsklr_SAf",
    "outputId": "f270904e-5a1c-4fd4-ad18-66a0ab23f063"
   },
   "outputs": [
    {
     "data": {
      "text/html": [
       "<div>\n",
       "<style scoped>\n",
       "    .dataframe tbody tr th:only-of-type {\n",
       "        vertical-align: middle;\n",
       "    }\n",
       "\n",
       "    .dataframe tbody tr th {\n",
       "        vertical-align: top;\n",
       "    }\n",
       "\n",
       "    .dataframe thead th {\n",
       "        text-align: right;\n",
       "    }\n",
       "</style>\n",
       "<table border=\"1\" class=\"dataframe\">\n",
       "  <thead>\n",
       "    <tr style=\"text-align: right;\">\n",
       "      <th></th>\n",
       "      <th>tau</th>\n",
       "      <th>se</th>\n",
       "      <th>t</th>\n",
       "      <th>p</th>\n",
       "    </tr>\n",
       "  </thead>\n",
       "  <tbody>\n",
       "    <tr>\n",
       "      <th>Neyman</th>\n",
       "      <td>-170.537</td>\n",
       "      <td>177.842</td>\n",
       "      <td>-0.959</td>\n",
       "      <td>0.338</td>\n",
       "    </tr>\n",
       "    <tr>\n",
       "      <th>OLS simple</th>\n",
       "      <td>-170.537</td>\n",
       "      <td>177.413</td>\n",
       "      <td>-0.961</td>\n",
       "      <td>0.336</td>\n",
       "    </tr>\n",
       "    <tr>\n",
       "      <th>OLS controles</th>\n",
       "      <td>-212.864</td>\n",
       "      <td>168.486</td>\n",
       "      <td>-1.263</td>\n",
       "      <td>0.206</td>\n",
       "    </tr>\n",
       "  </tbody>\n",
       "</table>\n",
       "</div>"
      ],
      "text/plain": [
       "                   tau       se      t      p\n",
       "Neyman        -170.537  177.842 -0.959  0.338\n",
       "OLS simple    -170.537  177.413 -0.961  0.336\n",
       "OLS controles -212.864  168.486 -1.263  0.206"
      ]
     },
     "execution_count": 9,
     "metadata": {},
     "output_type": "execute_result"
    }
   ],
   "source": [
    "# Concatenar resultados\n",
    "t = pd.DataFrame(data=[prod_ney, prod_ols, prod_ctr],\n",
    "                 columns=['Y','tau','se','t','p'],\n",
    "                 index=['Neyman','OLS simple','OLS controles'])\n",
    "\n",
    "# Tabla\n",
    "t = t.drop(columns=['Y'])\n",
    "t.round(3)"
   ]
  },
  {
   "cell_type": "code",
   "execution_count": 10,
   "id": "ba1c33e2",
   "metadata": {
    "id": "ba1c33e2"
   },
   "outputs": [],
   "source": [
    "# # To latex\n",
    "# print(t.to_latex(float_format='%.3f', caption='Estimaciones de ATE sobre productividad', label='t2_ates_prod'))"
   ]
  },
  {
   "cell_type": "markdown",
   "id": "yhCJvUmyCRUy",
   "metadata": {
    "id": "yhCJvUmyCRUy"
   },
   "source": [
    "Los tres métodos indican que tomar una siesta tiene un efecto negativo sobre la productividad de los trabajadores. Sin embargo, todos los efectos estimados carecen de significancia. Es decir, el efecto promedio de tratamiento no es estadísticamente distinto de cero.\n",
    "\n",
    "Mi modelo preferido es el OLS con controles porque redujo el p-value del coeficiente asociado al tratamiento.\n",
    "\n",
    "#### e) Nuevas variables dependientes"
   ]
  },
  {
   "cell_type": "code",
   "execution_count": 11,
   "id": "RNe2PpD_CifM",
   "metadata": {
    "colab": {
     "base_uri": "https://localhost:8080/",
     "height": 150
    },
    "id": "RNe2PpD_CifM",
    "outputId": "839da69e-a4f5-4688-f333-858b8bf646d9"
   },
   "outputs": [
    {
     "data": {
      "text/html": [
       "<div>\n",
       "<style scoped>\n",
       "    .dataframe tbody tr th:only-of-type {\n",
       "        vertical-align: middle;\n",
       "    }\n",
       "\n",
       "    .dataframe tbody tr th {\n",
       "        vertical-align: top;\n",
       "    }\n",
       "\n",
       "    .dataframe thead th {\n",
       "        text-align: right;\n",
       "    }\n",
       "</style>\n",
       "<table border=\"1\" class=\"dataframe\">\n",
       "  <thead>\n",
       "    <tr style=\"text-align: right;\">\n",
       "      <th></th>\n",
       "      <th>nap_time_mins</th>\n",
       "      <th>sleep_report</th>\n",
       "      <th>happy</th>\n",
       "      <th>cog</th>\n",
       "      <th>typing_time_hr</th>\n",
       "    </tr>\n",
       "  </thead>\n",
       "  <tbody>\n",
       "    <tr>\n",
       "      <th>tau</th>\n",
       "      <td>11.745</td>\n",
       "      <td>0.049</td>\n",
       "      <td>0.050</td>\n",
       "      <td>0.029</td>\n",
       "      <td>-0.018</td>\n",
       "    </tr>\n",
       "    <tr>\n",
       "      <th>t</th>\n",
       "      <td>39.444</td>\n",
       "      <td>1.119</td>\n",
       "      <td>1.422</td>\n",
       "      <td>0.531</td>\n",
       "      <td>-0.167</td>\n",
       "    </tr>\n",
       "    <tr>\n",
       "      <th>p</th>\n",
       "      <td>0.000</td>\n",
       "      <td>0.263</td>\n",
       "      <td>0.155</td>\n",
       "      <td>0.596</td>\n",
       "      <td>0.868</td>\n",
       "    </tr>\n",
       "  </tbody>\n",
       "</table>\n",
       "</div>"
      ],
      "text/plain": [
       "     nap_time_mins  sleep_report  happy    cog  typing_time_hr\n",
       "tau         11.745         0.049  0.050  0.029          -0.018\n",
       "t           39.444         1.119  1.422  0.531          -0.167\n",
       "p            0.000         0.263  0.155  0.596           0.868"
      ]
     },
     "execution_count": 11,
     "metadata": {},
     "output_type": "execute_result"
    }
   ],
   "source": [
    "# Crear índice de habilidades cognitivas\n",
    "cog = ['corsi_measure','hf_measure','pvt_measure']\n",
    "d2['cog'] = d2[cog].apply(lambda x: (x - x.mean()) / x.std()).mean(axis=1)\n",
    "\n",
    "# Nuevas variables dependientes\n",
    "Y = ['nap_time_mins','sleep_report','happy','cog','typing_time_hr']\n",
    "\n",
    "# Correr regresiones\n",
    "d = []\n",
    "for y in Y:\n",
    "    m = OLS(endog=d2[y], exog=d2.assign(const = 1)[X], missing='drop')\n",
    "    m = m.fit(cov_type='HC0')\n",
    "    d.append([m.params['T_nap'], m.tvalues['T_nap'], m.pvalues['T_nap']])\n",
    "\n",
    "# Resultados a tabla\n",
    "t = pd.DataFrame(data=d, columns=['tau','t','p'], index=Y)\n",
    "\n",
    "# Visualizar\n",
    "t.transpose().round(3)"
   ]
  },
  {
   "cell_type": "code",
   "execution_count": 12,
   "id": "953a0a9f",
   "metadata": {
    "id": "953a0a9f"
   },
   "outputs": [],
   "source": [
    "# print(t.transpose().to_latex(float_format='%.3f', caption='ATE sobre otras variables', label='t1.2_ates_other'))"
   ]
  },
  {
   "cell_type": "markdown",
   "id": "4Y2Chd2LDfmr",
   "metadata": {
    "id": "4Y2Chd2LDfmr"
   },
   "source": [
    "De acuerdo al modelo OLS con controles, el tratamiento:\n",
    "1. Aumenta el promedio de minutos dormidos durante la siesta de 0 a 11.7 minutos\n",
    "1. Aumenta el promedio de número de horas de sueño en 0.05 horas por día (pero no tiene significancia estadística)\n",
    "1. Aumenta el promedio de la calificación de felicidad reportada en 0.05 puntos (pero no tiene significancia estadística)\n",
    "1. Aumentar el índice promedio de desempeño cognitivo en 0.03 desviaciones estándar (pero no tiene significancia estadística)\n",
    "1. Reducir el promedio de horas trabajadas en 0.02 unidades diarias (pero no tiene significancia estadística)\n",
    "\n",
    "### 1.3. Fischer's Exact Test\n",
    "#### a) Probar si el tratamiento tiene efecto nulo"
   ]
  },
  {
   "cell_type": "code",
   "execution_count": 13,
   "id": "11061de9",
   "metadata": {
    "id": "11061de9"
   },
   "outputs": [],
   "source": [
    "# fet = stats.permutation_test(data=(d2.loc[d2['T_nap'].eq(1) & d2['productivity'].notna(), 'productivity'],\n",
    "#                                    d2.loc[d2['T_nap'].eq(0) & d2['productivity'].notna(), 'productivity']),\n",
    "#                              statistic=lambda x, y: np.mean(x) - np.mean(y),\n",
    "#                              n_resamples=1000,\n",
    "#                              random_state=42)\n",
    "\n",
    "# print('p-value:', round(fet.pvalue, 3))"
   ]
  },
  {
   "cell_type": "markdown",
   "id": "f58580fe",
   "metadata": {
    "id": "f58580fe"
   },
   "source": [
    "#### b) Conclusión\n",
    "Los p-values del efecto promedio estimado de tratamiento bajo Neyman y de OLS sin controles son 0.338 y 0.336 respectivamente. Con la falsificación de Fischer, el p-value es 0.308. Estos p-values son muy parecidos entre sí, por lo que podemos concluir con un alto grado de certeza que el efecto de las siestas sobre la productividad no es estadísticamente significativo.\n",
    "\n",
    "Cuando agregamos controles al modelo OLS, el p-value baja un poco (0.206), pero permance sin significancia estadística.\n",
    "\n",
    "En resumen, los cuatro métodos indican que las siestas no tienen un efecto estadísticamente significativo sobre la productividad de las personas."
   ]
  },
  {
   "cell_type": "markdown",
   "id": "YH7UHbqiyi38",
   "metadata": {
    "id": "YH7UHbqiyi38"
   },
   "source": [
    "### 1.4. Estratificación"
   ]
  },
  {
   "cell_type": "code",
   "execution_count": 14,
   "id": "PTlD8fapF4a1",
   "metadata": {
    "id": "PTlD8fapF4a1"
   },
   "outputs": [],
   "source": [
    "# Crear casos con datos basales\n",
    "d1[['e','s']] = d1[['earnings','sleep_report']].apply(lambda x: (x >= x.median()).astype(int), axis=0)\n",
    "\n",
    "# Agregar casos a `d2`\n",
    "d2 = d2.merge(d1[['pid','e','s']], on='pid')"
   ]
  },
  {
   "cell_type": "markdown",
   "id": "efc457e3",
   "metadata": {
    "id": "efc457e3"
   },
   "source": [
    "#### a) Número de observaciones asignadas a tratamiento y control en cada estrato"
   ]
  },
  {
   "cell_type": "code",
   "execution_count": 15,
   "id": "1AEFkoVHCBeW",
   "metadata": {
    "colab": {
     "base_uri": "https://localhost:8080/",
     "height": 216
    },
    "id": "1AEFkoVHCBeW",
    "outputId": "8ed42d2d-df5c-44e4-bba9-0993756e0fd2"
   },
   "outputs": [
    {
     "data": {
      "text/html": [
       "<div>\n",
       "<style scoped>\n",
       "    .dataframe tbody tr th:only-of-type {\n",
       "        vertical-align: middle;\n",
       "    }\n",
       "\n",
       "    .dataframe tbody tr th {\n",
       "        vertical-align: top;\n",
       "    }\n",
       "\n",
       "    .dataframe thead th {\n",
       "        text-align: right;\n",
       "    }\n",
       "</style>\n",
       "<table border=\"1\" class=\"dataframe\">\n",
       "  <thead>\n",
       "    <tr style=\"text-align: right;\">\n",
       "      <th></th>\n",
       "      <th></th>\n",
       "      <th>ngC</th>\n",
       "      <th>ngT</th>\n",
       "    </tr>\n",
       "    <tr>\n",
       "      <th>e</th>\n",
       "      <th>s</th>\n",
       "      <th></th>\n",
       "      <th></th>\n",
       "    </tr>\n",
       "  </thead>\n",
       "  <tbody>\n",
       "    <tr>\n",
       "      <th rowspan=\"2\" valign=\"top\">0</th>\n",
       "      <th>0</th>\n",
       "      <td>49</td>\n",
       "      <td>48</td>\n",
       "    </tr>\n",
       "    <tr>\n",
       "      <th>1</th>\n",
       "      <td>56</td>\n",
       "      <td>54</td>\n",
       "    </tr>\n",
       "    <tr>\n",
       "      <th rowspan=\"2\" valign=\"top\">1</th>\n",
       "      <th>0</th>\n",
       "      <td>56</td>\n",
       "      <td>54</td>\n",
       "    </tr>\n",
       "    <tr>\n",
       "      <th>1</th>\n",
       "      <td>48</td>\n",
       "      <td>49</td>\n",
       "    </tr>\n",
       "  </tbody>\n",
       "</table>\n",
       "</div>"
      ],
      "text/plain": [
       "     ngC  ngT\n",
       "e s          \n",
       "0 0   49   48\n",
       "  1   56   54\n",
       "1 0   56   54\n",
       "  1   48   49"
      ]
     },
     "execution_count": 15,
     "metadata": {},
     "output_type": "execute_result"
    }
   ],
   "source": [
    "t = d2.groupby(['e','s','T_nap']).size().reset_index(name='n')\n",
    "t = t.pivot(index=['e','s'], columns='T_nap', values='n')\n",
    "t.columns = ['ngC','ngT']\n",
    "t"
   ]
  },
  {
   "cell_type": "code",
   "execution_count": 16,
   "id": "a5d59dae",
   "metadata": {
    "id": "a5d59dae"
   },
   "outputs": [],
   "source": [
    "# print(t.to_latex(caption='Observaciones por grupo', label='t1.4_strats'))"
   ]
  },
  {
   "cell_type": "markdown",
   "id": "FuEEx1fuDDPd",
   "metadata": {
    "id": "FuEEx1fuDDPd"
   },
   "source": [
    "La tabla sí tiene los números que hubiera esperado ex-ante, pues los individuos asignados a tratamiento en cada grupo son prácticamente del mismo tamaño que el número de individuos asignado a control.\n",
    "\n",
    "#### b) Efectos por estrato y agregados usando Neyman\n",
    "Efectos por estrato"
   ]
  },
  {
   "cell_type": "code",
   "execution_count": 17,
   "id": "Ff-NRUdj8mm2",
   "metadata": {
    "colab": {
     "base_uri": "https://localhost:8080/",
     "height": 744
    },
    "id": "Ff-NRUdj8mm2",
    "outputId": "d738f6bf-0d70-4b09-ba65-04f7b707d2b7"
   },
   "outputs": [
    {
     "data": {
      "text/html": [
       "<div>\n",
       "<style scoped>\n",
       "    .dataframe tbody tr th:only-of-type {\n",
       "        vertical-align: middle;\n",
       "    }\n",
       "\n",
       "    .dataframe tbody tr th {\n",
       "        vertical-align: top;\n",
       "    }\n",
       "\n",
       "    .dataframe thead th {\n",
       "        text-align: right;\n",
       "    }\n",
       "</style>\n",
       "<table border=\"1\" class=\"dataframe\">\n",
       "  <thead>\n",
       "    <tr style=\"text-align: right;\">\n",
       "      <th></th>\n",
       "      <th>e</th>\n",
       "      <th>s</th>\n",
       "      <th>tau</th>\n",
       "      <th>se</th>\n",
       "      <th>p</th>\n",
       "    </tr>\n",
       "    <tr>\n",
       "      <th>depvar</th>\n",
       "      <th></th>\n",
       "      <th></th>\n",
       "      <th></th>\n",
       "      <th></th>\n",
       "      <th></th>\n",
       "    </tr>\n",
       "  </thead>\n",
       "  <tbody>\n",
       "    <tr>\n",
       "      <th>nap_time_mins</th>\n",
       "      <td>0</td>\n",
       "      <td>0</td>\n",
       "      <td>11.516</td>\n",
       "      <td>0.584</td>\n",
       "      <td>0.000</td>\n",
       "    </tr>\n",
       "    <tr>\n",
       "      <th>nap_time_mins</th>\n",
       "      <td>0</td>\n",
       "      <td>1</td>\n",
       "      <td>12.430</td>\n",
       "      <td>0.582</td>\n",
       "      <td>0.000</td>\n",
       "    </tr>\n",
       "    <tr>\n",
       "      <th>nap_time_mins</th>\n",
       "      <td>1</td>\n",
       "      <td>0</td>\n",
       "      <td>10.873</td>\n",
       "      <td>0.585</td>\n",
       "      <td>0.000</td>\n",
       "    </tr>\n",
       "    <tr>\n",
       "      <th>nap_time_mins</th>\n",
       "      <td>1</td>\n",
       "      <td>1</td>\n",
       "      <td>12.048</td>\n",
       "      <td>0.662</td>\n",
       "      <td>0.000</td>\n",
       "    </tr>\n",
       "    <tr>\n",
       "      <th>sleep_report</th>\n",
       "      <td>0</td>\n",
       "      <td>0</td>\n",
       "      <td>0.005</td>\n",
       "      <td>0.016</td>\n",
       "      <td>0.760</td>\n",
       "    </tr>\n",
       "    <tr>\n",
       "      <th>sleep_report</th>\n",
       "      <td>0</td>\n",
       "      <td>1</td>\n",
       "      <td>0.167</td>\n",
       "      <td>0.159</td>\n",
       "      <td>0.294</td>\n",
       "    </tr>\n",
       "    <tr>\n",
       "      <th>sleep_report</th>\n",
       "      <td>1</td>\n",
       "      <td>0</td>\n",
       "      <td>0.020</td>\n",
       "      <td>0.013</td>\n",
       "      <td>0.129</td>\n",
       "    </tr>\n",
       "    <tr>\n",
       "      <th>sleep_report</th>\n",
       "      <td>1</td>\n",
       "      <td>1</td>\n",
       "      <td>-0.016</td>\n",
       "      <td>0.011</td>\n",
       "      <td>0.149</td>\n",
       "    </tr>\n",
       "    <tr>\n",
       "      <th>happy</th>\n",
       "      <td>0</td>\n",
       "      <td>0</td>\n",
       "      <td>-0.042</td>\n",
       "      <td>0.073</td>\n",
       "      <td>0.566</td>\n",
       "    </tr>\n",
       "    <tr>\n",
       "      <th>happy</th>\n",
       "      <td>0</td>\n",
       "      <td>1</td>\n",
       "      <td>0.043</td>\n",
       "      <td>0.066</td>\n",
       "      <td>0.514</td>\n",
       "    </tr>\n",
       "    <tr>\n",
       "      <th>happy</th>\n",
       "      <td>1</td>\n",
       "      <td>0</td>\n",
       "      <td>0.004</td>\n",
       "      <td>0.068</td>\n",
       "      <td>0.956</td>\n",
       "    </tr>\n",
       "    <tr>\n",
       "      <th>happy</th>\n",
       "      <td>1</td>\n",
       "      <td>1</td>\n",
       "      <td>0.203</td>\n",
       "      <td>0.069</td>\n",
       "      <td>0.003</td>\n",
       "    </tr>\n",
       "    <tr>\n",
       "      <th>cog</th>\n",
       "      <td>0</td>\n",
       "      <td>0</td>\n",
       "      <td>0.116</td>\n",
       "      <td>0.115</td>\n",
       "      <td>0.312</td>\n",
       "    </tr>\n",
       "    <tr>\n",
       "      <th>cog</th>\n",
       "      <td>0</td>\n",
       "      <td>1</td>\n",
       "      <td>0.169</td>\n",
       "      <td>0.105</td>\n",
       "      <td>0.106</td>\n",
       "    </tr>\n",
       "    <tr>\n",
       "      <th>cog</th>\n",
       "      <td>1</td>\n",
       "      <td>0</td>\n",
       "      <td>-0.027</td>\n",
       "      <td>0.102</td>\n",
       "      <td>0.788</td>\n",
       "    </tr>\n",
       "    <tr>\n",
       "      <th>cog</th>\n",
       "      <td>1</td>\n",
       "      <td>1</td>\n",
       "      <td>-0.148</td>\n",
       "      <td>0.122</td>\n",
       "      <td>0.228</td>\n",
       "    </tr>\n",
       "    <tr>\n",
       "      <th>typing_time_hr</th>\n",
       "      <td>0</td>\n",
       "      <td>0</td>\n",
       "      <td>0.295</td>\n",
       "      <td>0.242</td>\n",
       "      <td>0.223</td>\n",
       "    </tr>\n",
       "    <tr>\n",
       "      <th>typing_time_hr</th>\n",
       "      <td>0</td>\n",
       "      <td>1</td>\n",
       "      <td>-0.256</td>\n",
       "      <td>0.207</td>\n",
       "      <td>0.218</td>\n",
       "    </tr>\n",
       "    <tr>\n",
       "      <th>typing_time_hr</th>\n",
       "      <td>1</td>\n",
       "      <td>0</td>\n",
       "      <td>-0.274</td>\n",
       "      <td>0.223</td>\n",
       "      <td>0.219</td>\n",
       "    </tr>\n",
       "    <tr>\n",
       "      <th>typing_time_hr</th>\n",
       "      <td>1</td>\n",
       "      <td>1</td>\n",
       "      <td>0.219</td>\n",
       "      <td>0.193</td>\n",
       "      <td>0.258</td>\n",
       "    </tr>\n",
       "  </tbody>\n",
       "</table>\n",
       "</div>"
      ],
      "text/plain": [
       "                e  s     tau     se      p\n",
       "depvar                                    \n",
       "nap_time_mins   0  0  11.516  0.584  0.000\n",
       "nap_time_mins   0  1  12.430  0.582  0.000\n",
       "nap_time_mins   1  0  10.873  0.585  0.000\n",
       "nap_time_mins   1  1  12.048  0.662  0.000\n",
       "sleep_report    0  0   0.005  0.016  0.760\n",
       "sleep_report    0  1   0.167  0.159  0.294\n",
       "sleep_report    1  0   0.020  0.013  0.129\n",
       "sleep_report    1  1  -0.016  0.011  0.149\n",
       "happy           0  0  -0.042  0.073  0.566\n",
       "happy           0  1   0.043  0.066  0.514\n",
       "happy           1  0   0.004  0.068  0.956\n",
       "happy           1  1   0.203  0.069  0.003\n",
       "cog             0  0   0.116  0.115  0.312\n",
       "cog             0  1   0.169  0.105  0.106\n",
       "cog             1  0  -0.027  0.102  0.788\n",
       "cog             1  1  -0.148  0.122  0.228\n",
       "typing_time_hr  0  0   0.295  0.242  0.223\n",
       "typing_time_hr  0  1  -0.256  0.207  0.218\n",
       "typing_time_hr  1  0  -0.274  0.223  0.219\n",
       "typing_time_hr  1  1   0.219  0.193  0.258"
      ]
     },
     "execution_count": 17,
     "metadata": {},
     "output_type": "execute_result"
    }
   ],
   "source": [
    "# Inicializar lista\n",
    "d = []\n",
    "\n",
    "# Efecto por esstrato a cada variable\n",
    "for y in Y:\n",
    "    for e, s in [(0,0),(0,1),(1,0),(1,1)]:\n",
    "        # Máscara\n",
    "        m = d2['e'].eq(e) & d2['s'].eq(s)\n",
    "        # ATE Neyman\n",
    "        d.append([e, s, m.sum(), m.sum() / len(d2), y] + neyman(d2[m], 'T_nap', y))\n",
    "\n",
    "# Resultados a tabla\n",
    "t = pd.DataFrame(data=d,\n",
    "                 columns=['e','s','ng','wg','depvar','indvar','tau','se','t','p'])\n",
    "t = t.set_index('depvar')\n",
    "\n",
    "\n",
    "# Visualizar resultados\n",
    "ates = [t[['e','s','tau','se','p']]]\n",
    "\n",
    "# Guardar resultados en lista para comparar más tarde\n",
    "ates[0].round(3)"
   ]
  },
  {
   "cell_type": "markdown",
   "id": "M6uh5l0Q-7QT",
   "metadata": {
    "id": "M6uh5l0Q-7QT"
   },
   "source": [
    "Efectos agregados"
   ]
  },
  {
   "cell_type": "code",
   "execution_count": 18,
   "id": "546696b9",
   "metadata": {
    "colab": {
     "base_uri": "https://localhost:8080/",
     "height": 744
    },
    "id": "546696b9",
    "outputId": "e809f891-ca10-44a7-a747-639fa5f6ea6d"
   },
   "outputs": [
    {
     "data": {
      "text/html": [
       "<div>\n",
       "<style scoped>\n",
       "    .dataframe tbody tr th:only-of-type {\n",
       "        vertical-align: middle;\n",
       "    }\n",
       "\n",
       "    .dataframe tbody tr th {\n",
       "        vertical-align: top;\n",
       "    }\n",
       "\n",
       "    .dataframe thead th {\n",
       "        text-align: right;\n",
       "    }\n",
       "</style>\n",
       "<table border=\"1\" class=\"dataframe\">\n",
       "  <thead>\n",
       "    <tr style=\"text-align: right;\">\n",
       "      <th></th>\n",
       "      <th>e</th>\n",
       "      <th>s</th>\n",
       "      <th>ng</th>\n",
       "      <th>wg</th>\n",
       "      <th>indvar</th>\n",
       "      <th>tau</th>\n",
       "      <th>se</th>\n",
       "      <th>t</th>\n",
       "      <th>p</th>\n",
       "    </tr>\n",
       "    <tr>\n",
       "      <th>depvar</th>\n",
       "      <th></th>\n",
       "      <th></th>\n",
       "      <th></th>\n",
       "      <th></th>\n",
       "      <th></th>\n",
       "      <th></th>\n",
       "      <th></th>\n",
       "      <th></th>\n",
       "      <th></th>\n",
       "    </tr>\n",
       "  </thead>\n",
       "  <tbody>\n",
       "    <tr>\n",
       "      <th>nap_time_mins</th>\n",
       "      <td>0</td>\n",
       "      <td>0</td>\n",
       "      <td>97</td>\n",
       "      <td>0.2343</td>\n",
       "      <td>T_nap</td>\n",
       "      <td>11.515575</td>\n",
       "      <td>0.583830</td>\n",
       "      <td>19.724206</td>\n",
       "      <td>0.000000</td>\n",
       "    </tr>\n",
       "    <tr>\n",
       "      <th>nap_time_mins</th>\n",
       "      <td>0</td>\n",
       "      <td>1</td>\n",
       "      <td>110</td>\n",
       "      <td>0.2657</td>\n",
       "      <td>T_nap</td>\n",
       "      <td>12.429982</td>\n",
       "      <td>0.582387</td>\n",
       "      <td>21.343177</td>\n",
       "      <td>0.000000</td>\n",
       "    </tr>\n",
       "    <tr>\n",
       "      <th>nap_time_mins</th>\n",
       "      <td>1</td>\n",
       "      <td>0</td>\n",
       "      <td>110</td>\n",
       "      <td>0.2657</td>\n",
       "      <td>T_nap</td>\n",
       "      <td>10.872531</td>\n",
       "      <td>0.585174</td>\n",
       "      <td>18.579995</td>\n",
       "      <td>0.000000</td>\n",
       "    </tr>\n",
       "    <tr>\n",
       "      <th>nap_time_mins</th>\n",
       "      <td>1</td>\n",
       "      <td>1</td>\n",
       "      <td>97</td>\n",
       "      <td>0.2343</td>\n",
       "      <td>T_nap</td>\n",
       "      <td>12.048105</td>\n",
       "      <td>0.661832</td>\n",
       "      <td>18.204162</td>\n",
       "      <td>0.000000</td>\n",
       "    </tr>\n",
       "    <tr>\n",
       "      <th>sleep_report</th>\n",
       "      <td>0</td>\n",
       "      <td>0</td>\n",
       "      <td>97</td>\n",
       "      <td>0.2343</td>\n",
       "      <td>T_nap</td>\n",
       "      <td>0.004796</td>\n",
       "      <td>0.015715</td>\n",
       "      <td>0.305166</td>\n",
       "      <td>0.760239</td>\n",
       "    </tr>\n",
       "    <tr>\n",
       "      <th>sleep_report</th>\n",
       "      <td>0</td>\n",
       "      <td>1</td>\n",
       "      <td>110</td>\n",
       "      <td>0.2657</td>\n",
       "      <td>T_nap</td>\n",
       "      <td>0.167233</td>\n",
       "      <td>0.159356</td>\n",
       "      <td>1.049430</td>\n",
       "      <td>0.293980</td>\n",
       "    </tr>\n",
       "    <tr>\n",
       "      <th>sleep_report</th>\n",
       "      <td>1</td>\n",
       "      <td>0</td>\n",
       "      <td>110</td>\n",
       "      <td>0.2657</td>\n",
       "      <td>T_nap</td>\n",
       "      <td>0.020378</td>\n",
       "      <td>0.013441</td>\n",
       "      <td>1.516124</td>\n",
       "      <td>0.129488</td>\n",
       "    </tr>\n",
       "    <tr>\n",
       "      <th>sleep_report</th>\n",
       "      <td>1</td>\n",
       "      <td>1</td>\n",
       "      <td>97</td>\n",
       "      <td>0.2343</td>\n",
       "      <td>T_nap</td>\n",
       "      <td>-0.016225</td>\n",
       "      <td>0.011250</td>\n",
       "      <td>-1.442270</td>\n",
       "      <td>0.149226</td>\n",
       "    </tr>\n",
       "    <tr>\n",
       "      <th>happy</th>\n",
       "      <td>0</td>\n",
       "      <td>0</td>\n",
       "      <td>97</td>\n",
       "      <td>0.2343</td>\n",
       "      <td>T_nap</td>\n",
       "      <td>-0.041606</td>\n",
       "      <td>0.072575</td>\n",
       "      <td>-0.573279</td>\n",
       "      <td>0.566456</td>\n",
       "    </tr>\n",
       "    <tr>\n",
       "      <th>happy</th>\n",
       "      <td>0</td>\n",
       "      <td>1</td>\n",
       "      <td>110</td>\n",
       "      <td>0.2657</td>\n",
       "      <td>T_nap</td>\n",
       "      <td>0.042800</td>\n",
       "      <td>0.065532</td>\n",
       "      <td>0.653119</td>\n",
       "      <td>0.513679</td>\n",
       "    </tr>\n",
       "    <tr>\n",
       "      <th>happy</th>\n",
       "      <td>1</td>\n",
       "      <td>0</td>\n",
       "      <td>110</td>\n",
       "      <td>0.2657</td>\n",
       "      <td>T_nap</td>\n",
       "      <td>0.003779</td>\n",
       "      <td>0.068058</td>\n",
       "      <td>0.055530</td>\n",
       "      <td>0.955716</td>\n",
       "    </tr>\n",
       "    <tr>\n",
       "      <th>happy</th>\n",
       "      <td>1</td>\n",
       "      <td>1</td>\n",
       "      <td>97</td>\n",
       "      <td>0.2343</td>\n",
       "      <td>T_nap</td>\n",
       "      <td>0.203292</td>\n",
       "      <td>0.068964</td>\n",
       "      <td>2.947807</td>\n",
       "      <td>0.003200</td>\n",
       "    </tr>\n",
       "    <tr>\n",
       "      <th>cog</th>\n",
       "      <td>0</td>\n",
       "      <td>0</td>\n",
       "      <td>97</td>\n",
       "      <td>0.2343</td>\n",
       "      <td>T_nap</td>\n",
       "      <td>0.116175</td>\n",
       "      <td>0.114956</td>\n",
       "      <td>1.010609</td>\n",
       "      <td>0.312204</td>\n",
       "    </tr>\n",
       "    <tr>\n",
       "      <th>cog</th>\n",
       "      <td>0</td>\n",
       "      <td>1</td>\n",
       "      <td>110</td>\n",
       "      <td>0.2657</td>\n",
       "      <td>T_nap</td>\n",
       "      <td>0.168791</td>\n",
       "      <td>0.104540</td>\n",
       "      <td>1.614601</td>\n",
       "      <td>0.106397</td>\n",
       "    </tr>\n",
       "    <tr>\n",
       "      <th>cog</th>\n",
       "      <td>1</td>\n",
       "      <td>0</td>\n",
       "      <td>110</td>\n",
       "      <td>0.2657</td>\n",
       "      <td>T_nap</td>\n",
       "      <td>-0.027278</td>\n",
       "      <td>0.101567</td>\n",
       "      <td>-0.268572</td>\n",
       "      <td>0.788259</td>\n",
       "    </tr>\n",
       "    <tr>\n",
       "      <th>cog</th>\n",
       "      <td>1</td>\n",
       "      <td>1</td>\n",
       "      <td>97</td>\n",
       "      <td>0.2343</td>\n",
       "      <td>T_nap</td>\n",
       "      <td>-0.147601</td>\n",
       "      <td>0.122467</td>\n",
       "      <td>-1.205230</td>\n",
       "      <td>0.228115</td>\n",
       "    </tr>\n",
       "    <tr>\n",
       "      <th>typing_time_hr</th>\n",
       "      <td>0</td>\n",
       "      <td>0</td>\n",
       "      <td>97</td>\n",
       "      <td>0.2343</td>\n",
       "      <td>T_nap</td>\n",
       "      <td>0.294834</td>\n",
       "      <td>0.242084</td>\n",
       "      <td>1.217900</td>\n",
       "      <td>0.223262</td>\n",
       "    </tr>\n",
       "    <tr>\n",
       "      <th>typing_time_hr</th>\n",
       "      <td>0</td>\n",
       "      <td>1</td>\n",
       "      <td>110</td>\n",
       "      <td>0.2657</td>\n",
       "      <td>T_nap</td>\n",
       "      <td>-0.255568</td>\n",
       "      <td>0.207500</td>\n",
       "      <td>-1.231654</td>\n",
       "      <td>0.218078</td>\n",
       "    </tr>\n",
       "    <tr>\n",
       "      <th>typing_time_hr</th>\n",
       "      <td>1</td>\n",
       "      <td>0</td>\n",
       "      <td>110</td>\n",
       "      <td>0.2657</td>\n",
       "      <td>T_nap</td>\n",
       "      <td>-0.274274</td>\n",
       "      <td>0.223011</td>\n",
       "      <td>-1.229869</td>\n",
       "      <td>0.218746</td>\n",
       "    </tr>\n",
       "    <tr>\n",
       "      <th>typing_time_hr</th>\n",
       "      <td>1</td>\n",
       "      <td>1</td>\n",
       "      <td>97</td>\n",
       "      <td>0.2343</td>\n",
       "      <td>T_nap</td>\n",
       "      <td>0.218573</td>\n",
       "      <td>0.193334</td>\n",
       "      <td>1.130544</td>\n",
       "      <td>0.258247</td>\n",
       "    </tr>\n",
       "  </tbody>\n",
       "</table>\n",
       "</div>"
      ],
      "text/plain": [
       "                e  s   ng      wg indvar        tau        se          t  \\\n",
       "depvar                                                                     \n",
       "nap_time_mins   0  0   97  0.2343  T_nap  11.515575  0.583830  19.724206   \n",
       "nap_time_mins   0  1  110  0.2657  T_nap  12.429982  0.582387  21.343177   \n",
       "nap_time_mins   1  0  110  0.2657  T_nap  10.872531  0.585174  18.579995   \n",
       "nap_time_mins   1  1   97  0.2343  T_nap  12.048105  0.661832  18.204162   \n",
       "sleep_report    0  0   97  0.2343  T_nap   0.004796  0.015715   0.305166   \n",
       "sleep_report    0  1  110  0.2657  T_nap   0.167233  0.159356   1.049430   \n",
       "sleep_report    1  0  110  0.2657  T_nap   0.020378  0.013441   1.516124   \n",
       "sleep_report    1  1   97  0.2343  T_nap  -0.016225  0.011250  -1.442270   \n",
       "happy           0  0   97  0.2343  T_nap  -0.041606  0.072575  -0.573279   \n",
       "happy           0  1  110  0.2657  T_nap   0.042800  0.065532   0.653119   \n",
       "happy           1  0  110  0.2657  T_nap   0.003779  0.068058   0.055530   \n",
       "happy           1  1   97  0.2343  T_nap   0.203292  0.068964   2.947807   \n",
       "cog             0  0   97  0.2343  T_nap   0.116175  0.114956   1.010609   \n",
       "cog             0  1  110  0.2657  T_nap   0.168791  0.104540   1.614601   \n",
       "cog             1  0  110  0.2657  T_nap  -0.027278  0.101567  -0.268572   \n",
       "cog             1  1   97  0.2343  T_nap  -0.147601  0.122467  -1.205230   \n",
       "typing_time_hr  0  0   97  0.2343  T_nap   0.294834  0.242084   1.217900   \n",
       "typing_time_hr  0  1  110  0.2657  T_nap  -0.255568  0.207500  -1.231654   \n",
       "typing_time_hr  1  0  110  0.2657  T_nap  -0.274274  0.223011  -1.229869   \n",
       "typing_time_hr  1  1   97  0.2343  T_nap   0.218573  0.193334   1.130544   \n",
       "\n",
       "                       p  \n",
       "depvar                    \n",
       "nap_time_mins   0.000000  \n",
       "nap_time_mins   0.000000  \n",
       "nap_time_mins   0.000000  \n",
       "nap_time_mins   0.000000  \n",
       "sleep_report    0.760239  \n",
       "sleep_report    0.293980  \n",
       "sleep_report    0.129488  \n",
       "sleep_report    0.149226  \n",
       "happy           0.566456  \n",
       "happy           0.513679  \n",
       "happy           0.955716  \n",
       "happy           0.003200  \n",
       "cog             0.312204  \n",
       "cog             0.106397  \n",
       "cog             0.788259  \n",
       "cog             0.228115  \n",
       "typing_time_hr  0.223262  \n",
       "typing_time_hr  0.218078  \n",
       "typing_time_hr  0.218746  \n",
       "typing_time_hr  0.258247  "
      ]
     },
     "execution_count": 18,
     "metadata": {},
     "output_type": "execute_result"
    }
   ],
   "source": [
    "# t = t['tau'].multiply(t['wg']).groupby(t.index.get_level_values(0)).sum().to_frame(name='tau')\n",
    "t"
   ]
  },
  {
   "cell_type": "code",
   "execution_count": 19,
   "id": "1246b20c",
   "metadata": {
    "id": "1246b20c"
   },
   "outputs": [],
   "source": [
    "# To latex\n",
    "# print(t.to_latex(float_format='%.3f', caption='Efectos agregados', label='t1.4_ates'))"
   ]
  },
  {
   "cell_type": "markdown",
   "id": "lFW-SrlP-_LA",
   "metadata": {
    "id": "lFW-SrlP-_LA"
   },
   "source": [
    "#### c) Efectos estratificados con OLS\n",
    "$$Y_i = \\beta_0 + \\beta_1 T_i + \\beta_2 s_i + \\beta_3 s_i T_i + \\beta_4 e_i + \\beta_5 e_i T_i + \\beta_6 s_i e_i + \\beta_7 s_i e_i T_i + U_i$$"
   ]
  },
  {
   "cell_type": "code",
   "execution_count": 20,
   "id": "fc2db3cb",
   "metadata": {
    "colab": {
     "base_uri": "https://localhost:8080/",
     "height": 744
    },
    "id": "fc2db3cb",
    "outputId": "27ce26bc-d880-4475-df1f-95f95da771ed"
   },
   "outputs": [
    {
     "data": {
      "text/html": [
       "<div>\n",
       "<style scoped>\n",
       "    .dataframe tbody tr th:only-of-type {\n",
       "        vertical-align: middle;\n",
       "    }\n",
       "\n",
       "    .dataframe tbody tr th {\n",
       "        vertical-align: top;\n",
       "    }\n",
       "\n",
       "    .dataframe thead th {\n",
       "        text-align: right;\n",
       "    }\n",
       "</style>\n",
       "<table border=\"1\" class=\"dataframe\">\n",
       "  <thead>\n",
       "    <tr style=\"text-align: right;\">\n",
       "      <th></th>\n",
       "      <th>beta</th>\n",
       "      <th>value</th>\n",
       "      <th>bse</th>\n",
       "      <th>p</th>\n",
       "    </tr>\n",
       "    <tr>\n",
       "      <th>depvar</th>\n",
       "      <th></th>\n",
       "      <th></th>\n",
       "      <th></th>\n",
       "      <th></th>\n",
       "    </tr>\n",
       "  </thead>\n",
       "  <tbody>\n",
       "    <tr>\n",
       "      <th>nap_time_mins</th>\n",
       "      <td>T_nap</td>\n",
       "      <td>11.516</td>\n",
       "      <td>0.578</td>\n",
       "      <td>0.000</td>\n",
       "    </tr>\n",
       "    <tr>\n",
       "      <th>nap_time_mins</th>\n",
       "      <td>I(s * T_nap)</td>\n",
       "      <td>0.914</td>\n",
       "      <td>0.816</td>\n",
       "      <td>0.263</td>\n",
       "    </tr>\n",
       "    <tr>\n",
       "      <th>nap_time_mins</th>\n",
       "      <td>I(e * T_nap)</td>\n",
       "      <td>-0.643</td>\n",
       "      <td>0.818</td>\n",
       "      <td>0.432</td>\n",
       "    </tr>\n",
       "    <tr>\n",
       "      <th>nap_time_mins</th>\n",
       "      <td>I(e * s * T_nap)</td>\n",
       "      <td>0.261</td>\n",
       "      <td>1.197</td>\n",
       "      <td>0.827</td>\n",
       "    </tr>\n",
       "    <tr>\n",
       "      <th>sleep_report</th>\n",
       "      <td>T_nap</td>\n",
       "      <td>0.005</td>\n",
       "      <td>0.016</td>\n",
       "      <td>0.758</td>\n",
       "    </tr>\n",
       "    <tr>\n",
       "      <th>sleep_report</th>\n",
       "      <td>I(s * T_nap)</td>\n",
       "      <td>0.162</td>\n",
       "      <td>0.159</td>\n",
       "      <td>0.306</td>\n",
       "    </tr>\n",
       "    <tr>\n",
       "      <th>sleep_report</th>\n",
       "      <td>I(e * T_nap)</td>\n",
       "      <td>0.016</td>\n",
       "      <td>0.020</td>\n",
       "      <td>0.447</td>\n",
       "    </tr>\n",
       "    <tr>\n",
       "      <th>sleep_report</th>\n",
       "      <td>I(e * s * T_nap)</td>\n",
       "      <td>-0.199</td>\n",
       "      <td>0.160</td>\n",
       "      <td>0.212</td>\n",
       "    </tr>\n",
       "    <tr>\n",
       "      <th>happy</th>\n",
       "      <td>T_nap</td>\n",
       "      <td>-0.042</td>\n",
       "      <td>0.072</td>\n",
       "      <td>0.562</td>\n",
       "    </tr>\n",
       "    <tr>\n",
       "      <th>happy</th>\n",
       "      <td>I(s * T_nap)</td>\n",
       "      <td>0.084</td>\n",
       "      <td>0.097</td>\n",
       "      <td>0.383</td>\n",
       "    </tr>\n",
       "    <tr>\n",
       "      <th>happy</th>\n",
       "      <td>I(e * T_nap)</td>\n",
       "      <td>0.045</td>\n",
       "      <td>0.099</td>\n",
       "      <td>0.645</td>\n",
       "    </tr>\n",
       "    <tr>\n",
       "      <th>happy</th>\n",
       "      <td>I(e * s * T_nap)</td>\n",
       "      <td>0.115</td>\n",
       "      <td>0.136</td>\n",
       "      <td>0.398</td>\n",
       "    </tr>\n",
       "    <tr>\n",
       "      <th>cog</th>\n",
       "      <td>T_nap</td>\n",
       "      <td>0.116</td>\n",
       "      <td>0.114</td>\n",
       "      <td>0.307</td>\n",
       "    </tr>\n",
       "    <tr>\n",
       "      <th>cog</th>\n",
       "      <td>I(s * T_nap)</td>\n",
       "      <td>0.053</td>\n",
       "      <td>0.154</td>\n",
       "      <td>0.732</td>\n",
       "    </tr>\n",
       "    <tr>\n",
       "      <th>cog</th>\n",
       "      <td>I(e * T_nap)</td>\n",
       "      <td>-0.143</td>\n",
       "      <td>0.152</td>\n",
       "      <td>0.345</td>\n",
       "    </tr>\n",
       "    <tr>\n",
       "      <th>cog</th>\n",
       "      <td>I(e * s * T_nap)</td>\n",
       "      <td>-0.173</td>\n",
       "      <td>0.220</td>\n",
       "      <td>0.432</td>\n",
       "    </tr>\n",
       "    <tr>\n",
       "      <th>typing_time_hr</th>\n",
       "      <td>T_nap</td>\n",
       "      <td>0.295</td>\n",
       "      <td>0.240</td>\n",
       "      <td>0.218</td>\n",
       "    </tr>\n",
       "    <tr>\n",
       "      <th>typing_time_hr</th>\n",
       "      <td>I(s * T_nap)</td>\n",
       "      <td>-0.550</td>\n",
       "      <td>0.316</td>\n",
       "      <td>0.081</td>\n",
       "    </tr>\n",
       "    <tr>\n",
       "      <th>typing_time_hr</th>\n",
       "      <td>I(e * T_nap)</td>\n",
       "      <td>-0.569</td>\n",
       "      <td>0.326</td>\n",
       "      <td>0.081</td>\n",
       "    </tr>\n",
       "    <tr>\n",
       "      <th>typing_time_hr</th>\n",
       "      <td>I(e * s * T_nap)</td>\n",
       "      <td>1.043</td>\n",
       "      <td>0.430</td>\n",
       "      <td>0.015</td>\n",
       "    </tr>\n",
       "  </tbody>\n",
       "</table>\n",
       "</div>"
      ],
      "text/plain": [
       "                            beta   value    bse      p\n",
       "depvar                                                \n",
       "nap_time_mins              T_nap  11.516  0.578  0.000\n",
       "nap_time_mins       I(s * T_nap)   0.914  0.816  0.263\n",
       "nap_time_mins       I(e * T_nap)  -0.643  0.818  0.432\n",
       "nap_time_mins   I(e * s * T_nap)   0.261  1.197  0.827\n",
       "sleep_report               T_nap   0.005  0.016  0.758\n",
       "sleep_report        I(s * T_nap)   0.162  0.159  0.306\n",
       "sleep_report        I(e * T_nap)   0.016  0.020  0.447\n",
       "sleep_report    I(e * s * T_nap)  -0.199  0.160  0.212\n",
       "happy                      T_nap  -0.042  0.072  0.562\n",
       "happy               I(s * T_nap)   0.084  0.097  0.383\n",
       "happy               I(e * T_nap)   0.045  0.099  0.645\n",
       "happy           I(e * s * T_nap)   0.115  0.136  0.398\n",
       "cog                        T_nap   0.116  0.114  0.307\n",
       "cog                 I(s * T_nap)   0.053  0.154  0.732\n",
       "cog                 I(e * T_nap)  -0.143  0.152  0.345\n",
       "cog             I(e * s * T_nap)  -0.173  0.220  0.432\n",
       "typing_time_hr             T_nap   0.295  0.240  0.218\n",
       "typing_time_hr      I(s * T_nap)  -0.550  0.316  0.081\n",
       "typing_time_hr      I(e * T_nap)  -0.569  0.326  0.081\n",
       "typing_time_hr  I(e * s * T_nap)   1.043  0.430  0.015"
      ]
     },
     "execution_count": 20,
     "metadata": {},
     "output_type": "execute_result"
    }
   ],
   "source": [
    "# Inicializar lista\n",
    "d = []\n",
    "\n",
    "# Regresión para todas las depvar\n",
    "for y in Y:\n",
    "    # Modelo\n",
    "    formula = f'{y} ~ T_nap + s + I(s*T_nap) + e + I(e*T_nap) + I(e*s) + I(e*s*T_nap)'\n",
    "    m = OLS.from_formula(formula=formula, data=d2).fit(cov_type='HC0')\n",
    "    # Results table\n",
    "    res = pd.concat([m.params, m.bse, m.tvalues, m.pvalues], axis=1).assign(depvar = y)\n",
    "    d.append(res)\n",
    "\n",
    "# Todos los modelos en una tabla\n",
    "t = pd.concat(d, axis=0).reset_index()\n",
    "t.columns = ['beta','value','bse','t','p','depvar']\n",
    "\n",
    "# Coeficientes relevantes\n",
    "t = t[t['beta'].isin(['T_nap','I(e * T_nap)','I(s * T_nap)','I(e * s * T_nap)'])]\n",
    "\n",
    "# Aesthetics\n",
    "t = t.set_index('depvar')\n",
    "\n",
    "# Agregar a `ates`\n",
    "ates.append(t[['beta','value','bse','p']])\n",
    "\n",
    "# Visualizar\n",
    "ates[1].round(3)"
   ]
  },
  {
   "cell_type": "markdown",
   "id": "a-q1Pd3uGUhK",
   "metadata": {
    "id": "a-q1Pd3uGUhK"
   },
   "source": [
    "Resultados a tabla"
   ]
  },
  {
   "cell_type": "code",
   "execution_count": 21,
   "id": "NtNs67qhGXSj",
   "metadata": {
    "colab": {
     "base_uri": "https://localhost:8080/",
     "height": 744
    },
    "id": "NtNs67qhGXSj",
    "outputId": "dc7bddc6-c74c-4b96-b1cf-bf682b24e1b1"
   },
   "outputs": [
    {
     "data": {
      "text/html": [
       "<div>\n",
       "<style scoped>\n",
       "    .dataframe tbody tr th:only-of-type {\n",
       "        vertical-align: middle;\n",
       "    }\n",
       "\n",
       "    .dataframe tbody tr th {\n",
       "        vertical-align: top;\n",
       "    }\n",
       "\n",
       "    .dataframe thead th {\n",
       "        text-align: right;\n",
       "    }\n",
       "</style>\n",
       "<table border=\"1\" class=\"dataframe\">\n",
       "  <thead>\n",
       "    <tr style=\"text-align: right;\">\n",
       "      <th></th>\n",
       "      <th></th>\n",
       "      <th></th>\n",
       "      <th>tau</th>\n",
       "      <th>se</th>\n",
       "      <th>p</th>\n",
       "      <th>beta</th>\n",
       "      <th>value</th>\n",
       "      <th>bse</th>\n",
       "      <th>p</th>\n",
       "    </tr>\n",
       "    <tr>\n",
       "      <th>depvar</th>\n",
       "      <th>e</th>\n",
       "      <th>s</th>\n",
       "      <th></th>\n",
       "      <th></th>\n",
       "      <th></th>\n",
       "      <th></th>\n",
       "      <th></th>\n",
       "      <th></th>\n",
       "      <th></th>\n",
       "    </tr>\n",
       "  </thead>\n",
       "  <tbody>\n",
       "    <tr>\n",
       "      <th rowspan=\"4\" valign=\"top\">nap_time_mins</th>\n",
       "      <th rowspan=\"2\" valign=\"top\">0</th>\n",
       "      <th>0</th>\n",
       "      <td>11.516</td>\n",
       "      <td>0.584</td>\n",
       "      <td>0.000</td>\n",
       "      <td>T_nap</td>\n",
       "      <td>11.516</td>\n",
       "      <td>0.578</td>\n",
       "      <td>0.000</td>\n",
       "    </tr>\n",
       "    <tr>\n",
       "      <th>1</th>\n",
       "      <td>12.430</td>\n",
       "      <td>0.582</td>\n",
       "      <td>0.000</td>\n",
       "      <td>I(s * T_nap)</td>\n",
       "      <td>0.914</td>\n",
       "      <td>0.816</td>\n",
       "      <td>0.263</td>\n",
       "    </tr>\n",
       "    <tr>\n",
       "      <th rowspan=\"2\" valign=\"top\">1</th>\n",
       "      <th>0</th>\n",
       "      <td>10.873</td>\n",
       "      <td>0.585</td>\n",
       "      <td>0.000</td>\n",
       "      <td>I(e * T_nap)</td>\n",
       "      <td>-0.643</td>\n",
       "      <td>0.818</td>\n",
       "      <td>0.432</td>\n",
       "    </tr>\n",
       "    <tr>\n",
       "      <th>1</th>\n",
       "      <td>12.048</td>\n",
       "      <td>0.662</td>\n",
       "      <td>0.000</td>\n",
       "      <td>I(e * s * T_nap)</td>\n",
       "      <td>0.261</td>\n",
       "      <td>1.197</td>\n",
       "      <td>0.827</td>\n",
       "    </tr>\n",
       "    <tr>\n",
       "      <th rowspan=\"4\" valign=\"top\">sleep_report</th>\n",
       "      <th rowspan=\"2\" valign=\"top\">0</th>\n",
       "      <th>0</th>\n",
       "      <td>0.005</td>\n",
       "      <td>0.016</td>\n",
       "      <td>0.760</td>\n",
       "      <td>T_nap</td>\n",
       "      <td>0.005</td>\n",
       "      <td>0.016</td>\n",
       "      <td>0.758</td>\n",
       "    </tr>\n",
       "    <tr>\n",
       "      <th>1</th>\n",
       "      <td>0.167</td>\n",
       "      <td>0.159</td>\n",
       "      <td>0.294</td>\n",
       "      <td>I(s * T_nap)</td>\n",
       "      <td>0.162</td>\n",
       "      <td>0.159</td>\n",
       "      <td>0.306</td>\n",
       "    </tr>\n",
       "    <tr>\n",
       "      <th rowspan=\"2\" valign=\"top\">1</th>\n",
       "      <th>0</th>\n",
       "      <td>0.020</td>\n",
       "      <td>0.013</td>\n",
       "      <td>0.129</td>\n",
       "      <td>I(e * T_nap)</td>\n",
       "      <td>0.016</td>\n",
       "      <td>0.020</td>\n",
       "      <td>0.447</td>\n",
       "    </tr>\n",
       "    <tr>\n",
       "      <th>1</th>\n",
       "      <td>-0.016</td>\n",
       "      <td>0.011</td>\n",
       "      <td>0.149</td>\n",
       "      <td>I(e * s * T_nap)</td>\n",
       "      <td>-0.199</td>\n",
       "      <td>0.160</td>\n",
       "      <td>0.212</td>\n",
       "    </tr>\n",
       "    <tr>\n",
       "      <th rowspan=\"4\" valign=\"top\">happy</th>\n",
       "      <th rowspan=\"2\" valign=\"top\">0</th>\n",
       "      <th>0</th>\n",
       "      <td>-0.042</td>\n",
       "      <td>0.073</td>\n",
       "      <td>0.566</td>\n",
       "      <td>T_nap</td>\n",
       "      <td>-0.042</td>\n",
       "      <td>0.072</td>\n",
       "      <td>0.562</td>\n",
       "    </tr>\n",
       "    <tr>\n",
       "      <th>1</th>\n",
       "      <td>0.043</td>\n",
       "      <td>0.066</td>\n",
       "      <td>0.514</td>\n",
       "      <td>I(s * T_nap)</td>\n",
       "      <td>0.084</td>\n",
       "      <td>0.097</td>\n",
       "      <td>0.383</td>\n",
       "    </tr>\n",
       "    <tr>\n",
       "      <th rowspan=\"2\" valign=\"top\">1</th>\n",
       "      <th>0</th>\n",
       "      <td>0.004</td>\n",
       "      <td>0.068</td>\n",
       "      <td>0.956</td>\n",
       "      <td>I(e * T_nap)</td>\n",
       "      <td>0.045</td>\n",
       "      <td>0.099</td>\n",
       "      <td>0.645</td>\n",
       "    </tr>\n",
       "    <tr>\n",
       "      <th>1</th>\n",
       "      <td>0.203</td>\n",
       "      <td>0.069</td>\n",
       "      <td>0.003</td>\n",
       "      <td>I(e * s * T_nap)</td>\n",
       "      <td>0.115</td>\n",
       "      <td>0.136</td>\n",
       "      <td>0.398</td>\n",
       "    </tr>\n",
       "    <tr>\n",
       "      <th rowspan=\"4\" valign=\"top\">cog</th>\n",
       "      <th rowspan=\"2\" valign=\"top\">0</th>\n",
       "      <th>0</th>\n",
       "      <td>0.116</td>\n",
       "      <td>0.115</td>\n",
       "      <td>0.312</td>\n",
       "      <td>T_nap</td>\n",
       "      <td>0.116</td>\n",
       "      <td>0.114</td>\n",
       "      <td>0.307</td>\n",
       "    </tr>\n",
       "    <tr>\n",
       "      <th>1</th>\n",
       "      <td>0.169</td>\n",
       "      <td>0.105</td>\n",
       "      <td>0.106</td>\n",
       "      <td>I(s * T_nap)</td>\n",
       "      <td>0.053</td>\n",
       "      <td>0.154</td>\n",
       "      <td>0.732</td>\n",
       "    </tr>\n",
       "    <tr>\n",
       "      <th rowspan=\"2\" valign=\"top\">1</th>\n",
       "      <th>0</th>\n",
       "      <td>-0.027</td>\n",
       "      <td>0.102</td>\n",
       "      <td>0.788</td>\n",
       "      <td>I(e * T_nap)</td>\n",
       "      <td>-0.143</td>\n",
       "      <td>0.152</td>\n",
       "      <td>0.345</td>\n",
       "    </tr>\n",
       "    <tr>\n",
       "      <th>1</th>\n",
       "      <td>-0.148</td>\n",
       "      <td>0.122</td>\n",
       "      <td>0.228</td>\n",
       "      <td>I(e * s * T_nap)</td>\n",
       "      <td>-0.173</td>\n",
       "      <td>0.220</td>\n",
       "      <td>0.432</td>\n",
       "    </tr>\n",
       "    <tr>\n",
       "      <th rowspan=\"4\" valign=\"top\">typing_time_hr</th>\n",
       "      <th rowspan=\"2\" valign=\"top\">0</th>\n",
       "      <th>0</th>\n",
       "      <td>0.295</td>\n",
       "      <td>0.242</td>\n",
       "      <td>0.223</td>\n",
       "      <td>T_nap</td>\n",
       "      <td>0.295</td>\n",
       "      <td>0.240</td>\n",
       "      <td>0.218</td>\n",
       "    </tr>\n",
       "    <tr>\n",
       "      <th>1</th>\n",
       "      <td>-0.256</td>\n",
       "      <td>0.207</td>\n",
       "      <td>0.218</td>\n",
       "      <td>I(s * T_nap)</td>\n",
       "      <td>-0.550</td>\n",
       "      <td>0.316</td>\n",
       "      <td>0.081</td>\n",
       "    </tr>\n",
       "    <tr>\n",
       "      <th rowspan=\"2\" valign=\"top\">1</th>\n",
       "      <th>0</th>\n",
       "      <td>-0.274</td>\n",
       "      <td>0.223</td>\n",
       "      <td>0.219</td>\n",
       "      <td>I(e * T_nap)</td>\n",
       "      <td>-0.569</td>\n",
       "      <td>0.326</td>\n",
       "      <td>0.081</td>\n",
       "    </tr>\n",
       "    <tr>\n",
       "      <th>1</th>\n",
       "      <td>0.219</td>\n",
       "      <td>0.193</td>\n",
       "      <td>0.258</td>\n",
       "      <td>I(e * s * T_nap)</td>\n",
       "      <td>1.043</td>\n",
       "      <td>0.430</td>\n",
       "      <td>0.015</td>\n",
       "    </tr>\n",
       "  </tbody>\n",
       "</table>\n",
       "</div>"
      ],
      "text/plain": [
       "                       tau     se      p              beta   value    bse  \\\n",
       "depvar         e s                                                          \n",
       "nap_time_mins  0 0  11.516  0.584  0.000             T_nap  11.516  0.578   \n",
       "                 1  12.430  0.582  0.000      I(s * T_nap)   0.914  0.816   \n",
       "               1 0  10.873  0.585  0.000      I(e * T_nap)  -0.643  0.818   \n",
       "                 1  12.048  0.662  0.000  I(e * s * T_nap)   0.261  1.197   \n",
       "sleep_report   0 0   0.005  0.016  0.760             T_nap   0.005  0.016   \n",
       "                 1   0.167  0.159  0.294      I(s * T_nap)   0.162  0.159   \n",
       "               1 0   0.020  0.013  0.129      I(e * T_nap)   0.016  0.020   \n",
       "                 1  -0.016  0.011  0.149  I(e * s * T_nap)  -0.199  0.160   \n",
       "happy          0 0  -0.042  0.073  0.566             T_nap  -0.042  0.072   \n",
       "                 1   0.043  0.066  0.514      I(s * T_nap)   0.084  0.097   \n",
       "               1 0   0.004  0.068  0.956      I(e * T_nap)   0.045  0.099   \n",
       "                 1   0.203  0.069  0.003  I(e * s * T_nap)   0.115  0.136   \n",
       "cog            0 0   0.116  0.115  0.312             T_nap   0.116  0.114   \n",
       "                 1   0.169  0.105  0.106      I(s * T_nap)   0.053  0.154   \n",
       "               1 0  -0.027  0.102  0.788      I(e * T_nap)  -0.143  0.152   \n",
       "                 1  -0.148  0.122  0.228  I(e * s * T_nap)  -0.173  0.220   \n",
       "typing_time_hr 0 0   0.295  0.242  0.223             T_nap   0.295  0.240   \n",
       "                 1  -0.256  0.207  0.218      I(s * T_nap)  -0.550  0.316   \n",
       "               1 0  -0.274  0.223  0.219      I(e * T_nap)  -0.569  0.326   \n",
       "                 1   0.219  0.193  0.258  I(e * s * T_nap)   1.043  0.430   \n",
       "\n",
       "                        p  \n",
       "depvar         e s         \n",
       "nap_time_mins  0 0  0.000  \n",
       "                 1  0.263  \n",
       "               1 0  0.432  \n",
       "                 1  0.827  \n",
       "sleep_report   0 0  0.758  \n",
       "                 1  0.306  \n",
       "               1 0  0.447  \n",
       "                 1  0.212  \n",
       "happy          0 0  0.562  \n",
       "                 1  0.383  \n",
       "               1 0  0.645  \n",
       "                 1  0.398  \n",
       "cog            0 0  0.307  \n",
       "                 1  0.732  \n",
       "               1 0  0.345  \n",
       "                 1  0.432  \n",
       "typing_time_hr 0 0  0.218  \n",
       "                 1  0.081  \n",
       "               1 0  0.081  \n",
       "                 1  0.015  "
      ]
     },
     "execution_count": 21,
     "metadata": {},
     "output_type": "execute_result"
    }
   ],
   "source": [
    "# Unir resultados\n",
    "t = pd.concat(ates, axis=1).reset_index()\n",
    "t = t.set_index(['depvar','e','s'])\n",
    "\n",
    "# Visualizar\n",
    "t.round(3)"
   ]
  },
  {
   "cell_type": "code",
   "execution_count": 22,
   "id": "b3a2cbd9",
   "metadata": {
    "id": "b3a2cbd9"
   },
   "outputs": [],
   "source": [
    "# print(t.to_latex(float_format='%.3f', caption='Efecto de tratamiento por estrato', label='t1.4_ates_g'))"
   ]
  },
  {
   "cell_type": "markdown",
   "id": "CH-S_ck8EgvX",
   "metadata": {
    "id": "CH-S_ck8EgvX"
   },
   "source": [
    "Los coeficientes estimados son idénticos. Por ejemplo, la diferencia de medias en `happy` para el estrato con ganancias debajo de la media y sueño arriba de la media es 0.043. Podemos obtener el mismo valor estimado si sumamos los coeficientes $T + s T = 0.043$.\n",
    "\n",
    "La única diferencia es en las pruebas de hipótesis. Mientras que con el estimador de Neyman solo tenemos que probar la hipótesis nula $H_0: \\hat{\\tau}_g = 0$, en el estimador con OLS tenemos que probar si la suma de los coeficientes que reconstruyen $\\hat{\\tau}_g$ es igual a cero usando un vector de restricción $l$.\n",
    "\n",
    "Los errores estándar de los estimadores por OLS serán distintos que por el método de Neyman, pero en general son parecidos entre sí. Esto lo podemos ver de manera intuitiva al ver los renglones que corresponden al grupo que gana y duerme por debajo de la mediana. Los $p$-values de ambos estimadores son parecidos.\n",
    "\n",
    "### 1.5. Atrición\n",
    "#### a) Reportar atrición"
   ]
  },
  {
   "cell_type": "code",
   "execution_count": 23,
   "id": "eC-UEM2iMUbT",
   "metadata": {
    "colab": {
     "base_uri": "https://localhost:8080/",
     "height": 150
    },
    "id": "eC-UEM2iMUbT",
    "outputId": "0e43958c-b71e-492c-f4c0-897aaafaaa48",
    "scrolled": true
   },
   "outputs": [
    {
     "data": {
      "text/html": [
       "<div>\n",
       "<style scoped>\n",
       "    .dataframe tbody tr th:only-of-type {\n",
       "        vertical-align: middle;\n",
       "    }\n",
       "\n",
       "    .dataframe tbody tr th {\n",
       "        vertical-align: top;\n",
       "    }\n",
       "\n",
       "    .dataframe thead th {\n",
       "        text-align: right;\n",
       "    }\n",
       "</style>\n",
       "<table border=\"1\" class=\"dataframe\">\n",
       "  <thead>\n",
       "    <tr style=\"text-align: right;\">\n",
       "      <th></th>\n",
       "      <th>size</th>\n",
       "      <th>sum</th>\n",
       "      <th>pct_int</th>\n",
       "      <th>pct_ext</th>\n",
       "    </tr>\n",
       "    <tr>\n",
       "      <th>T_nap</th>\n",
       "      <th></th>\n",
       "      <th></th>\n",
       "      <th></th>\n",
       "      <th></th>\n",
       "    </tr>\n",
       "  </thead>\n",
       "  <tbody>\n",
       "    <tr>\n",
       "      <th>0</th>\n",
       "      <td>209</td>\n",
       "      <td>81</td>\n",
       "      <td>38.76</td>\n",
       "      <td>19.57</td>\n",
       "    </tr>\n",
       "    <tr>\n",
       "      <th>1</th>\n",
       "      <td>205</td>\n",
       "      <td>23</td>\n",
       "      <td>11.22</td>\n",
       "      <td>5.56</td>\n",
       "    </tr>\n",
       "  </tbody>\n",
       "</table>\n",
       "</div>"
      ],
      "text/plain": [
       "       size  sum  pct_int  pct_ext\n",
       "T_nap                             \n",
       "0       209   81    38.76    19.57\n",
       "1       205   23    11.22     5.56"
      ]
     },
     "execution_count": 23,
     "metadata": {},
     "output_type": "execute_result"
    }
   ],
   "source": [
    "t = d2.groupby('T_nap')['drop_indicator'].agg(['size','sum'])\n",
    "t['pct_int'] = t['sum'].div(t['size']) * 100\n",
    "t['pct_ext'] = t['sum'].div(t['size'].sum()) * 100\n",
    "t.round(2)"
   ]
  },
  {
   "cell_type": "code",
   "execution_count": 24,
   "id": "adcd443c",
   "metadata": {
    "id": "adcd443c"
   },
   "outputs": [],
   "source": [
    "# print(t.to_latex(float_format='%.2f', caption='Atrición', label='t1.5_attritors'))"
   ]
  },
  {
   "cell_type": "markdown",
   "id": "LLZVrrPwMhDb",
   "metadata": {
    "id": "LLZVrrPwMhDb"
   },
   "source": [
    "#### b) Nuevo balance\n",
    "Validez interna"
   ]
  },
  {
   "cell_type": "code",
   "execution_count": 25,
   "id": "qUvzp87XNUcK",
   "metadata": {
    "colab": {
     "base_uri": "https://localhost:8080/",
     "height": 414
    },
    "id": "qUvzp87XNUcK",
    "outputId": "7b8809fc-39b6-42fb-f06c-472f7e4f86b1"
   },
   "outputs": [
    {
     "data": {
      "text/html": [
       "<div>\n",
       "<style scoped>\n",
       "    .dataframe tbody tr th:only-of-type {\n",
       "        vertical-align: middle;\n",
       "    }\n",
       "\n",
       "    .dataframe tbody tr th {\n",
       "        vertical-align: top;\n",
       "    }\n",
       "\n",
       "    .dataframe thead th {\n",
       "        text-align: right;\n",
       "    }\n",
       "</style>\n",
       "<table border=\"1\" class=\"dataframe\">\n",
       "  <thead>\n",
       "    <tr style=\"text-align: right;\">\n",
       "      <th></th>\n",
       "      <th>t</th>\n",
       "      <th>p</th>\n",
       "    </tr>\n",
       "    <tr>\n",
       "      <th>variable</th>\n",
       "      <th></th>\n",
       "      <th></th>\n",
       "    </tr>\n",
       "  </thead>\n",
       "  <tbody>\n",
       "    <tr>\n",
       "      <th>time_in_office</th>\n",
       "      <td>-1.526</td>\n",
       "      <td>0.128</td>\n",
       "    </tr>\n",
       "    <tr>\n",
       "      <th>age_</th>\n",
       "      <td>0.455</td>\n",
       "      <td>0.650</td>\n",
       "    </tr>\n",
       "    <tr>\n",
       "      <th>female_</th>\n",
       "      <td>0.577</td>\n",
       "      <td>0.564</td>\n",
       "    </tr>\n",
       "    <tr>\n",
       "      <th>education_</th>\n",
       "      <td>-3.256</td>\n",
       "      <td>0.001</td>\n",
       "    </tr>\n",
       "    <tr>\n",
       "      <th>sleep_report</th>\n",
       "      <td>1.050</td>\n",
       "      <td>0.295</td>\n",
       "    </tr>\n",
       "    <tr>\n",
       "      <th>no_of_children_</th>\n",
       "      <td>1.989</td>\n",
       "      <td>0.048</td>\n",
       "    </tr>\n",
       "    <tr>\n",
       "      <th>act_inbed</th>\n",
       "      <td>0.902</td>\n",
       "      <td>0.368</td>\n",
       "    </tr>\n",
       "    <tr>\n",
       "      <th>an_12_number_of_awakenings</th>\n",
       "      <td>0.429</td>\n",
       "      <td>0.668</td>\n",
       "    </tr>\n",
       "    <tr>\n",
       "      <th>an_13_average_awakening_length</th>\n",
       "      <td>0.492</td>\n",
       "      <td>0.623</td>\n",
       "    </tr>\n",
       "    <tr>\n",
       "      <th>unemployed</th>\n",
       "      <td>0.864</td>\n",
       "      <td>0.388</td>\n",
       "    </tr>\n",
       "  </tbody>\n",
       "</table>\n",
       "</div>"
      ],
      "text/plain": [
       "                                    t      p\n",
       "variable                                    \n",
       "time_in_office                 -1.526  0.128\n",
       "age_                            0.455  0.650\n",
       "female_                         0.577  0.564\n",
       "education_                     -3.256  0.001\n",
       "sleep_report                    1.050  0.295\n",
       "no_of_children_                 1.989  0.048\n",
       "act_inbed                       0.902  0.368\n",
       "an_12_number_of_awakenings      0.429  0.668\n",
       "an_13_average_awakening_length  0.492  0.623\n",
       "unemployed                      0.864  0.388"
      ]
     },
     "execution_count": 25,
     "metadata": {},
     "output_type": "execute_result"
    }
   ],
   "source": [
    "# Variables dependientes\n",
    "X = ['time_in_office','age_','female_','education_','sleep_report','no_of_children_','act_inbed',\n",
    "     'an_12_number_of_awakenings','an_13_average_awakening_length','unemployed']\n",
    "\n",
    "# Tabla de balance\n",
    "d = []\n",
    "for x in X:\n",
    "    b, a = d1[d1['drop_indicator'].eq(0)].groupby('T_nap')[x].apply(np.array)\n",
    "    test = stats.ttest_ind(a=a, b=b, equal_var=False, nan_policy='omit')\n",
    "    d.append([x] + list(test))\n",
    "\n",
    "# A tabla\n",
    "t = pd.DataFrame(data=d, columns=['variable','t','p']).set_index('variable')\n",
    "t.round(3)"
   ]
  },
  {
   "cell_type": "code",
   "execution_count": 26,
   "id": "d9ed1355",
   "metadata": {
    "id": "d9ed1355"
   },
   "outputs": [],
   "source": [
    "# print(t.to_latex(float_format='%.3f', caption='Validez interna', label='t1.5_internal'))"
   ]
  },
  {
   "cell_type": "markdown",
   "id": "SZErnC7pMCNj",
   "metadata": {
    "id": "SZErnC7pMCNj"
   },
   "source": [
    "Prueba conjunta"
   ]
  },
  {
   "cell_type": "code",
   "execution_count": 27,
   "id": "0759b7d1",
   "metadata": {
    "colab": {
     "base_uri": "https://localhost:8080/"
    },
    "id": "0759b7d1",
    "outputId": "254f3788-3b5c-422f-c70a-56b2d74d9d0b"
   },
   "outputs": [
    {
     "name": "stdout",
     "output_type": "stream",
     "text": [
      "p-value de significancia conjunta: 0.0\n"
     ]
    }
   ],
   "source": [
    "m = OLS(endog=d2.loc[d2['drop_indicator'].eq(0), 'T_nap'],\n",
    "        exog=d2.loc[d2['drop_indicator'].eq(0), X].assign(const = 1),\n",
    "        missing='drop').fit(cov_type='HC0')\n",
    "print(f'p-value de significancia conjunta: {round(m.f_pvalue.item(), 3)}')"
   ]
  },
  {
   "cell_type": "markdown",
   "id": "WwOgaRHULR4V",
   "metadata": {
    "id": "WwOgaRHULR4V"
   },
   "source": [
    "Sí tenemos un problema de validez interna porque después de la atrición los niveles promedio de educación y número de hijos son estadísticamente distintos entre los grupos de tratamiento y control. Si hacemos un $F$-test de significancia conjunta, rechazamos la hipótesis de que todos los coeficientes sean simultáneamente iguales a cero porque el $p$-value de la prueba es 0.095.\n",
    "\n",
    "Validez externa"
   ]
  },
  {
   "cell_type": "code",
   "execution_count": 28,
   "id": "SsPmAQNoSCPm",
   "metadata": {
    "colab": {
     "base_uri": "https://localhost:8080/",
     "height": 414
    },
    "id": "SsPmAQNoSCPm",
    "outputId": "f7157fc6-2e90-454a-fa8f-b4f0db2e39a3"
   },
   "outputs": [
    {
     "data": {
      "text/html": [
       "<div>\n",
       "<style scoped>\n",
       "    .dataframe tbody tr th:only-of-type {\n",
       "        vertical-align: middle;\n",
       "    }\n",
       "\n",
       "    .dataframe tbody tr th {\n",
       "        vertical-align: top;\n",
       "    }\n",
       "\n",
       "    .dataframe thead th {\n",
       "        text-align: right;\n",
       "    }\n",
       "</style>\n",
       "<table border=\"1\" class=\"dataframe\">\n",
       "  <thead>\n",
       "    <tr style=\"text-align: right;\">\n",
       "      <th></th>\n",
       "      <th>t</th>\n",
       "      <th>p</th>\n",
       "    </tr>\n",
       "    <tr>\n",
       "      <th>variable</th>\n",
       "      <th></th>\n",
       "      <th></th>\n",
       "    </tr>\n",
       "  </thead>\n",
       "  <tbody>\n",
       "    <tr>\n",
       "      <th>time_in_office</th>\n",
       "      <td>-3.294</td>\n",
       "      <td>0.001</td>\n",
       "    </tr>\n",
       "    <tr>\n",
       "      <th>age_</th>\n",
       "      <td>-2.389</td>\n",
       "      <td>0.018</td>\n",
       "    </tr>\n",
       "    <tr>\n",
       "      <th>female_</th>\n",
       "      <td>4.885</td>\n",
       "      <td>0.000</td>\n",
       "    </tr>\n",
       "    <tr>\n",
       "      <th>education_</th>\n",
       "      <td>-2.225</td>\n",
       "      <td>0.027</td>\n",
       "    </tr>\n",
       "    <tr>\n",
       "      <th>sleep_report</th>\n",
       "      <td>-1.078</td>\n",
       "      <td>0.282</td>\n",
       "    </tr>\n",
       "    <tr>\n",
       "      <th>no_of_children_</th>\n",
       "      <td>4.444</td>\n",
       "      <td>0.000</td>\n",
       "    </tr>\n",
       "    <tr>\n",
       "      <th>act_inbed</th>\n",
       "      <td>-1.335</td>\n",
       "      <td>0.183</td>\n",
       "    </tr>\n",
       "    <tr>\n",
       "      <th>an_12_number_of_awakenings</th>\n",
       "      <td>-0.262</td>\n",
       "      <td>0.793</td>\n",
       "    </tr>\n",
       "    <tr>\n",
       "      <th>an_13_average_awakening_length</th>\n",
       "      <td>-0.586</td>\n",
       "      <td>0.558</td>\n",
       "    </tr>\n",
       "    <tr>\n",
       "      <th>unemployed</th>\n",
       "      <td>1.538</td>\n",
       "      <td>0.126</td>\n",
       "    </tr>\n",
       "  </tbody>\n",
       "</table>\n",
       "</div>"
      ],
      "text/plain": [
       "                                    t      p\n",
       "variable                                    \n",
       "time_in_office                 -3.294  0.001\n",
       "age_                           -2.389  0.018\n",
       "female_                         4.885  0.000\n",
       "education_                     -2.225  0.027\n",
       "sleep_report                   -1.078  0.282\n",
       "no_of_children_                 4.444  0.000\n",
       "act_inbed                      -1.335  0.183\n",
       "an_12_number_of_awakenings     -0.262  0.793\n",
       "an_13_average_awakening_length -0.586  0.558\n",
       "unemployed                      1.538  0.126"
      ]
     },
     "execution_count": 28,
     "metadata": {},
     "output_type": "execute_result"
    }
   ],
   "source": [
    "# Probar si diferencia es significativa\n",
    "d = []\n",
    "for x in X:\n",
    "    b, a = d1.groupby('drop_indicator')[x].apply(np.array)\n",
    "    test = stats.ttest_ind(a=a, b=b, equal_var=False, nan_policy='omit')\n",
    "    d.append([x] + list(test))\n",
    "\n",
    "# Resultados a tabla\n",
    "t = pd.DataFrame(data=d, columns=['variable','t','p']).set_index('variable')\n",
    "t.round(3)"
   ]
  },
  {
   "cell_type": "code",
   "execution_count": 29,
   "id": "65a2b220",
   "metadata": {
    "id": "65a2b220"
   },
   "outputs": [],
   "source": [
    "# print(t.to_latex(float_format='%.3f', caption='Validez externa', label='t1.5_external'))"
   ]
  },
  {
   "cell_type": "markdown",
   "id": "93Z_5pV_NST5",
   "metadata": {
    "id": "93Z_5pV_NST5"
   },
   "source": [
    "Prueba de significancia conjunta"
   ]
  },
  {
   "cell_type": "code",
   "execution_count": 30,
   "id": "1IohJRGdNUdK",
   "metadata": {
    "colab": {
     "base_uri": "https://localhost:8080/"
    },
    "id": "1IohJRGdNUdK",
    "outputId": "c9cbf5b3-a0f9-435b-886c-4d4b2db83f50"
   },
   "outputs": [
    {
     "data": {
      "text/plain": [
       "0.0"
      ]
     },
     "execution_count": 30,
     "metadata": {},
     "output_type": "execute_result"
    }
   ],
   "source": [
    "m = OLS(endog=d1['drop_indicator'], exog=d1[X].assign(const = 1)).fit(cov_type='HC0')\n",
    "round(m.f_pvalue.item(0), 3)"
   ]
  },
  {
   "cell_type": "markdown",
   "id": "IEM0OS9kUMBk",
   "metadata": {
    "id": "IEM0OS9kUMBk"
   },
   "source": [
    "La atrición parece no haber afectado la validez externa de la muestra. Usando las pruebas individuales, la atrición tiene un $p$-value bajo para el número de hijos y mujeres. Sin embargo, ambas variables carecen de significancia estadística al 10%. Asimismo, la prueba conjunta resulta en un $p$-value muy cercano a cero, por lo que no podemos rechazar que todos los coeficientes sean distintos de cero simultáneamente. Es decir, parece que no existe un problema de validez externa.\n",
    "\n",
    "#### c) Conclusión\n",
    "La atrición fue sistemática entre el grupo de tratamiento y de control. Es decir, parece que el nivel de educación y el número de hijos determinan si alguien abandona o no el experimento. Esto nos lleva a un problema de validez interna porque los grupos de tratamiento y control después de la atrición no están balanceados.\n",
    "\n",
    "Sin embargo, parece que la atrición no afectó la validez externa de la muestra, pues parece que las personas que abandonaron el estudio no afectaron las distribuciones de las variables de control. Ninguna de las 10 variables muestra una diferencia significativa antes y después de la atrición.\n",
    "\n",
    "### 5. Lee Bounds\n",
    "#### a) Perfiles\n",
    "- Always Respondents: $S_i$ = 1 sin importar $T_i$\n",
    "- Never Respondents: $S_i$ = 0 sin importar $T_i$\n",
    "- Selective Respondents: $T_i = 0 \\implies S_i = 0$, $T_i = 1 \\implies S_i = 1$\n",
    "- Counter-Selective Respondents: $T_i = 0 \\implies S_i = 1$, $T_i = 1 \\implies S_i = 0$\n",
    "\n",
    "El supuesto de monotonicidad es que no existe alguno de los dos grupos de respuesta selectiva. En el contexto de este experimento, tiene sentido asumir que los Counter-Selective Respondents no existen porque el tratamiento es algo *bueno*. Es decir, si a alguien le toca tomar una siesta durante sus horas de trabajo, es razonable pensar que el tratamiento es algo deseable y por ende no incentivaría a los individuos a abandonar el experimento."
   ]
  },
  {
   "cell_type": "code",
   "execution_count": 31,
   "id": "WY67mJbVUUje",
   "metadata": {
    "colab": {
     "base_uri": "https://localhost:8080/",
     "height": 150
    },
    "id": "WY67mJbVUUje",
    "outputId": "2eee071c-31e5-4b9d-9a1d-e001939923d2"
   },
   "outputs": [
    {
     "data": {
      "text/html": [
       "<div>\n",
       "<style scoped>\n",
       "    .dataframe tbody tr th:only-of-type {\n",
       "        vertical-align: middle;\n",
       "    }\n",
       "\n",
       "    .dataframe tbody tr th {\n",
       "        vertical-align: top;\n",
       "    }\n",
       "\n",
       "    .dataframe thead th {\n",
       "        text-align: right;\n",
       "    }\n",
       "</style>\n",
       "<table border=\"1\" class=\"dataframe\">\n",
       "  <thead>\n",
       "    <tr style=\"text-align: right;\">\n",
       "      <th>T_nap</th>\n",
       "      <th>0</th>\n",
       "      <th>1</th>\n",
       "    </tr>\n",
       "    <tr>\n",
       "      <th>S</th>\n",
       "      <th></th>\n",
       "      <th></th>\n",
       "    </tr>\n",
       "  </thead>\n",
       "  <tbody>\n",
       "    <tr>\n",
       "      <th>0</th>\n",
       "      <td>81</td>\n",
       "      <td>23</td>\n",
       "    </tr>\n",
       "    <tr>\n",
       "      <th>1</th>\n",
       "      <td>128</td>\n",
       "      <td>182</td>\n",
       "    </tr>\n",
       "  </tbody>\n",
       "</table>\n",
       "</div>"
      ],
      "text/plain": [
       "T_nap    0    1\n",
       "S              \n",
       "0       81   23\n",
       "1      128  182"
      ]
     },
     "execution_count": 31,
     "metadata": {},
     "output_type": "execute_result"
    }
   ],
   "source": [
    "# Columna S_i\n",
    "d2['S'] = 1 - d2['drop_indicator']\n",
    "\n",
    "# Casos\n",
    "t = d2.groupby(['T_nap','S']).size()\n",
    "t.unstack().transpose()"
   ]
  },
  {
   "cell_type": "markdown",
   "id": "eh7_SNr7PFu8",
   "metadata": {
    "id": "eh7_SNr7PFu8"
   },
   "source": [
    "Calcular probabilidades"
   ]
  },
  {
   "cell_type": "code",
   "execution_count": 32,
   "id": "003ebdea",
   "metadata": {
    "colab": {
     "base_uri": "https://localhost:8080/"
    },
    "id": "003ebdea",
    "outputId": "c8cb6d45-a22c-4b2e-a32c-6056ea1c9d8d"
   },
   "outputs": [
    {
     "name": "stdout",
     "output_type": "stream",
     "text": [
      "P(AR) = 0.6124401913875598\n",
      "P(SR) = 0.2753646866612207\n",
      "P(NR) = 0.1121951219512195\n"
     ]
    }
   ],
   "source": [
    "# P(AR|T=0)\n",
    "par = 128 / (81 + 128)\n",
    "\n",
    "# P(SR|T=1)\n",
    "psr = 182 / (182 + 23) - par\n",
    "\n",
    "# Probabilidades\n",
    "print(f'P(AR) = {par}', f'P(SR) = {psr}', f'P(NR) = {1 - (par + psr)}', sep='\\n')"
   ]
  },
  {
   "cell_type": "markdown",
   "id": "effdd023",
   "metadata": {
    "id": "effdd023"
   },
   "source": [
    "\n",
    "\n",
    "#### b) Lee Bounds"
   ]
  },
  {
   "cell_type": "code",
   "execution_count": 33,
   "id": "684ccda0",
   "metadata": {
    "colab": {
     "base_uri": "https://localhost:8080/"
    },
    "id": "684ccda0",
    "outputId": "07f05d98-bcfd-4927-c135-85f8407cbf7d"
   },
   "outputs": [
    {
     "name": "stdout",
     "output_type": "stream",
     "text": [
      "El ATE de los AR está en [(-1858.4751832238417, -155.46837118441272)]\n"
     ]
    }
   ],
   "source": [
    "# P(AR|S=1)\n",
    "# par_s = par / d2['S'].mean()\n",
    "par_s = par / (par + psr)\n",
    "\n",
    "# Arreglos trat-cont dado S=1\n",
    "a, b = d2[d2['S'].eq(1)].groupby('T_nap')['productivity'].apply(np.array)\n",
    "\n",
    "# Lower bound\n",
    "lb = b[b <= np.quantile(b, par_s)].mean() - a.mean()\n",
    "\n",
    "# Upper bound\n",
    "ub = b[b >= np.quantile(b, 1 - par_s)].mean() - a.mean()\n",
    "\n",
    "# Bounds\n",
    "print(f'El ATE de los AR está en [{lb, ub}]')"
   ]
  },
  {
   "cell_type": "markdown",
   "id": "532fff46",
   "metadata": {
    "id": "532fff46"
   },
   "source": [
    "#### c) Comparación\n",
    "Los resultados de la pregunta 2 no tienen por qué estar centrados en los Lee Bounds porque estiman el efecto para toda la población, mientras que el intervalo de esta pregunta acota el efecto de tratamiento para los Always Respondents.\n",
    "\n",
    "Lo único que sí podemos ver es que el ATE observado en la muestra completa es mayor al ATE de los Always Respondents."
   ]
  },
  {
   "cell_type": "markdown",
   "id": "f8b1cbaf",
   "metadata": {
    "id": "f8b1cbaf"
   },
   "source": [
    "## 2. Matching\n",
    "Favor de consultar arvhivo `matching.R`"
   ]
  },
  {
   "cell_type": "markdown",
   "id": "c6453708",
   "metadata": {},
   "source": [
    "## 3. Difference in Differences\n",
    "### 3.1. Tabla 2x2"
   ]
  },
  {
   "cell_type": "code",
   "execution_count": 34,
   "id": "37e899c8",
   "metadata": {},
   "outputs": [
    {
     "data": {
      "text/html": [
       "<div>\n",
       "<style scoped>\n",
       "    .dataframe tbody tr th:only-of-type {\n",
       "        vertical-align: middle;\n",
       "    }\n",
       "\n",
       "    .dataframe tbody tr th {\n",
       "        vertical-align: top;\n",
       "    }\n",
       "\n",
       "    .dataframe thead tr th {\n",
       "        text-align: left;\n",
       "    }\n",
       "\n",
       "    .dataframe thead tr:last-of-type th {\n",
       "        text-align: right;\n",
       "    }\n",
       "</style>\n",
       "<table border=\"1\" class=\"dataframe\">\n",
       "  <thead>\n",
       "    <tr>\n",
       "      <th></th>\n",
       "      <th colspan=\"2\" halign=\"left\">mean</th>\n",
       "    </tr>\n",
       "    <tr>\n",
       "      <th>T_nap</th>\n",
       "      <th>0</th>\n",
       "      <th>1</th>\n",
       "    </tr>\n",
       "    <tr>\n",
       "      <th>t</th>\n",
       "      <th></th>\n",
       "      <th></th>\n",
       "    </tr>\n",
       "  </thead>\n",
       "  <tbody>\n",
       "    <tr>\n",
       "      <th>0</th>\n",
       "      <td>2541.85</td>\n",
       "      <td>2283.76</td>\n",
       "    </tr>\n",
       "    <tr>\n",
       "      <th>1</th>\n",
       "      <td>3780.64</td>\n",
       "      <td>3610.11</td>\n",
       "    </tr>\n",
       "  </tbody>\n",
       "</table>\n",
       "</div>"
      ],
      "text/plain": [
       "          mean         \n",
       "T_nap        0        1\n",
       "t                      \n",
       "0      2541.85  2283.76\n",
       "1      3780.64  3610.11"
      ]
     },
     "execution_count": 34,
     "metadata": {},
     "output_type": "execute_result"
    }
   ],
   "source": [
    "# Pegar d1 & d2\n",
    "t = pd.concat([d1[['pid','T_nap','productivity']].assign(t = 0),\n",
    "               d2[['pid','T_nap','productivity']].assign(t = 1)],\n",
    "              axis=0)\n",
    "\n",
    "# Agrupar\n",
    "t = t.groupby(['T_nap','t'])['productivity'].mean().reset_index(name='mean')\n",
    "\n",
    "# Formato 2x2\n",
    "t = t.pivot(index='t', columns='T_nap')\n",
    "\n",
    "# Visualizar\n",
    "t.round(2)\n",
    "\n",
    "# To latex\n",
    "# print(t.to_latex(float_format='%.2f', caption='Matriz de comparación', label='t3_2x2'))"
   ]
  },
  {
   "cell_type": "markdown",
   "id": "b3c4fe40",
   "metadata": {},
   "source": [
    "Con los periodos $t \\in \\{0, 1\\}$, el resultado anterior se puede estimando el coeficiente $\\beta_3$ del modelo\n",
    "$$prod_{it} = \\beta_0 + \\beta_1 T_i + \\beta_2 t + \\beta_3 t \\times T_i + U_i$$\n",
    "\n",
    "De acuerdo a la tabla, el ATE es:"
   ]
  },
  {
   "cell_type": "code",
   "execution_count": 35,
   "id": "853da486",
   "metadata": {},
   "outputs": [
    {
     "data": {
      "text/plain": [
       "87.55837542176778"
      ]
     },
     "execution_count": 35,
     "metadata": {},
     "output_type": "execute_result"
    }
   ],
   "source": [
    "(t.iloc[1, 1] - t.iloc[0, 1]) - (t.iloc[1, 0] - t.iloc[0, 0])"
   ]
  },
  {
   "cell_type": "markdown",
   "id": "4a317c7e",
   "metadata": {},
   "source": [
    "### 3.2. 2x2\n",
    "De acuerdo al paper, todos los individuos permanencieron en control durante los primeros ocho días del estudio y el experimento comenzó en el noveno día. Por ende, consideraré que el periodo $t = 0$ son las medias agrupadas de las observaciones de los primeros ocho días, y que el periodo $t = 1$ son las medias agrupadas de las observaciones de los días restantes."
   ]
  },
  {
   "cell_type": "code",
   "execution_count": 36,
   "id": "df4018c7",
   "metadata": {},
   "outputs": [
    {
     "data": {
      "text/plain": [
       "min    2\n",
       "max    2\n",
       "dtype: int64"
      ]
     },
     "execution_count": 36,
     "metadata": {},
     "output_type": "execute_result"
    }
   ],
   "source": [
    "# Asignar tiempo binario\n",
    "d3['t'] = np.where(d3['day_in_study'] <= 8, 0, 1)\n",
    "\n",
    "# Agrupar por i, t para tener dos observationes por individuo\n",
    "t = d3.groupby(['pid','t'])[['productivity','T_nap','age_','female_']].mean().reset_index()\n",
    "\n",
    "# Verificar si todos tienen dos periodos observados\n",
    "t.groupby('pid').size().agg(['min','max'])"
   ]
  },
  {
   "cell_type": "markdown",
   "id": "9bdf2150",
   "metadata": {},
   "source": [
    "Verificar que nadie tenga NANs"
   ]
  },
  {
   "cell_type": "code",
   "execution_count": 37,
   "id": "6b3166ca",
   "metadata": {},
   "outputs": [
    {
     "data": {
      "text/plain": [
       "pid             0\n",
       "t               0\n",
       "productivity    1\n",
       "T_nap           0\n",
       "age_            0\n",
       "female_         0\n",
       "dtype: int64"
      ]
     },
     "execution_count": 37,
     "metadata": {},
     "output_type": "execute_result"
    }
   ],
   "source": [
    "t.isna().sum()"
   ]
  },
  {
   "cell_type": "code",
   "execution_count": 38,
   "id": "c98a7a98",
   "metadata": {},
   "outputs": [
    {
     "name": "stdout",
     "output_type": "stream",
     "text": [
      "Cada uno de los 451 individuos tiene dos periodos (902 observaciones en total))\n"
     ]
    }
   ],
   "source": [
    "# Quitar a pid que tiene NAN en productivity\n",
    "t = t[t['pid'] != t.loc[t['productivity'].isna(), 'pid'].item()]\n",
    "\n",
    "# Conteo\n",
    "print(f\"Cada uno de los {t['pid'].nunique()} individuos tiene dos periodos ({len(t)} observaciones en total))\")"
   ]
  },
  {
   "cell_type": "markdown",
   "id": "01953557",
   "metadata": {},
   "source": [
    "Usando el método recién mencionado, conservo a más individuos que con las bases baseline y endline. Con esta nueva base, la tabla $2 \\times 2$ queda así:"
   ]
  },
  {
   "cell_type": "code",
   "execution_count": 39,
   "id": "47360ac5",
   "metadata": {},
   "outputs": [
    {
     "data": {
      "text/html": [
       "<div>\n",
       "<style scoped>\n",
       "    .dataframe tbody tr th:only-of-type {\n",
       "        vertical-align: middle;\n",
       "    }\n",
       "\n",
       "    .dataframe tbody tr th {\n",
       "        vertical-align: top;\n",
       "    }\n",
       "\n",
       "    .dataframe thead tr th {\n",
       "        text-align: left;\n",
       "    }\n",
       "\n",
       "    .dataframe thead tr:last-of-type th {\n",
       "        text-align: right;\n",
       "    }\n",
       "</style>\n",
       "<table border=\"1\" class=\"dataframe\">\n",
       "  <thead>\n",
       "    <tr>\n",
       "      <th></th>\n",
       "      <th colspan=\"2\" halign=\"left\">mean</th>\n",
       "    </tr>\n",
       "    <tr>\n",
       "      <th>T_nap</th>\n",
       "      <th>0.0</th>\n",
       "      <th>1.0</th>\n",
       "    </tr>\n",
       "    <tr>\n",
       "      <th>t</th>\n",
       "      <th></th>\n",
       "      <th></th>\n",
       "    </tr>\n",
       "  </thead>\n",
       "  <tbody>\n",
       "    <tr>\n",
       "      <th>0</th>\n",
       "      <td>2563.697568</td>\n",
       "      <td>2302.861513</td>\n",
       "    </tr>\n",
       "    <tr>\n",
       "      <th>1</th>\n",
       "      <td>3490.398123</td>\n",
       "      <td>3309.267646</td>\n",
       "    </tr>\n",
       "  </tbody>\n",
       "</table>\n",
       "</div>"
      ],
      "text/plain": [
       "              mean             \n",
       "T_nap          0.0          1.0\n",
       "t                              \n",
       "0      2563.697568  2302.861513\n",
       "1      3490.398123  3309.267646"
      ]
     },
     "execution_count": 39,
     "metadata": {},
     "output_type": "execute_result"
    }
   ],
   "source": [
    "# Agrupar\n",
    "t2 = t.groupby(['T_nap','t'])['productivity'].mean().reset_index(name='mean')\n",
    "\n",
    "# Formato 2x2\n",
    "t2 = t2.pivot(index='t', columns='T_nap')\n",
    "\n",
    "# Visualizar\n",
    "t2\n",
    "\n",
    "# To latex\n",
    "# print(t2.to_latex(float_format='%.2f', caption='Matriz de comparación (Versión 2)', label='t3_2x2_v2'))"
   ]
  },
  {
   "cell_type": "markdown",
   "id": "92ff9386",
   "metadata": {},
   "source": [
    "Debido a que la tabla es un poco distinta, el TOT es un poco distinto por la naturaleza de la población. De acuerdo a esta tabla, el TOT es:"
   ]
  },
  {
   "cell_type": "code",
   "execution_count": 40,
   "id": "57b78d1e",
   "metadata": {},
   "outputs": [
    {
     "data": {
      "text/plain": [
       "79.70557783177901"
      ]
     },
     "execution_count": 40,
     "metadata": {},
     "output_type": "execute_result"
    }
   ],
   "source": [
    "(t2.iloc[1, 1] - t2.iloc[0, 1]) - (t2.iloc[1, 0] - t2.iloc[0, 0])"
   ]
  },
  {
   "cell_type": "markdown",
   "id": "b8cfb5bf",
   "metadata": {},
   "source": [
    "Regresión sin controles con el modelo\n",
    "$$prod_{it} = \\beta_0 + \\beta_1 T_i + \\beta_2 t + \\beta_3 t \\times T_i + U_i$$"
   ]
  },
  {
   "cell_type": "code",
   "execution_count": 41,
   "id": "c573d8aa",
   "metadata": {},
   "outputs": [
    {
     "data": {
      "text/plain": [
       "Intercept       2563.697568\n",
       "T_nap           -260.836055\n",
       "t                926.700554\n",
       "I(t * T_nap)      79.705578\n",
       "dtype: float64"
      ]
     },
     "execution_count": 41,
     "metadata": {},
     "output_type": "execute_result"
    }
   ],
   "source": [
    "# Regresión con controles\n",
    "m = OLS.from_formula('productivity ~ T_nap + t + I(t*T_nap)', t).fit()\n",
    "m.params"
   ]
  },
  {
   "cell_type": "markdown",
   "id": "7f17028d",
   "metadata": {},
   "source": [
    "Regresión con controles con el modelo\n",
    "$$prod_{it} = \\beta_0 + \\beta_1 T_i + \\beta_2 t + \\beta_3 t \\times T_i + age_i + female_i U_i$$"
   ]
  },
  {
   "cell_type": "code",
   "execution_count": 42,
   "id": "a10793c3",
   "metadata": {},
   "outputs": [
    {
     "data": {
      "text/plain": [
       "Intercept       5596.455232\n",
       "T_nap           -250.509889\n",
       "t                926.700554\n",
       "I(t * T_nap)      79.705578\n",
       "age_             -77.406041\n",
       "female_         -500.489521\n",
       "dtype: float64"
      ]
     },
     "execution_count": 42,
     "metadata": {},
     "output_type": "execute_result"
    }
   ],
   "source": [
    "# Regresión con controles\n",
    "m = OLS.from_formula('productivity ~ T_nap + t + I(t*T_nap) + age_ + female_', t).fit()\n",
    "m.params"
   ]
  },
  {
   "cell_type": "markdown",
   "id": "cf7ab763",
   "metadata": {},
   "source": [
    "Para ambas regresiones debería usar errores clusterizados porque las variables observadas para un mismo individuo no son independientes ni idénticamente distribuidas entre ambos periodos de tiempo. La segunda instancia de cualquier variable es argumentablemente dependiente del su valor en el periodo de tiempo anterior.\n",
    "\n",
    "### 3.3. Comparación\n",
    "Los valores estimados del ATT en la productividad usando Matching varían entre $-953.26$ y $-814.67$. Los ATTs\n",
    "usando cualquier estimador de Diferencia en Diferencias (DiD por sus siglas en inglés) resulta en valores positivos (entre $79.75$ y $87.56$).\n",
    "\n",
    "En lo personal, confío más en el estimador de DiD, pues Matching funciona cuando puedes emparejar a la población con base en todas las covariables que podrían sesgar la diferencia de medias. En el caso de este estudio, hay muchos ejemplos de covariables no observables que podrían sesgar el efecto de las siestas sobre la productividad de aquellos individuos que recibieron el tratamiento. Por ejemplo, habilidad natural, conocimiento de computadoras, interés en el trabajo, etc. Como estas variables no son observables, no podemos medir si existe un desbalance en estos controles al emparejar por las variables que sí son observables. En caso de que Matching produzca desbalances en estas variables, el ATT estimado estará sesgado a pesar de estar balanceado en las variables por las cuales emparejamos a la población.\n",
    "\n",
    "Al tomar la diferencia entre los periodos primero y segundo dentro de cada grupo (tratamiento o control), el estimador DiD es capaz de eliminar el sesgo por cualquier variable no observada siempre y cuando permanezca constante en el tiempo. Como el estudio duró 28 días, cualquier variación en el tiempo de las variables no observables sería negligible porque seguramente no cambiarían mucho dentro de un periodo de tiempo tan corto. Por ende, considero que los ATTs por el método de DiD es más confiable que el ATT usando Matching.\n",
    "\n",
    "### 3.4. Figuras\n",
    "#### 3.4.1. Series de tiempo"
   ]
  },
  {
   "cell_type": "code",
   "execution_count": 70,
   "id": "54a36d13",
   "metadata": {},
   "outputs": [
    {
     "data": {
      "image/png": "[encoded data removed]",
      "text/plain": [
       "<Figure size 432x288 with 1 Axes>"
      ]
     },
     "metadata": {
      "needs_background": "light"
     },
     "output_type": "display_data"
    }
   ],
   "source": [
    "# Crear grupos\n",
    "d3['group'] = np.where(\n",
    "    d3['T_nap'].eq(0),\n",
    "    'Control',\n",
    "    np.where(\n",
    "        d3['T_nap'].eq(1) & d3['treatment_group'].eq(0),\n",
    "        'Nap only',\n",
    "        np.where(\n",
    "            d3['T_nap'].eq(1) & d3['treatment_group'].eq(1),\n",
    "            'Nap and encouragement',\n",
    "            'Nap and incentives'\n",
    "        )\n",
    "    )\n",
    ")\n",
    "\n",
    "# Minutos por grupo\n",
    "t = d3.groupby(['group','day_in_study'])[['nap_time_mins']].mean().fillna(0).reset_index()\n",
    "\n",
    "# Plot\n",
    "for g in t['group'].unique():\n",
    "    # Mask\n",
    "    m = t['group'].eq(g)\n",
    "\n",
    "    # Line plot\n",
    "    plt.plot(t.loc[m, 'day_in_study'], t.loc[m, 'nap_time_mins'], label=g)\n",
    "\n",
    "plt.axvline(8.5, color='black', ls='--')\n",
    "\n",
    "# Aesthetics\n",
    "plt.legend()\n",
    "plt.xlim(2, 27)\n",
    "plt.ylim(0, 17)\n",
    "\n",
    "# Save\n",
    "if 'google.colab' not in str(get_ipython()):\n",
    "\n",
    "# Show\n",
    "plt.show()"
   ]
  },
  {
   "cell_type": "code",
   "execution_count": 59,
   "metadata": {},
   "outputs": [
    {
     "data": {
      "image/png": "[encoded data removed]",
      "text/plain": [
       "<Figure size 432x288 with 1 Axes>"
      ]
     },
     "metadata": {
      "needs_background": "light"
     },
     "output_type": "display_data"
    }
   ],
   "source": [
    "plt.hist(d3['treat_s'])\n",
    "plt.title('Distribución de `treat_s`')\n",
    "plt.show()"
   ]
  }
 ],
 "metadata": {
  "colab": {
   "name": "main.ipynb",
   "provenance": []
  },
  "interpreter": {
   "hash": "40d3a090f54c6569ab1632332b64b2c03c39dcf918b08424e98f38b5ae0af88f"
  },
  "kernelspec": {
   "display_name": "Python 3.8.8 ('base')",
   "language": "python",
   "name": "python3"
  },
  "language_info": {
   "codemirror_mode": {
    "name": "ipython",
    "version": 3
   },
   "file_extension": ".py",
   "mimetype": "text/x-python",
   "name": "python",
   "nbconvert_exporter": "python",
   "pygments_lexer": "ipython3",
   "version": "3.8.8"
  },
  "nbformat": 4,
  "nbformat_minor": 5
 },
 "nbformat": 4,
 "nbformat_minor": 2
}
