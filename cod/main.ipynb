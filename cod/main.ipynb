{
 "cells": [
  {
   "cell_type": "markdown",
   "id": "f4147fc8",
   "metadata": {
    "id": "f4147fc8"
   },
   "source": [
    "# Econometría Aplicada II\n",
    "## Tarea 1\n",
    "Importar librerías"
   ]
  },
  {
   "cell_type": "code",
   "execution_count": null,
   "id": "0183c18b",
   "metadata": {
    "id": "0183c18b"
   },
   "outputs": [],
   "source": [
    "%%capture\n",
    "# Clonar repo si estamos en colab\n",
    "if 'google.colab' in str(get_ipython()):\n",
    "    !git clone https://github.com/ArturoSbr/EmtrAp2-hw01\n",
    "    # !pip install scipy==1.7.3\n",
    "    %cd EmtrAp2-hw01/cod\n",
    "\n",
    "# Libs\n",
    "import numpy as np\n",
    "import pandas as pd\n",
    "from scipy import stats\n",
    "from statsmodels.api import OLS\n",
    "from matplotlib import pyplot as plt"
   ]
  },
  {
   "cell_type": "markdown",
   "id": "f28d8dad",
   "metadata": {
    "id": "f28d8dad"
   },
   "source": [
    "Importar datos"
   ]
  },
  {
   "cell_type": "code",
   "execution_count": null,
   "id": "69e10890",
   "metadata": {
    "id": "69e10890"
   },
   "outputs": [],
   "source": [
    "d1 = pd.read_csv('../dat/baseline.csv')\n",
    "d2 = pd.read_csv('../dat/endline.csv')\n",
    "d3 = pd.read_csv('../dat/completa.csv')"
   ]
  },
  {
   "cell_type": "markdown",
   "id": "b93ef3b8",
   "metadata": {
    "id": "b93ef3b8"
   },
   "source": [
    "### 1.1. Balance\n",
    "Tabla de balance por grupo de acuerdo a `T_nap`"
   ]
  },
  {
   "cell_type": "code",
   "execution_count": null,
   "id": "14a8a3d0",
   "metadata": {
    "colab": {
     "base_uri": "https://localhost:8080/",
     "height": 381
    },
    "id": "14a8a3d0",
    "outputId": "24785a67-f2f1-47cd-9964-6592256d540a",
    "scrolled": false
   },
   "outputs": [],
   "source": [
    "# Seleccionar 10 variables basales\n",
    "X = ['time_in_office','age_','female_','education_','sleep_report','no_of_children_','act_inbed',\n",
    "     'an_12_number_of_awakenings','an_13_average_awakening_length','unemployed']\n",
    "\n",
    "# Inicializar lista\n",
    "d = []\n",
    "\n",
    "# Medias de variables basales\n",
    "for x in X:\n",
    "    # Grupos\n",
    "    b, a = d1.groupby('T_nap')[x].apply(np.array)\n",
    "    # t-test\n",
    "    test = stats.ttest_ind(a=a, b=b, equal_var=False, nan_policy='omit')\n",
    "    # Agregar a lista\n",
    "    d.append([x] + list(test))\n",
    "\n",
    "# A tabla\n",
    "t = pd.DataFrame(data=d, columns=['var','t','p']).sort_values('var')\n",
    "t['var'] = t['var'].str.replace('_',' ')\n",
    "t.round(3)"
   ]
  },
  {
   "cell_type": "code",
   "execution_count": null,
   "id": "94e88ddf",
   "metadata": {
    "scrolled": true
   },
   "outputs": [],
   "source": [
    "# To latex\n",
    "# print(t.set_index('var').to_latex(float_format='%.3f', caption='Balance sobre 10 covariables'))"
   ]
  },
  {
   "cell_type": "markdown",
   "id": "6010a6d0",
   "metadata": {
    "id": "6010a6d0"
   },
   "source": [
    "Todos los p-values de las pruebas de diferencia de medias son mayores a 0.1. Esto significa que para toda variable independiente $X_j$, no podemos rechazar la hipótesis nula $\\mu_{X_j}^C = \\mu_{X_j}^T$. Las pruebas individuales sugieren que no existe ninguna diferencia entra las medias del grupo de control y el grupo de tratamiento.\n",
    "\n",
    "Para evaluar la significancia de manera conjunta, uso el siguiente modelo de probabilidad lineal:\n",
    "$$T_i = \\beta_0 + X_i^T \\beta + U_i$$\n",
    "donde $X_i^T$ contiene todos los controles evaluados en la prueba anterior.\n",
    "\n",
    "La prueba de hipótesis para determinar si al menos una de las variables indepentientes está relacionada con la asignación a tratamiento es:\n",
    "$$H_0: \\beta_1 = 0$$\n",
    "$$H_1: \\text{Al menos un coeficiente es distinto de cero}$$"
   ]
  },
  {
   "cell_type": "code",
   "execution_count": null,
   "id": "bf866f0f",
   "metadata": {
    "colab": {
     "base_uri": "https://localhost:8080/"
    },
    "id": "bf866f0f",
    "outputId": "ae6c033e-1a66-4a1c-ac7c-0f4b3f0554d1"
   },
   "outputs": [],
   "source": [
    "# T_nap en función de controles\n",
    "m = OLS(endog=d1['T_nap'], exog=d1[X].assign(const = 1)).fit()\n",
    "\n",
    "# Tabla de resumen\n",
    "print(m.summary())"
   ]
  },
  {
   "cell_type": "markdown",
   "id": "c364addf",
   "metadata": {
    "id": "c364addf"
   },
   "source": [
    "Al igual que en las diferencias de medias, todos los coeficientes estimados del modelo de probabilidad lineal tienen p-values menores a 0.1. Por ende, ninguno de las variables independientes tiene significancia individual para determinar la asignación a tratamiento.\n",
    "\n",
    "La prueba que nos interesa se ve reflejada en el estadístico $F$. La prueba de significancia conjunta tiene un p-value de 0.882. Es decir, no hay evidencia de que alguno de los coeficientes sea distinto de cero.\n",
    "\n",
    "Como conclusión, parece que el tratamiento sí fue asignado de manera aleatoria con base en los 10 controles que elegí.\n",
    "\n",
    "### 2. Efectos de tratamiento\n",
    "Efectos de tratamiento sobre la productividad de los trabajadores.\n",
    "\n",
    "#### a) Estimadores de Neyman"
   ]
  },
  {
   "cell_type": "code",
   "execution_count": null,
   "id": "d05b58a9",
   "metadata": {
    "colab": {
     "base_uri": "https://localhost:8080/"
    },
    "id": "d05b58a9",
    "outputId": "3141a593-643b-4f56-97c3-a9654e815f55"
   },
   "outputs": [],
   "source": [
    "# Función para estimador de Neyman\n",
    "def neyman(frame, treatment_col, values_col):\n",
    "    # Arreglos C y T\n",
    "    m = frame[[treatment_col,values_col]].notna().all(axis=1)\n",
    "    a, b = frame[m].groupby(treatment_col)[values_col].apply(np.array)\n",
    "    # Diferencia de medias\n",
    "    tau = np.mean(b) - np.mean(a)\n",
    "    # Error estándar sobre-estimado\n",
    "    bse = np.sqrt(np.var(a, ddof=1) / len(a) + np.var(b, ddof=1) / len(b))\n",
    "    # t-stat\n",
    "    t = tau / bse\n",
    "    # p-value\n",
    "    p = 2 * (1 - stats.norm().cdf(np.abs(t)))\n",
    "    return [treatment_col, tau, bse, t, p]\n",
    "\n",
    "# Diferencia de Neyman\n",
    "prod_ney = neyman(d2, 'T_nap', 'productivity')\n",
    "print(f'Prueba de Neyman sobre productividad:\\n{prod_ney}')"
   ]
  },
  {
   "cell_type": "markdown",
   "id": "2ed76558",
   "metadata": {
    "id": "2ed76558"
   },
   "source": [
    "#### b) Estimadores OLS sin controles"
   ]
  },
  {
   "cell_type": "code",
   "execution_count": null,
   "id": "9f69843a",
   "metadata": {
    "colab": {
     "base_uri": "https://localhost:8080/"
    },
    "id": "9f69843a",
    "outputId": "a9c9fb4f-626a-4c12-c302-2dd998b9f3c6"
   },
   "outputs": [],
   "source": [
    "m = OLS(endog=d2['productivity'], exog=d2.assign(const = 1)[['const','T_nap']], missing='drop')\n",
    "m = m.fit(cov_type='HC0')\n",
    "\n",
    "# Diferencia OLS sin X\n",
    "prod_ols = ['T_nap', m.params['T_nap'], m.bse['T_nap'], m.tvalues['T_nap'], m.pvalues['T_nap']]\n",
    "print(f'Estimación OLS sobre productividad:\\n{prod_ols}')"
   ]
  },
  {
   "cell_type": "markdown",
   "id": "672981fe",
   "metadata": {
    "id": "672981fe"
   },
   "source": [
    "#### c) Estimadores con controles\n",
    "De acuerdo al paper, $X_i$ contiene `age_` en cuartiles, `female_` y la variable que indica si $i$ fue asignado a trabajar o a tomarse un break en vez de tomar una siesta.\n",
    "\n",
    "Como esta pregunta usa la base con promedios durante los 20 días de estudio, la variable que indica la actividad asignada cada día a los individuos del grupo de control no está disponible. Por ende, usaré el siguiente model:\n",
    "$$Y_i = \\beta_0 + \\sum_{q=1}^4I\\big[\\beta_q \\times Q(age_i)\\big] + \\beta_f fem_i$$\n",
    "donde $Q(age_i)$ asigna un cuartil a $i$ con base en su edad y $fem_i = 1$ si $i$ es mujer."
   ]
  },
  {
   "cell_type": "code",
   "execution_count": null,
   "id": "29012c16",
   "metadata": {
    "colab": {
     "base_uri": "https://localhost:8080/"
    },
    "id": "29012c16",
    "outputId": "8676c26d-6559-4f35-c09b-69e8205acea1"
   },
   "outputs": [],
   "source": [
    "# Edad a cuartiles y luego a dummies\n",
    "d2['age_q'] = pd.qcut(x=d2['age_'], q=4, labels=[f'q{i}' for i in range(1,5)])\n",
    "d2 = pd.get_dummies(data=d2, prefix='age_', prefix_sep='', columns=['age_q'], )\n",
    "\n",
    "# Tratamiento y controles\n",
    "X = ['T_nap','const','age_q2','age_q3','age_q4','female_']\n",
    "\n",
    "# Correr regresión\n",
    "m = OLS(endog=d2['productivity'], exog=d2.assign(const = 1)[X], missing='drop')\n",
    "m = m.fit(cov_type='HC0')\n",
    "\n",
    "# Regresión con controles\n",
    "prod_ctr = ['T_nap', m.params['T_nap'], m.bse['T_nap'], m.tvalues['T_nap'], m.pvalues['T_nap']]\n",
    "print(f'Estimación OLS+X sobre productividad:\\n{prod_ctr}')"
   ]
  },
  {
   "cell_type": "markdown",
   "id": "taHtJSS3Y1xS",
   "metadata": {
    "id": "taHtJSS3Y1xS"
   },
   "source": [
    "#### d) Resultados a tabla"
   ]
  },
  {
   "cell_type": "code",
   "execution_count": null,
   "id": "eyUKsklr_SAf",
   "metadata": {
    "colab": {
     "base_uri": "https://localhost:8080/",
     "height": 150
    },
    "id": "eyUKsklr_SAf",
    "outputId": "99af8f2f-801e-43e4-be38-e54c8b8878e3"
   },
   "outputs": [],
   "source": [
    "# Concatenar resultados\n",
    "t = pd.DataFrame(data=[prod_ney, prod_ols, prod_ctr],\n",
    "                 columns=['Y','tau','se','t','p'],\n",
    "                 index=['Neyman','OLS simple','OLS controles'])\n",
    "\n",
    "# Tabla\n",
    "t = t.drop(columns=['Y'])\n",
    "t.round(3)"
   ]
  },
  {
   "cell_type": "code",
   "execution_count": null,
   "id": "ba1c33e2",
   "metadata": {},
   "outputs": [],
   "source": [
    "# # To latex\n",
    "# print(t.to_latex(float_format='%.3f', caption='Estimaciones de ATE sobre productividad', label='t2_ates_prod'))"
   ]
  },
  {
   "cell_type": "markdown",
   "id": "yhCJvUmyCRUy",
   "metadata": {
    "id": "yhCJvUmyCRUy"
   },
   "source": [
    "Los tres métodos indican que tomar una siesta tiene un efecto negativo sobre la productividad de los trabajadores. Sin embargo, todos los efectos estimados carecen de significancia. Es decir, el efecto promedio de tratamiento no es estadísticamente distinto de cero.\n",
    "\n",
    "Mi modelo preferido es el OLS con controles porque redujo el p-value del coeficiente asociado al tratamiento.\n",
    "\n",
    "#### e) Nuevas variables dependientes"
   ]
  },
  {
   "cell_type": "code",
   "execution_count": null,
   "id": "RNe2PpD_CifM",
   "metadata": {
    "colab": {
     "base_uri": "https://localhost:8080/",
     "height": 150
    },
    "id": "RNe2PpD_CifM",
    "outputId": "49a83ffe-d23c-4fc9-a638-a1950891fc05"
   },
   "outputs": [],
   "source": [
    "# Crear índice de habilidades cognitivas\n",
    "cog = ['corsi_measure','hf_measure','pvt_measure']\n",
    "d2['cog'] = d2[cog].apply(lambda x: (x - x.mean()) / x.std()).mean(axis=1)\n",
    "\n",
    "# Nuevas variables dependientes\n",
    "Y = ['nap_time_mins','sleep_report','happy','cog','typing_time_hr']\n",
    "\n",
    "# Correr regresiones\n",
    "d = []\n",
    "for y in Y:\n",
    "    m = OLS(endog=d2[y], exog=d2.assign(const = 1)[X], missing='drop')\n",
    "    m = m.fit(cov_type='HC0')\n",
    "    d.append([m.params['T_nap'], m.tvalues['T_nap'], m.pvalues['T_nap']])\n",
    "\n",
    "# Resultados a tabla\n",
    "t = pd.DataFrame(data=d, columns=['tau','t','p'], index=Y)\n",
    "\n",
    "# Visualizar\n",
    "t.transpose().round(3)"
   ]
  },
  {
   "cell_type": "code",
   "execution_count": null,
   "id": "953a0a9f",
   "metadata": {},
   "outputs": [],
   "source": [
    "# print(t.transpose().to_latex(float_format='%.3f', caption='ATE sobre otras variables', label='t1.2_ates_other'))"
   ]
  },
  {
   "cell_type": "markdown",
   "id": "4Y2Chd2LDfmr",
   "metadata": {
    "id": "4Y2Chd2LDfmr"
   },
   "source": [
    "De acuerdo al modelo OLS con controles, el tratamiento:\n",
    "1. Aumenta el promedio de minutos dormidos durante la siesta de 0 a 11.7 minutos\n",
    "1. Aumenta el promedio de número de horas de sueño en 0.05 horas por día (pero no tiene significancia estadística)\n",
    "1. Aumenta el promedio de la calificación de felicidad reportada en 0.05 puntos (pero no tiene significancia estadística)\n",
    "1. Aumentar el índice promedio de desempeño cognitivo en 0.03 desviaciones estándar (pero no tiene significancia estadística)\n",
    "1. Reducir el promedio de horas trabajadas en 0.02 unidades diarias (pero no tiene significancia estadística)\n",
    "\n",
    "### 3. Fischer's Exact Test\n",
    "#### a) Probar si el tratamiento tiene efecto nulo"
   ]
  },
  {
   "cell_type": "code",
   "execution_count": null,
   "id": "11061de9",
   "metadata": {
    "id": "11061de9"
   },
   "outputs": [],
   "source": [
    "fet = stats.permutation_test(data=(d2.loc[d2['T_nap'].eq(1) & d2['productivity'].notna(), 'productivity'],\n",
    "                                   d2.loc[d2['T_nap'].eq(0) & d2['productivity'].notna(), 'productivity']),\n",
    "                             statistic=lambda x, y: np.mean(x) - np.mean(y),\n",
    "                             n_resamples=1000,\n",
    "                             random_state=42)\n",
    "\n",
    "print('p-value:', round(fet.pvalue, 3))"
   ]
  },
  {
   "cell_type": "markdown",
   "id": "f58580fe",
   "metadata": {
    "id": "f58580fe"
   },
   "source": [
    "#### b) Conclusión\n",
    "Los p-values del efecto promedio estimado de tratamiento bajo Neyman y de OLS sin controles son 0.338 y 0.336 respectivamente. Con la falsificación de Fischer, el p-value es 0.308. Estos p-values son muy parecidos entre sí, por lo que podemos concluir con un alto grado de certeza que el efecto de las siestas sobre la productividad no es estadísticamente significativo.\n",
    "\n",
    "Cuando agregamos controles al modelo OLS, el p-value baja un poco (0.206), pero permance sin significancia estadística.\n",
    "\n",
    "En resumen, los cuatro métodos indican que las siestas no tienen un efecto estadísticamente significativo sobre la productividad de las personas."
   ]
  },
  {
   "cell_type": "markdown",
   "id": "YH7UHbqiyi38",
   "metadata": {
    "id": "YH7UHbqiyi38"
   },
   "source": [
    "### 1.4. Estratificación"
   ]
  },
  {
   "cell_type": "code",
   "execution_count": null,
   "id": "PTlD8fapF4a1",
   "metadata": {
    "id": "PTlD8fapF4a1"
   },
   "outputs": [],
   "source": [
    "# Crear casos con datos basales\n",
    "d1[['e','s']] = d1[['earnings','sleep_report']].apply(lambda x: (x >= x.median()).astype(int), axis=0)\n",
    "\n",
    "# Agregar casos a `d2`\n",
    "d2 = d2.merge(d1[['pid','e','s']], on='pid')"
   ]
  },
  {
   "cell_type": "markdown",
   "id": "efc457e3",
   "metadata": {
    "id": "efc457e3"
   },
   "source": [
    "#### a) Número de observaciones asignadas a tratamiento y control en cada estrato"
   ]
  },
  {
   "cell_type": "code",
   "execution_count": null,
   "id": "1AEFkoVHCBeW",
   "metadata": {
    "colab": {
     "base_uri": "https://localhost:8080/",
     "height": 216
    },
    "id": "1AEFkoVHCBeW",
    "outputId": "f039ec4e-e290-412e-da9d-1624a9834bab"
   },
   "outputs": [],
   "source": [
    "t = d2.groupby(['e','s','T_nap']).size().reset_index(name='n')\n",
    "t = t.pivot(index=['e','s'], columns='T_nap', values='n')\n",
    "t.columns = ['ngC','ngT']\n",
    "t"
   ]
  },
  {
   "cell_type": "code",
   "execution_count": null,
   "id": "a5d59dae",
   "metadata": {},
   "outputs": [],
   "source": [
    "# print(t.to_latex(caption='Observaciones por grupo', label='t1.4_strats'))"
   ]
  },
  {
   "cell_type": "markdown",
   "id": "FuEEx1fuDDPd",
   "metadata": {
    "id": "FuEEx1fuDDPd"
   },
   "source": [
    "La tabla sí tiene los números que hubiera esperado ex-ante, pues los individuos asignados a tratamiento en cada grupo son prácticamente del mismo tamaño que el número de individuos asignado a control.\n",
    "\n",
    "#### b) Efectos por estrato y agregados usando Neyman\n",
    "Efectos por estrato"
   ]
  },
  {
   "cell_type": "code",
   "execution_count": null,
   "id": "Ff-NRUdj8mm2",
   "metadata": {
    "colab": {
     "base_uri": "https://localhost:8080/",
     "height": 744
    },
    "id": "Ff-NRUdj8mm2",
    "outputId": "a2e3efbd-44d6-4aa6-f89a-e6fee67a3c51"
   },
   "outputs": [],
   "source": [
    "# Inicializar lista\n",
    "d = []\n",
    "\n",
    "# Efecto por esstrato a cada variable\n",
    "for y in Y:\n",
    "    for e, s in [(0,0),(0,1),(1,0),(1,1)]:\n",
    "        # Máscara\n",
    "        m = d2['e'].eq(e) & d2['s'].eq(s)\n",
    "        # ATE Neyman\n",
    "        d.append([e, s, m.sum(), m.sum() / len(d2), y] + neyman(d2[m], 'T_nap', y))\n",
    "\n",
    "# Resultados a tabla\n",
    "t = pd.DataFrame(data=d,\n",
    "                 columns=['e','s','ng','wg','depvar','indvar','tau','se','t','p'])\n",
    "t = t.set_index('depvar')\n",
    "\n",
    "\n",
    "# Visualizar resultados\n",
    "ates = [t[['e','s','tau','se','p']]]\n",
    "\n",
    "# Guardar resultados en lista para comparar más tarde\n",
    "ates[0].round(3)"
   ]
  },
  {
   "cell_type": "markdown",
   "id": "M6uh5l0Q-7QT",
   "metadata": {
    "id": "M6uh5l0Q-7QT"
   },
   "source": [
    "Efectos agregados"
   ]
  },
  {
   "cell_type": "code",
   "execution_count": null,
   "id": "546696b9",
   "metadata": {
    "colab": {
     "base_uri": "https://localhost:8080/"
    },
    "id": "546696b9",
    "outputId": "f31ca7df-4b36-4300-94b5-e0e7e59b8d9e"
   },
   "outputs": [],
   "source": [
    "# t = t['tau'].multiply(t['wg']).groupby(t.index.get_level_values(0)).sum().to_frame(name='tau')\n",
    "t"
   ]
  },
  {
   "cell_type": "code",
   "execution_count": null,
   "id": "1246b20c",
   "metadata": {},
   "outputs": [],
   "source": [
    "# To latex\n",
    "# print(t.to_latex(float_format='%.3f', caption='Efectos agregados', label='t1.4_ates'))"
   ]
  },
  {
   "cell_type": "markdown",
   "id": "lFW-SrlP-_LA",
   "metadata": {
    "id": "lFW-SrlP-_LA"
   },
   "source": [
    "#### c) Efectos estratificados con OLS\n",
    "$$Y_i = \\beta_0 + \\beta_1 T_i + \\beta_2 s_i + \\beta_3 s_i T_i + \\beta_4 e_i + \\beta_5 e_i T_i + \\beta_6 s_i e_i + \\beta_7 s_i e_i T_i + U_i$$"
   ]
  },
  {
   "cell_type": "code",
   "execution_count": null,
   "id": "fc2db3cb",
   "metadata": {
    "colab": {
     "base_uri": "https://localhost:8080/",
     "height": 744
    },
    "id": "fc2db3cb",
    "outputId": "7b5c4bf6-e33b-4961-b96b-1a5e223734f1"
   },
   "outputs": [],
   "source": [
    "# Inicializar lista\n",
    "d = []\n",
    "\n",
    "# Regresión para todas las depvar\n",
    "for y in Y:\n",
    "    # Modelo\n",
    "    formula = f'{y} ~ T_nap + s + I(s*T_nap) + e + I(e*T_nap) + I(e*s) + I(e*s*T_nap)'\n",
    "    m = OLS.from_formula(formula=formula, data=d2).fit(cov_type='HC0')\n",
    "    # Results table\n",
    "    res = pd.concat([m.params, m.bse, m.tvalues, m.pvalues], axis=1).assign(depvar = y)\n",
    "    d.append(res)\n",
    "\n",
    "# Todos los modelos en una tabla\n",
    "t = pd.concat(d, axis=0).reset_index()\n",
    "t.columns = ['beta','value','bse','t','p','depvar']\n",
    "\n",
    "# Coeficientes relevantes\n",
    "t = t[t['beta'].isin(['T_nap','I(e * T_nap)','I(s * T_nap)','I(e * s * T_nap)'])]\n",
    "\n",
    "# Aesthetics\n",
    "t = t.set_index('depvar')\n",
    "\n",
    "# Agregar a `ates`\n",
    "ates.append(t[['beta','value','bse','p']])\n",
    "\n",
    "# Visualizar\n",
    "ates[1].round(3)"
   ]
  },
  {
   "cell_type": "markdown",
   "id": "a-q1Pd3uGUhK",
   "metadata": {
    "id": "a-q1Pd3uGUhK"
   },
   "source": [
    "Resultados a tabla"
   ]
  },
  {
   "cell_type": "code",
   "execution_count": null,
   "id": "NtNs67qhGXSj",
   "metadata": {
    "colab": {
     "base_uri": "https://localhost:8080/",
     "height": 744
    },
    "id": "NtNs67qhGXSj",
    "outputId": "4ff99034-bf19-4d83-8d23-b052858727bf"
   },
   "outputs": [],
   "source": [
    "# Unir resultados\n",
    "t = pd.concat(ates, axis=1).reset_index()\n",
    "t = t.set_index(['depvar','e','s'])\n",
    "\n",
    "# Visualizar\n",
    "t.round(3)"
   ]
  },
  {
   "cell_type": "code",
   "execution_count": null,
   "id": "b3a2cbd9",
   "metadata": {},
   "outputs": [],
   "source": [
    "# print(t.to_latex(float_format='%.3f', caption='Efecto de tratamiento por estrato', label='t1.4_ates_g'))"
   ]
  },
  {
   "cell_type": "markdown",
   "id": "CH-S_ck8EgvX",
   "metadata": {
    "id": "CH-S_ck8EgvX"
   },
   "source": [
    "Los coeficientes estimados son idénticos. Por ejemplo, la diferencia de medias en `happy` para el estrato con ganancias debajo de la media y sueño arriba de la media es 0.043. Podemos obtener el mismo valor estimado si sumamos los coeficientes $T + s T = 0.043$.\n",
    "\n",
    "La única diferencia es en las pruebas de hipótesis. Mientras que con el estimador de Neyman solo tenemos que probar la hipótesis nula $H_0: \\hat{\\tau}_g = 0$, en el estimador con OLS tenemos que probar si la suma de los coeficientes que reconstruyen $\\hat{\\tau}_g$ es igual a cero usando un vector de restricción $l$.\n",
    "\n",
    "Los errores estándar de los estimadores por OLS serán distintos que por el método de Neyman, pero en general son parecidos entre sí. Esto lo podemos ver de manera intuitiva al ver los renglones que corresponden al grupo que gana y duerme por debajo de la mediana. Los $p$-values de ambos estimadores son parecidos.\n",
    "\n",
    "### 1.5. Atrición\n",
    "#### a) Reportar atrición"
   ]
  },
  {
   "cell_type": "code",
   "execution_count": null,
   "id": "eC-UEM2iMUbT",
   "metadata": {
    "colab": {
     "base_uri": "https://localhost:8080/",
     "height": 150
    },
    "id": "eC-UEM2iMUbT",
    "outputId": "3a48842c-12a8-40ee-ada1-d491a6637d0c",
    "scrolled": true
   },
   "outputs": [],
   "source": [
    "t = d2.groupby('T_nap')['drop_indicator'].agg(['size','sum'])\n",
    "t['pct'] = t['sum'].div(t['size']) * 100\n",
    "t.round(2)"
   ]
  },
  {
   "cell_type": "code",
   "execution_count": null,
   "id": "adcd443c",
   "metadata": {},
   "outputs": [],
   "source": [
    "# print(t.to_latex(float_format='%.2f', caption='Atrición', label='t1.5_attritors'))"
   ]
  },
  {
   "cell_type": "markdown",
   "id": "LLZVrrPwMhDb",
   "metadata": {
    "id": "LLZVrrPwMhDb"
   },
   "source": [
    "#### b) Nuevo balance\n",
    "Validez interna"
   ]
  },
  {
   "cell_type": "code",
   "execution_count": null,
   "id": "qUvzp87XNUcK",
   "metadata": {
    "colab": {
     "base_uri": "https://localhost:8080/",
     "height": 381
    },
    "id": "qUvzp87XNUcK",
    "outputId": "f9614971-edb9-4b05-8480-e585d1a676c5"
   },
   "outputs": [],
   "source": [
    "# Variables dependientes\n",
    "X = ['time_in_office','age_','female_','education_','sleep_night','no_of_children_','act_inbed',\n",
    "     'an_12_number_of_awakenings','an_13_average_awakening_length','unemployed']\n",
    "\n",
    "# Tabla de balance\n",
    "d = []\n",
    "for x in X:\n",
    "    b, a = d2[d2['drop_indicator'].eq(0)].groupby('T_nap')[x].apply(np.array)\n",
    "    test = stats.ttest_ind(a=a, b=b, equal_var=False, nan_policy='omit')\n",
    "    d.append([x] + list(test))\n",
    "\n",
    "# A tabla\n",
    "t = pd.DataFrame(data=d, columns=['variable','t-stat','p-value'])\n",
    "t.sort_values('variable').round(3)"
   ]
  },
  {
   "cell_type": "markdown",
   "id": "SZErnC7pMCNj",
   "metadata": {
    "id": "SZErnC7pMCNj"
   },
   "source": [
    "Prueba conjunta"
   ]
  },
  {
   "cell_type": "code",
   "execution_count": null,
   "id": "0759b7d1",
   "metadata": {
    "colab": {
     "base_uri": "https://localhost:8080/"
    },
    "id": "0759b7d1",
    "outputId": "d6cbd067-a938-42e2-f661-530716a5e4e8"
   },
   "outputs": [],
   "source": [
    "m = OLS(endog=d2.loc[d2['drop_indicator'].eq(0), 'T_nap'],\n",
    "        exog=d2.loc[d2['drop_indicator'].eq(0), X].assign(const = 1),\n",
    "        missing='drop').fit(cov_type='HC0')\n",
    "print(f'p-value de significancia conjunta: {round(m.f_pvalue.item(), 3)}')"
   ]
  },
  {
   "cell_type": "markdown",
   "id": "WwOgaRHULR4V",
   "metadata": {
    "id": "WwOgaRHULR4V"
   },
   "source": [
    "Sí tenemos un problema de validez interna porque después de la atrición los niveles promedio de educación y número de hijos son estadísticamente distintos entre los grupos de tratamiento y control. Si hacemos un $F$-test de significancia conjunta, rechazamos la hipótesis de que todos los coeficientes sean simultáneamente iguales a cero porque el $p$-value de la prueba es 0.095.\n",
    "\n",
    "Validez externa"
   ]
  },
  {
   "cell_type": "code",
   "execution_count": null,
   "id": "SsPmAQNoSCPm",
   "metadata": {
    "colab": {
     "base_uri": "https://localhost:8080/",
     "height": 381
    },
    "id": "SsPmAQNoSCPm",
    "outputId": "97ac0a12-c032-4651-ba82-9f25c7ae7a77"
   },
   "outputs": [],
   "source": [
    "# Probar si diferencia es significativa\n",
    "d = []\n",
    "for x in X:\n",
    "    a, b = d1[x], d1.loc[d1['drop_indicator'].eq(0), x]\n",
    "    test = stats.ttest_ind(a=a, b=b, equal_var=False, nan_policy='omit')\n",
    "    d.append([x] + list(test))\n",
    "\n",
    "# Resultados a tabla\n",
    "t = pd.DataFrame(data=d, columns=['variable','t','p'])\n",
    "t.sort_values('variable').round(3)"
   ]
  },
  {
   "cell_type": "markdown",
   "id": "93Z_5pV_NST5",
   "metadata": {
    "id": "93Z_5pV_NST5"
   },
   "source": [
    "Prueba de significancia conjunta"
   ]
  },
  {
   "cell_type": "code",
   "execution_count": null,
   "id": "1IohJRGdNUdK",
   "metadata": {
    "colab": {
     "base_uri": "https://localhost:8080/"
    },
    "id": "1IohJRGdNUdK",
    "outputId": "38464ea8-ede3-4722-98b2-b5d6fdfe2ca7"
   },
   "outputs": [],
   "source": [
    "m = OLS(endog=d1['drop_indicator'], exog=d1[X].assign(const = 1)).fit(cov_type='HC0')\n",
    "round(m.f_pvalue.item(0), 3)"
   ]
  },
  {
   "cell_type": "markdown",
   "id": "IEM0OS9kUMBk",
   "metadata": {
    "id": "IEM0OS9kUMBk"
   },
   "source": [
    "La atrición parece no haber afectado la validez externa de la muestra. Usando las pruebas individuales, la atrición tiene un $p$-value bajo para el número de hijos y mujeres. Sin embargo, ambas variables carecen de significancia estadística al 10%. Asimismo, la prueba conjunta resulta en un $p$-value muy cercano a cero, por lo que no podemos rechazar que todos los coeficientes sean distintos de cero simultáneamente. Es decir, parece que no existe un problema de validez externa.\n",
    "\n",
    "#### c) Conclusión\n",
    "La atrición fue sistemática entre el grupo de tratamiento y de control. Es decir, parece que el nivel de educación y el número de hijos determinan si alguien abandona o no el experimento. Esto nos lleva a un problema de validez interna porque los grupos de tratamiento y control después de la atrición no están balanceados.\n",
    "\n",
    "Sin embargo, parece que la atrición no afectó la validez externa de la muestra, pues parece que las personas que abandonaron el estudio no afectaron las distribuciones de las variables de control. Ninguna de las 10 variables muestra una diferencia significativa antes y después de la atrición.\n",
    "\n",
    "### 5. Lee Bounds\n",
    "#### a) Perfiles\n",
    "- Always Respondents: $S_i$ = 1 sin importar $T_i$\n",
    "- Never Respondents: $S_i$ = 0 sin importar $T_i$\n",
    "- Selective Respondents: $T_i = 0 \\implies S_i = 0$, $T_i = 1 \\implies S_i = 1$\n",
    "- Counter-Selective Respondents: $T_i = 0 \\implies S_i = 1$, $T_i = 1 \\implies S_i = 0$\n",
    "\n",
    "El supuesto de monotonicidad es que no existe alguno de los dos grupos de respuesta selectiva. En el contexto de este experimento, tiene sentido asumir que los Counter-Selective Respondents no existen porque el tratamiento es algo *bueno*. Es decir, si a alguien le toca tomar una siesta durante sus horas de trabajo, es razonable pensar que el tratamiento es algo deseable y por ende no incentivaría a los individuos a abandonar el experimento."
   ]
  },
  {
   "cell_type": "code",
   "execution_count": null,
   "id": "WY67mJbVUUje",
   "metadata": {
    "colab": {
     "base_uri": "https://localhost:8080/",
     "height": 150
    },
    "id": "WY67mJbVUUje",
    "outputId": "12054fe2-66ae-4741-b26b-7bc8d916c8a6"
   },
   "outputs": [],
   "source": [
    "# Columna S_i\n",
    "d2['S'] = 1 - d2['drop_indicator']\n",
    "\n",
    "# Casos\n",
    "t = d2.groupby(['T_nap','S']).size()\n",
    "t.unstack().transpose()"
   ]
  },
  {
   "cell_type": "markdown",
   "id": "eh7_SNr7PFu8",
   "metadata": {
    "id": "eh7_SNr7PFu8"
   },
   "source": [
    "Calcular probabilidades"
   ]
  },
  {
   "cell_type": "code",
   "execution_count": null,
   "id": "003ebdea",
   "metadata": {
    "colab": {
     "base_uri": "https://localhost:8080/"
    },
    "id": "003ebdea",
    "outputId": "ffc96ed2-8002-4a0c-8d82-8f2e81de7e5e"
   },
   "outputs": [],
   "source": [
    "# P(AR|T=0)\n",
    "par = 128 / (81 + 128)\n",
    "\n",
    "# P(SR|T=1)\n",
    "psr = 182 / (182 + 23) - par\n",
    "\n",
    "# Probabilidades\n",
    "print(f'P(AR) = {par}', f'P(SR) = {psr}', f'P(NR) = {1 - (par + psr)}', sep='\\n')"
   ]
  },
  {
   "cell_type": "markdown",
   "id": "effdd023",
   "metadata": {
    "id": "effdd023"
   },
   "source": [
    "\n",
    "\n",
    "#### b) Lee Bounds"
   ]
  },
  {
   "cell_type": "code",
   "execution_count": null,
   "id": "684ccda0",
   "metadata": {
    "colab": {
     "base_uri": "https://localhost:8080/"
    },
    "id": "684ccda0",
    "outputId": "2f34c15f-39fb-4d78-9c5d-573756a6ce92"
   },
   "outputs": [],
   "source": [
    "# P(AR|S=1)\n",
    "par_s = par / d2['S'].mean()\n",
    "\n",
    "# Arreglos trat-cont dado S=1\n",
    "a, b = d2[d2['S'].eq(1)].groupby('T_nap')['productivity'].apply(np.array)\n",
    "\n",
    "# Lower bound\n",
    "lb = b[b <= np.quantile(b, par_s)].mean() - a.mean()\n",
    "\n",
    "# Upper bound\n",
    "ub = b[b >= np.quantile(b, 1 - par_s)].mean() - a.mean()\n",
    "\n",
    "# Bounds\n",
    "print(f'El ATE de los AR está en [{lb, ub}]')"
   ]
  },
  {
   "cell_type": "markdown",
   "id": "532fff46",
   "metadata": {
    "id": "532fff46"
   },
   "source": [
    "#### c) Comparación\n",
    "Los resultados de la pregunta 2 no tienen por qué estar centrados en los Lee Bounds porque estiman el efecto para toda la población, mientras que el intervalo de esta pregunta acota el efecto de tratamiento para los Always Respondents.\n",
    "\n",
    "Lo único que sí podemos ver es que el ATE observado en la muestra completa es mayor al ATE de los Always Respondents."
   ]
  },
  {
   "cell_type": "markdown",
   "id": "f8b1cbaf",
   "metadata": {
    "id": "f8b1cbaf"
   },
   "source": [
    "## 2. Matching"
   ]
  },
  {
   "cell_type": "code",
   "execution_count": null,
   "id": "49e3f38c",
   "metadata": {
    "id": "49e3f38c"
   },
   "outputs": [],
   "source": []
  }
 ],
 "metadata": {
  "colab": {
   "name": "main.ipynb",
   "provenance": []
  },
  "kernelspec": {
   "display_name": "Python 3",
   "language": "python",
   "name": "python3"
  },
  "language_info": {
   "codemirror_mode": {
    "name": "ipython",
    "version": 3
   },
   "file_extension": ".py",
   "mimetype": "text/x-python",
   "name": "python",
   "nbconvert_exporter": "python",
   "pygments_lexer": "ipython3",
   "version": "3.8.8"
  }
 },
 "nbformat": 4,
 "nbformat_minor": 5
}
