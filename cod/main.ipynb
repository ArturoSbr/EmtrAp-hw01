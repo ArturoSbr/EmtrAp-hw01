{
 "cells": [
  {
   "cell_type": "markdown",
   "id": "f4147fc8",
   "metadata": {
    "id": "f4147fc8"
   },
   "source": [
    "# Econometría Aplicada II\n",
    "## Tarea 1\n",
    "Importar librerías"
   ]
  },
  {
   "cell_type": "code",
   "execution_count": 1,
   "id": "0183c18b",
   "metadata": {
    "id": "0183c18b"
   },
   "outputs": [],
   "source": [
    "%%capture\n",
    "# Clonar repo si estamos en colab\n",
    "if 'google.colab' in str(get_ipython()):\n",
    "    !git clone https://github.com/ArturoSbr/EmtrAp2-hw01\n",
    "    # !pip install scipy==1.7.3\n",
    "    %cd EmtrAp2-hw01/cod\n",
    "\n",
    "# Libs\n",
    "import numpy as np\n",
    "import pandas as pd\n",
    "from scipy import stats\n",
    "from statsmodels.api import OLS\n",
    "from matplotlib import pyplot as plt"
   ]
  },
  {
   "cell_type": "markdown",
   "id": "f28d8dad",
   "metadata": {
    "id": "f28d8dad"
   },
   "source": [
    "Importar datos"
   ]
  },
  {
   "cell_type": "code",
   "execution_count": 2,
   "id": "69e10890",
   "metadata": {
    "id": "69e10890"
   },
   "outputs": [],
   "source": [
    "d1 = pd.read_csv('../dat/baseline.csv')\n",
    "d2 = pd.read_csv('../dat/endline.csv')\n",
    "d3 = pd.read_csv('../dat/completa.csv')"
   ]
  },
  {
   "cell_type": "markdown",
   "id": "b93ef3b8",
   "metadata": {
    "id": "b93ef3b8"
   },
   "source": [
    "### 1. Balance\n",
    "Tabla de balance por grupo de acuerdo a `T_nap`"
   ]
  },
  {
   "cell_type": "code",
   "execution_count": 3,
   "id": "14a8a3d0",
   "metadata": {
    "colab": {
     "base_uri": "https://localhost:8080/",
     "height": 359
    },
    "id": "14a8a3d0",
    "outputId": "9712409b-72f7-4fa7-fd46-886e1e33472a",
    "scrolled": false
   },
   "outputs": [
    {
     "data": {
      "text/html": [
       "<div>\n",
       "<style scoped>\n",
       "    .dataframe tbody tr th:only-of-type {\n",
       "        vertical-align: middle;\n",
       "    }\n",
       "\n",
       "    .dataframe tbody tr th {\n",
       "        vertical-align: top;\n",
       "    }\n",
       "\n",
       "    .dataframe thead th {\n",
       "        text-align: right;\n",
       "    }\n",
       "</style>\n",
       "<table border=\"1\" class=\"dataframe\">\n",
       "  <thead>\n",
       "    <tr style=\"text-align: right;\">\n",
       "      <th></th>\n",
       "      <th>var</th>\n",
       "      <th>t</th>\n",
       "      <th>p</th>\n",
       "    </tr>\n",
       "  </thead>\n",
       "  <tbody>\n",
       "    <tr>\n",
       "      <th>6</th>\n",
       "      <td>act_inbed</td>\n",
       "      <td>1.255</td>\n",
       "      <td>0.210</td>\n",
       "    </tr>\n",
       "    <tr>\n",
       "      <th>1</th>\n",
       "      <td>age_</td>\n",
       "      <td>-0.249</td>\n",
       "      <td>0.804</td>\n",
       "    </tr>\n",
       "    <tr>\n",
       "      <th>7</th>\n",
       "      <td>an_12_number_of_awakenings</td>\n",
       "      <td>0.780</td>\n",
       "      <td>0.436</td>\n",
       "    </tr>\n",
       "    <tr>\n",
       "      <th>8</th>\n",
       "      <td>an_13_average_awakening_length</td>\n",
       "      <td>0.111</td>\n",
       "      <td>0.912</td>\n",
       "    </tr>\n",
       "    <tr>\n",
       "      <th>3</th>\n",
       "      <td>education_</td>\n",
       "      <td>-1.296</td>\n",
       "      <td>0.196</td>\n",
       "    </tr>\n",
       "    <tr>\n",
       "      <th>2</th>\n",
       "      <td>female_</td>\n",
       "      <td>-0.034</td>\n",
       "      <td>0.973</td>\n",
       "    </tr>\n",
       "    <tr>\n",
       "      <th>5</th>\n",
       "      <td>no_of_children_</td>\n",
       "      <td>0.533</td>\n",
       "      <td>0.594</td>\n",
       "    </tr>\n",
       "    <tr>\n",
       "      <th>4</th>\n",
       "      <td>sleep_night</td>\n",
       "      <td>0.612</td>\n",
       "      <td>0.541</td>\n",
       "    </tr>\n",
       "    <tr>\n",
       "      <th>0</th>\n",
       "      <td>time_in_office</td>\n",
       "      <td>-0.246</td>\n",
       "      <td>0.806</td>\n",
       "    </tr>\n",
       "    <tr>\n",
       "      <th>9</th>\n",
       "      <td>unemployed</td>\n",
       "      <td>0.491</td>\n",
       "      <td>0.624</td>\n",
       "    </tr>\n",
       "  </tbody>\n",
       "</table>\n",
       "</div>"
      ],
      "text/plain": [
       "                              var      t      p\n",
       "6                       act_inbed  1.255  0.210\n",
       "1                            age_ -0.249  0.804\n",
       "7      an_12_number_of_awakenings  0.780  0.436\n",
       "8  an_13_average_awakening_length  0.111  0.912\n",
       "3                      education_ -1.296  0.196\n",
       "2                         female_ -0.034  0.973\n",
       "5                 no_of_children_  0.533  0.594\n",
       "4                     sleep_night  0.612  0.541\n",
       "0                  time_in_office -0.246  0.806\n",
       "9                      unemployed  0.491  0.624"
      ]
     },
     "execution_count": 3,
     "metadata": {},
     "output_type": "execute_result"
    }
   ],
   "source": [
    "# Seleccionar 10 variables basales\n",
    "X = ['time_in_office','age_','female_','education_','sleep_night','no_of_children_','act_inbed',\n",
    "     'an_12_number_of_awakenings','an_13_average_awakening_length','unemployed']\n",
    "\n",
    "# Inicializar lista\n",
    "d = []\n",
    "\n",
    "# Medias de variables basales\n",
    "for x in X:\n",
    "    # Grupos\n",
    "    b, a = d1.groupby('T_nap')[x].apply(np.array)\n",
    "    # t-test\n",
    "    test = stats.ttest_ind(a=a, b=b, equal_var=False, nan_policy='omit')\n",
    "    # Agregar a lista\n",
    "    d.append([x] + list(test))\n",
    "\n",
    "# A tabla\n",
    "t = pd.DataFrame(data=d, columns=['var','t','p']).sort_values('var')\n",
    "t.round(3)"
   ]
  },
  {
   "cell_type": "markdown",
   "id": "6010a6d0",
   "metadata": {
    "id": "6010a6d0"
   },
   "source": [
    "Evaluación conjunta de significancia"
   ]
  },
  {
   "cell_type": "code",
   "execution_count": 4,
   "id": "bf866f0f",
   "metadata": {
    "colab": {
     "base_uri": "https://localhost:8080/"
    },
    "id": "bf866f0f",
    "outputId": "43963b71-e57c-4b7f-b5d6-0c5b83dbac1a"
   },
   "outputs": [
    {
     "data": {
      "text/plain": [
       "0.8817119192790587"
      ]
     },
     "execution_count": 4,
     "metadata": {},
     "output_type": "execute_result"
    }
   ],
   "source": [
    "# T_nap en función de controles\n",
    "m = OLS(endog=d1['T_nap'], exog=d1[X].assign(const = 1)).fit()\n",
    "\n",
    "# p-value de prueba\n",
    "m.f_pvalue"
   ]
  },
  {
   "cell_type": "markdown",
   "id": "c364addf",
   "metadata": {
    "id": "c364addf"
   },
   "source": [
    "### 2. Efectos de tratamiento\n",
    "Declarar todas las variables dependientes"
   ]
  },
  {
   "cell_type": "markdown",
   "id": "13132de5",
   "metadata": {
    "id": "13132de5"
   },
   "source": [
    "#### a) Estimadores de Neyman"
   ]
  },
  {
   "cell_type": "code",
   "execution_count": 5,
   "id": "d05b58a9",
   "metadata": {
    "colab": {
     "base_uri": "https://localhost:8080/",
     "height": 204
    },
    "id": "d05b58a9",
    "outputId": "bc3404ac-b51c-4eba-959d-40152c3dd949"
   },
   "outputs": [
    {
     "name": "stdout",
     "output_type": "stream",
     "text": [
      "ATE sobre productividad: -170.53711387267913\n"
     ]
    }
   ],
   "source": [
    "# Función para estimador de Neyman\n",
    "def neyman(frame, treatment_col, values_col):\n",
    "    # Sacar arreglos C y T\n",
    "    m = frame[[treatment_col,values_col]].notna().all(axis=1)\n",
    "    a, b = frame[m].groupby(treatment_col)[values_col].apply(np.array)\n",
    "    # Estadístico t\n",
    "    tau = np.mean(b) - np.mean(a)\n",
    "    t = tau / np.sqrt(np.var(a, ddof=1) / len(a) + np.var(b, ddof=1) / len(b))\n",
    "    # p-value\n",
    "    p = 2 * (1 - stats.norm().cdf(np.abs(t)))\n",
    "    return [values_col, tau, t, p]\n",
    "\n",
    "# Diferencia de Neyman\n",
    "d = [neyman(d2, 'T_nap', 'productivity')[1:]]\n",
    "print(f'ATE sobre productividad: {d[0][0]}')"
   ]
  },
  {
   "cell_type": "markdown",
   "id": "2ed76558",
   "metadata": {
    "id": "2ed76558"
   },
   "source": [
    "#### b) Estimadores OLS sin controles"
   ]
  },
  {
   "cell_type": "code",
   "execution_count": 6,
   "id": "9f69843a",
   "metadata": {
    "colab": {
     "base_uri": "https://localhost:8080/",
     "height": 204
    },
    "id": "9f69843a",
    "outputId": "4da8a37b-8d09-4177-d118-7a5947e00648"
   },
   "outputs": [
    {
     "name": "stdout",
     "output_type": "stream",
     "text": [
      "ATE sobre productividad: -170.53711387267884\n"
     ]
    }
   ],
   "source": [
    "m = OLS(endog=d2['productivity'], exog=d2.assign(const = 1)[['const','T_nap']], missing='drop')\n",
    "m = m.fit(cov_type='HC0')\n",
    "\n",
    "# Agregar a `d`\n",
    "d.append([m.params['T_nap'], m.tvalues['T_nap'], m.pvalues['T_nap']])\n",
    "print(f'ATE sobre productividad: {d[1][0]}')"
   ]
  },
  {
   "cell_type": "markdown",
   "id": "672981fe",
   "metadata": {
    "id": "672981fe"
   },
   "source": [
    "#### c) Estimadores con controles\n",
    "De acuerdo al paper, $X_i$ contiene `age_` en cuartiles, `female_` y la variable que indica si $i$ fue asignado a trabajar o a tomarse un break en vez de tomar una siesta.\n",
    "\n",
    "Como esta pregunta usa la base con promedios durante los 20 días de estudio, la variable que indica la actividad asignada cada día a los individuos del grupo de control no está disponible."
   ]
  },
  {
   "cell_type": "code",
   "execution_count": 7,
   "id": "29012c16",
   "metadata": {
    "colab": {
     "base_uri": "https://localhost:8080/",
     "height": 204
    },
    "id": "29012c16",
    "outputId": "814d8ca2-fad2-48f6-e454-e5286e2386db"
   },
   "outputs": [
    {
     "name": "stdout",
     "output_type": "stream",
     "text": [
      "ATE sobre productividad: -212.86371743292182\n"
     ]
    }
   ],
   "source": [
    "# Edad a cuartiles y luego a dummies\n",
    "d2['age_q'] = pd.qcut(x=d2['age_'], q=4, labels=[f'q{i}' for i in range(1,5)])\n",
    "d2 = pd.get_dummies(data=d2, prefix='age_', prefix_sep='', columns=['age_q'], )\n",
    "\n",
    "# Tratamiento y controles\n",
    "X = ['T_nap','const','age_q2','age_q3','age_q4','female_']\n",
    "\n",
    "# Correr regresión\n",
    "m = OLS(endog=d2['productivity'], exog=d2.assign(const = 1)[X], missing='drop')\n",
    "m = m.fit(cov_type='HC0')\n",
    "\n",
    "# Agregar a `d`\n",
    "d.append([m.params['T_nap'], m.tvalues['T_nap'], m.pvalues['T_nap']])\n",
    "print(f'ATE sobre productividad: {d[2][0]}')"
   ]
  },
  {
   "cell_type": "markdown",
   "id": "taHtJSS3Y1xS",
   "metadata": {
    "id": "taHtJSS3Y1xS"
   },
   "source": [
    "#### d) Resultados a tabla"
   ]
  },
  {
   "cell_type": "code",
   "execution_count": 8,
   "id": "eyUKsklr_SAf",
   "metadata": {
    "colab": {
     "base_uri": "https://localhost:8080/",
     "height": 545
    },
    "id": "eyUKsklr_SAf",
    "outputId": "aea70dc7-83a5-47ab-fecd-5dbfbb1a61fa"
   },
   "outputs": [
    {
     "data": {
      "text/html": [
       "<div>\n",
       "<style scoped>\n",
       "    .dataframe tbody tr th:only-of-type {\n",
       "        vertical-align: middle;\n",
       "    }\n",
       "\n",
       "    .dataframe tbody tr th {\n",
       "        vertical-align: top;\n",
       "    }\n",
       "\n",
       "    .dataframe thead th {\n",
       "        text-align: right;\n",
       "    }\n",
       "</style>\n",
       "<table border=\"1\" class=\"dataframe\">\n",
       "  <thead>\n",
       "    <tr style=\"text-align: right;\">\n",
       "      <th></th>\n",
       "      <th>tau</th>\n",
       "      <th>t</th>\n",
       "      <th>p</th>\n",
       "    </tr>\n",
       "  </thead>\n",
       "  <tbody>\n",
       "    <tr>\n",
       "      <th>Neyman</th>\n",
       "      <td>-170.537114</td>\n",
       "      <td>-0.958923</td>\n",
       "      <td>0.337598</td>\n",
       "    </tr>\n",
       "    <tr>\n",
       "      <th>OLS simple</th>\n",
       "      <td>-170.537114</td>\n",
       "      <td>-0.961244</td>\n",
       "      <td>0.336429</td>\n",
       "    </tr>\n",
       "    <tr>\n",
       "      <th>OLS controles</th>\n",
       "      <td>-212.863717</td>\n",
       "      <td>-1.263394</td>\n",
       "      <td>0.206447</td>\n",
       "    </tr>\n",
       "  </tbody>\n",
       "</table>\n",
       "</div>"
      ],
      "text/plain": [
       "                      tau         t         p\n",
       "Neyman        -170.537114 -0.958923  0.337598\n",
       "OLS simple    -170.537114 -0.961244  0.336429\n",
       "OLS controles -212.863717 -1.263394  0.206447"
      ]
     },
     "execution_count": 8,
     "metadata": {},
     "output_type": "execute_result"
    }
   ],
   "source": [
    "# Concatenar resultados\n",
    "t = pd.DataFrame(data=d, columns=['tau','t','p'], index=['Neyman','OLS simple','OLS controles'])\n",
    "t"
   ]
  },
  {
   "cell_type": "markdown",
   "id": "yhCJvUmyCRUy",
   "metadata": {
    "id": "yhCJvUmyCRUy"
   },
   "source": [
    "#### e) Nuevas variables dependientes"
   ]
  },
  {
   "cell_type": "code",
   "execution_count": 9,
   "id": "RNe2PpD_CifM",
   "metadata": {
    "colab": {
     "base_uri": "https://localhost:8080/",
     "height": 204
    },
    "id": "RNe2PpD_CifM",
    "outputId": "4fafc872-232a-42f2-bf5c-30b590a8c6e1"
   },
   "outputs": [
    {
     "data": {
      "text/html": [
       "<div>\n",
       "<style scoped>\n",
       "    .dataframe tbody tr th:only-of-type {\n",
       "        vertical-align: middle;\n",
       "    }\n",
       "\n",
       "    .dataframe tbody tr th {\n",
       "        vertical-align: top;\n",
       "    }\n",
       "\n",
       "    .dataframe thead th {\n",
       "        text-align: right;\n",
       "    }\n",
       "</style>\n",
       "<table border=\"1\" class=\"dataframe\">\n",
       "  <thead>\n",
       "    <tr style=\"text-align: right;\">\n",
       "      <th></th>\n",
       "      <th>nap_time_mins</th>\n",
       "      <th>sleep_report</th>\n",
       "      <th>happy</th>\n",
       "      <th>cog</th>\n",
       "      <th>typing_time_hr</th>\n",
       "    </tr>\n",
       "  </thead>\n",
       "  <tbody>\n",
       "    <tr>\n",
       "      <th>tau</th>\n",
       "      <td>11.745</td>\n",
       "      <td>0.049</td>\n",
       "      <td>0.050</td>\n",
       "      <td>0.029</td>\n",
       "      <td>-0.018</td>\n",
       "    </tr>\n",
       "    <tr>\n",
       "      <th>t</th>\n",
       "      <td>39.444</td>\n",
       "      <td>1.119</td>\n",
       "      <td>1.422</td>\n",
       "      <td>0.531</td>\n",
       "      <td>-0.167</td>\n",
       "    </tr>\n",
       "    <tr>\n",
       "      <th>p</th>\n",
       "      <td>0.000</td>\n",
       "      <td>0.263</td>\n",
       "      <td>0.155</td>\n",
       "      <td>0.596</td>\n",
       "      <td>0.868</td>\n",
       "    </tr>\n",
       "  </tbody>\n",
       "</table>\n",
       "</div>"
      ],
      "text/plain": [
       "     nap_time_mins  sleep_report  happy    cog  typing_time_hr\n",
       "tau         11.745         0.049  0.050  0.029          -0.018\n",
       "t           39.444         1.119  1.422  0.531          -0.167\n",
       "p            0.000         0.263  0.155  0.596           0.868"
      ]
     },
     "execution_count": 9,
     "metadata": {},
     "output_type": "execute_result"
    }
   ],
   "source": [
    "# Crear índice de habilidades cognitivas\n",
    "d2['cog'] = d2[['corsi_measure','hf_measure','pvt_measure']] \\\n",
    "    .apply(lambda x: (x - x.mean()) / x.std()).mean(axis=1)\n",
    "\n",
    "# Nuevas variables dependientes\n",
    "Y = ['nap_time_mins','sleep_report','happy','cog','typing_time_hr']\n",
    "\n",
    "# Correr regresiones\n",
    "d = []\n",
    "for y in Y:\n",
    "    m = OLS(endog=d2[y], exog=d2.assign(const = 1)[X], missing='drop')\n",
    "    m = m.fit(cov_type='HC0')\n",
    "    d.append([m.params['T_nap'], m.tvalues['T_nap'], m.pvalues['T_nap']])\n",
    "\n",
    "# Resultados a tabla\n",
    "t = pd.DataFrame(data=d, columns=['tau','t','p'], index=Y)\n",
    "\n",
    "# Visualizar\n",
    "t.transpose().round(3)"
   ]
  },
  {
   "cell_type": "markdown",
   "id": "4Y2Chd2LDfmr",
   "metadata": {
    "id": "4Y2Chd2LDfmr"
   },
   "source": [
    "De acuerdo al modelo $\\bar{y}_i = \\beta T_i + X_i^T\\gamma$, donde $X_i$ controla por la edad (en cuartiles) y por sexo, el efecto de estimado de tratamiento de tomar una siesta es:\n",
    "1. Aumentar el promedio de minutos dormidos durante la siesta en de 0 a 11.6 minutos.\n",
    "1. Aumentar el promedio de número de horas de sueño reportadas en 0.05 horas por día (pero no tiene significancia estadística).\n",
    "1. Aumentar el promedio de la calificación de felicidad reportada en 0.03 puntos (pero no tiene significancia estadística)\n",
    "1. Aumentar el índice promedio de desempeño cognitivo en 0.03 desviaciones estándar (pero no tiene significancia estadística)\n",
    "1. Reducir el promedio de horas trabajadas en 0.083 unidades diarias (pero no tiene significancia estadística)"
   ]
  },
  {
   "cell_type": "markdown",
   "id": "02f45af7",
   "metadata": {
    "id": "02f45af7"
   },
   "source": [
    "### 3. Fischer's Exact Test\n",
    "#### a) El tratamiento no tiene efecto"
   ]
  },
  {
   "cell_type": "code",
   "execution_count": 10,
   "id": "11061de9",
   "metadata": {
    "id": "11061de9"
   },
   "outputs": [
    {
     "name": "stdout",
     "output_type": "stream",
     "text": [
      "p-value: 0.308\n"
     ]
    }
   ],
   "source": [
    "fet = stats.permutation_test(data=(d2.loc[d2['T_nap'].eq(1) & d2['productivity'].notna(), 'productivity'],\n",
    "                                   d2.loc[d2['T_nap'].eq(0) & d2['productivity'].notna(), 'productivity']),\n",
    "                             statistic=lambda x, y: np.mean(x) - np.mean(y),\n",
    "                             n_resamples=1000,\n",
    "                             random_state=42)\n",
    "\n",
    "print('p-value:', round(fet.pvalue, 3))"
   ]
  },
  {
   "cell_type": "markdown",
   "id": "f58580fe",
   "metadata": {},
   "source": [
    "#### b) Conclusión\n",
    "El p-value de la diferencia de Neyman y de OLS sin controles es 0.329, mientras que con la falsificación de Fischer el p-value es 0.328. Estos p-values son muy parecidos entre sí, por lo que podemos concluir con un alto grado de certeza que el efecto de las siestas sobre la productividad no es estadísticamente significativo.\n",
    "\n",
    "Cuando agregamos controles al modelo OLS, el p-value baja a 0.238, lo cual es menor a lo que solía ser, pero permance sin significancia estadística.\n",
    "\n",
    "En resumen, todos los casos indican que las siestas no tienen un efecto estadísticamente significativo sobre la productividad de las personas."
   ]
  },
  {
   "cell_type": "markdown",
   "id": "YH7UHbqiyi38",
   "metadata": {
    "id": "YH7UHbqiyi38"
   },
   "source": [
    "### 4. Estratificación"
   ]
  },
  {
   "cell_type": "code",
   "execution_count": 11,
   "id": "PTlD8fapF4a1",
   "metadata": {
    "id": "PTlD8fapF4a1"
   },
   "outputs": [],
   "source": [
    "# Crear casos con datos basales\n",
    "d1[['aboveEarn','aboveSleep']] = d1[['earnings','sleep_night']].apply(lambda x: (x > x.median()).astype(int), axis=0)\n",
    "\n",
    "# Agregar casos a `d2`\n",
    "d2 = d2.merge(d1[['pid','aboveEarn','aboveSleep']], on='pid')"
   ]
  },
  {
   "cell_type": "markdown",
   "id": "efc457e3",
   "metadata": {},
   "source": [
    "#### a) Número de observaciones asignadas a tratamiento en cada estrato"
   ]
  },
  {
   "cell_type": "code",
   "execution_count": 12,
   "id": "7282e18d",
   "metadata": {
    "scrolled": true
   },
   "outputs": [
    {
     "data": {
      "text/plain": [
       "aboveEarn  aboveSleep\n",
       "0          0             57\n",
       "           1             45\n",
       "1          0             45\n",
       "           1             58\n",
       "Name: T_nap, dtype: int64"
      ]
     },
     "execution_count": 12,
     "metadata": {},
     "output_type": "execute_result"
    }
   ],
   "source": [
    "d1.groupby(['aboveEarn','aboveSleep'])['T_nap'].sum()"
   ]
  },
  {
   "cell_type": "code",
   "execution_count": 13,
   "id": "b8ae8bef",
   "metadata": {},
   "outputs": [
    {
     "data": {
      "text/plain": [
       "aboveEarn  aboveSleep\n",
       "0          0             57\n",
       "           1             45\n",
       "1          0             45\n",
       "           1             58\n",
       "Name: T_nap, dtype: int64"
      ]
     },
     "execution_count": 13,
     "metadata": {},
     "output_type": "execute_result"
    }
   ],
   "source": [
    "d2.groupby(['aboveEarn','aboveSleep'])['T_nap'].sum()"
   ]
  },
  {
   "cell_type": "markdown",
   "id": "Al8XmkPs7rZX",
   "metadata": {
    "id": "Al8XmkPs7rZX"
   },
   "source": [
    "El número de observaciones asignadas a tratamiento en cada estrato suma a 122. Es decir, el 50% de la población fue asignada a tratamiento. Sin embargo, el número de personas en cada grupo no es constante, sino que a veces está por encima de este número (59 y 60) y a veces está por debajo (54 y 53).\n",
    "\n",
    "#### b) Efectos por estrato y agregados\n",
    "Efectos por estrato"
   ]
  },
  {
   "cell_type": "code",
   "execution_count": 14,
   "id": "Ff-NRUdj8mm2",
   "metadata": {
    "colab": {
     "base_uri": "https://localhost:8080/",
     "height": 669
    },
    "id": "Ff-NRUdj8mm2",
    "outputId": "ece75b40-8beb-4ffa-ff42-10b8cc79b238"
   },
   "outputs": [
    {
     "data": {
      "text/html": [
       "<div>\n",
       "<style scoped>\n",
       "    .dataframe tbody tr th:only-of-type {\n",
       "        vertical-align: middle;\n",
       "    }\n",
       "\n",
       "    .dataframe tbody tr th {\n",
       "        vertical-align: top;\n",
       "    }\n",
       "\n",
       "    .dataframe thead th {\n",
       "        text-align: right;\n",
       "    }\n",
       "</style>\n",
       "<table border=\"1\" class=\"dataframe\">\n",
       "  <thead>\n",
       "    <tr style=\"text-align: right;\">\n",
       "      <th></th>\n",
       "      <th></th>\n",
       "      <th></th>\n",
       "      <th>tau</th>\n",
       "    </tr>\n",
       "    <tr>\n",
       "      <th>depvar</th>\n",
       "      <th>aboveEarn</th>\n",
       "      <th>aboveSleep</th>\n",
       "      <th></th>\n",
       "    </tr>\n",
       "  </thead>\n",
       "  <tbody>\n",
       "    <tr>\n",
       "      <th rowspan=\"4\" valign=\"top\">nap_time_mins</th>\n",
       "      <th rowspan=\"2\" valign=\"top\">0</th>\n",
       "      <th>0</th>\n",
       "      <td>10.884</td>\n",
       "    </tr>\n",
       "    <tr>\n",
       "      <th>1</th>\n",
       "      <td>13.413</td>\n",
       "    </tr>\n",
       "    <tr>\n",
       "      <th rowspan=\"2\" valign=\"top\">1</th>\n",
       "      <th>0</th>\n",
       "      <td>11.479</td>\n",
       "    </tr>\n",
       "    <tr>\n",
       "      <th>1</th>\n",
       "      <td>11.395</td>\n",
       "    </tr>\n",
       "    <tr>\n",
       "      <th rowspan=\"4\" valign=\"top\">sleep_report</th>\n",
       "      <th rowspan=\"2\" valign=\"top\">0</th>\n",
       "      <th>0</th>\n",
       "      <td>0.153</td>\n",
       "    </tr>\n",
       "    <tr>\n",
       "      <th>1</th>\n",
       "      <td>0.010</td>\n",
       "    </tr>\n",
       "    <tr>\n",
       "      <th rowspan=\"2\" valign=\"top\">1</th>\n",
       "      <th>0</th>\n",
       "      <td>0.029</td>\n",
       "    </tr>\n",
       "    <tr>\n",
       "      <th>1</th>\n",
       "      <td>-0.015</td>\n",
       "    </tr>\n",
       "    <tr>\n",
       "      <th rowspan=\"4\" valign=\"top\">happy</th>\n",
       "      <th rowspan=\"2\" valign=\"top\">0</th>\n",
       "      <th>0</th>\n",
       "      <td>-0.032</td>\n",
       "    </tr>\n",
       "    <tr>\n",
       "      <th>1</th>\n",
       "      <td>0.047</td>\n",
       "    </tr>\n",
       "    <tr>\n",
       "      <th rowspan=\"2\" valign=\"top\">1</th>\n",
       "      <th>0</th>\n",
       "      <td>0.130</td>\n",
       "    </tr>\n",
       "    <tr>\n",
       "      <th>1</th>\n",
       "      <td>0.073</td>\n",
       "    </tr>\n",
       "    <tr>\n",
       "      <th rowspan=\"4\" valign=\"top\">cog</th>\n",
       "      <th rowspan=\"2\" valign=\"top\">0</th>\n",
       "      <th>0</th>\n",
       "      <td>0.218</td>\n",
       "    </tr>\n",
       "    <tr>\n",
       "      <th>1</th>\n",
       "      <td>0.054</td>\n",
       "    </tr>\n",
       "    <tr>\n",
       "      <th rowspan=\"2\" valign=\"top\">1</th>\n",
       "      <th>0</th>\n",
       "      <td>-0.142</td>\n",
       "    </tr>\n",
       "    <tr>\n",
       "      <th>1</th>\n",
       "      <td>-0.039</td>\n",
       "    </tr>\n",
       "    <tr>\n",
       "      <th rowspan=\"4\" valign=\"top\">typing_time_hr</th>\n",
       "      <th rowspan=\"2\" valign=\"top\">0</th>\n",
       "      <th>0</th>\n",
       "      <td>-0.153</td>\n",
       "    </tr>\n",
       "    <tr>\n",
       "      <th>1</th>\n",
       "      <td>0.197</td>\n",
       "    </tr>\n",
       "    <tr>\n",
       "      <th rowspan=\"2\" valign=\"top\">1</th>\n",
       "      <th>0</th>\n",
       "      <td>-0.051</td>\n",
       "    </tr>\n",
       "    <tr>\n",
       "      <th>1</th>\n",
       "      <td>-0.030</td>\n",
       "    </tr>\n",
       "  </tbody>\n",
       "</table>\n",
       "</div>"
      ],
      "text/plain": [
       "                                        tau\n",
       "depvar         aboveEarn aboveSleep        \n",
       "nap_time_mins  0         0           10.884\n",
       "                         1           13.413\n",
       "               1         0           11.479\n",
       "                         1           11.395\n",
       "sleep_report   0         0            0.153\n",
       "                         1            0.010\n",
       "               1         0            0.029\n",
       "                         1           -0.015\n",
       "happy          0         0           -0.032\n",
       "                         1            0.047\n",
       "               1         0            0.130\n",
       "                         1            0.073\n",
       "cog            0         0            0.218\n",
       "                         1            0.054\n",
       "               1         0           -0.142\n",
       "                         1           -0.039\n",
       "typing_time_hr 0         0           -0.153\n",
       "                         1            0.197\n",
       "               1         0           -0.051\n",
       "                         1           -0.030"
      ]
     },
     "execution_count": 14,
     "metadata": {},
     "output_type": "execute_result"
    }
   ],
   "source": [
    "# Inicializar lista\n",
    "d = []\n",
    "\n",
    "# Efecto por esstrato a cada variable\n",
    "for y in Y:\n",
    "    for e, s in [(0,0),(0,1),(1,0),(1,1)]:\n",
    "        # Máscara\n",
    "        m = d2['aboveEarn'].eq(e) & d2['aboveSleep'].eq(s)\n",
    "        d.append([e, s, m.sum(), m.sum() / len(d2)] + neyman(d2[m], 'T_nap', y))\n",
    "\n",
    "t = pd.DataFrame(data=d, columns=['aboveEarn','aboveSleep','ng','wg','depvar','tau','t','p'])\n",
    "t = t.set_index(['depvar','aboveEarn','aboveSleep'])\n",
    "\n",
    "# Visualizar resultados\n",
    "t[['tau']].round(3)"
   ]
  },
  {
   "cell_type": "markdown",
   "id": "M6uh5l0Q-7QT",
   "metadata": {
    "id": "M6uh5l0Q-7QT"
   },
   "source": [
    "Efectos agregados"
   ]
  },
  {
   "cell_type": "markdown",
   "id": "lFW-SrlP-_LA",
   "metadata": {
    "id": "lFW-SrlP-_LA"
   },
   "source": [
    "#### c) Efectos estratificados con OLS"
   ]
  },
  {
   "cell_type": "code",
   "execution_count": 15,
   "id": "00-JDHEH_DXC",
   "metadata": {
    "colab": {
     "base_uri": "https://localhost:8080/",
     "height": 979
    },
    "id": "00-JDHEH_DXC",
    "outputId": "403951de-eeae-4ca6-a148-4514ffffe53d"
   },
   "outputs": [
    {
     "data": {
      "text/html": [
       "<div>\n",
       "<style scoped>\n",
       "    .dataframe tbody tr th:only-of-type {\n",
       "        vertical-align: middle;\n",
       "    }\n",
       "\n",
       "    .dataframe tbody tr th {\n",
       "        vertical-align: top;\n",
       "    }\n",
       "\n",
       "    .dataframe thead th {\n",
       "        text-align: right;\n",
       "    }\n",
       "</style>\n",
       "<table border=\"1\" class=\"dataframe\">\n",
       "  <thead>\n",
       "    <tr style=\"text-align: right;\">\n",
       "      <th></th>\n",
       "      <th></th>\n",
       "      <th>value</th>\n",
       "      <th>t</th>\n",
       "      <th>p</th>\n",
       "    </tr>\n",
       "    <tr>\n",
       "      <th>depvar</th>\n",
       "      <th>beta</th>\n",
       "      <th></th>\n",
       "      <th></th>\n",
       "      <th></th>\n",
       "    </tr>\n",
       "  </thead>\n",
       "  <tbody>\n",
       "    <tr>\n",
       "      <th rowspan=\"3\" valign=\"top\">nap_time_mins</th>\n",
       "      <th>T_nap</th>\n",
       "      <td>11.462</td>\n",
       "      <td>21.216</td>\n",
       "      <td>0.000</td>\n",
       "    </tr>\n",
       "    <tr>\n",
       "      <th>aboveEarnT</th>\n",
       "      <td>-0.716</td>\n",
       "      <td>-1.221</td>\n",
       "      <td>0.222</td>\n",
       "    </tr>\n",
       "    <tr>\n",
       "      <th>aboveSleepT</th>\n",
       "      <td>1.218</td>\n",
       "      <td>2.073</td>\n",
       "      <td>0.038</td>\n",
       "    </tr>\n",
       "    <tr>\n",
       "      <th rowspan=\"3\" valign=\"top\">sleep_report</th>\n",
       "      <th>T_nap</th>\n",
       "      <td>0.131</td>\n",
       "      <td>1.115</td>\n",
       "      <td>0.265</td>\n",
       "    </tr>\n",
       "    <tr>\n",
       "      <th>aboveEarnT</th>\n",
       "      <td>-0.074</td>\n",
       "      <td>-0.971</td>\n",
       "      <td>0.331</td>\n",
       "    </tr>\n",
       "    <tr>\n",
       "      <th>aboveSleepT</th>\n",
       "      <td>-0.093</td>\n",
       "      <td>-1.226</td>\n",
       "      <td>0.220</td>\n",
       "    </tr>\n",
       "    <tr>\n",
       "      <th rowspan=\"3\" valign=\"top\">happy</th>\n",
       "      <th>T_nap</th>\n",
       "      <td>-0.002</td>\n",
       "      <td>-0.031</td>\n",
       "      <td>0.975</td>\n",
       "    </tr>\n",
       "    <tr>\n",
       "      <th>aboveEarnT</th>\n",
       "      <td>0.094</td>\n",
       "      <td>1.363</td>\n",
       "      <td>0.173</td>\n",
       "    </tr>\n",
       "    <tr>\n",
       "      <th>aboveSleepT</th>\n",
       "      <td>0.011</td>\n",
       "      <td>0.166</td>\n",
       "      <td>0.868</td>\n",
       "    </tr>\n",
       "    <tr>\n",
       "      <th rowspan=\"3\" valign=\"top\">cog</th>\n",
       "      <th>T_nap</th>\n",
       "      <td>0.158</td>\n",
       "      <td>1.648</td>\n",
       "      <td>0.099</td>\n",
       "    </tr>\n",
       "    <tr>\n",
       "      <th>aboveEarnT</th>\n",
       "      <td>-0.226</td>\n",
       "      <td>-2.080</td>\n",
       "      <td>0.038</td>\n",
       "    </tr>\n",
       "    <tr>\n",
       "      <th>aboveSleepT</th>\n",
       "      <td>-0.031</td>\n",
       "      <td>-0.284</td>\n",
       "      <td>0.776</td>\n",
       "    </tr>\n",
       "    <tr>\n",
       "      <th rowspan=\"3\" valign=\"top\">typing_time_hr</th>\n",
       "      <th>T_nap</th>\n",
       "      <td>-0.079</td>\n",
       "      <td>-0.450</td>\n",
       "      <td>0.653</td>\n",
       "    </tr>\n",
       "    <tr>\n",
       "      <th>aboveEarnT</th>\n",
       "      <td>-0.063</td>\n",
       "      <td>-0.288</td>\n",
       "      <td>0.773</td>\n",
       "    </tr>\n",
       "    <tr>\n",
       "      <th>aboveSleepT</th>\n",
       "      <td>0.185</td>\n",
       "      <td>0.845</td>\n",
       "      <td>0.398</td>\n",
       "    </tr>\n",
       "  </tbody>\n",
       "</table>\n",
       "</div>"
      ],
      "text/plain": [
       "                             value       t      p\n",
       "depvar         beta                              \n",
       "nap_time_mins  T_nap        11.462  21.216  0.000\n",
       "               aboveEarnT   -0.716  -1.221  0.222\n",
       "               aboveSleepT   1.218   2.073  0.038\n",
       "sleep_report   T_nap         0.131   1.115  0.265\n",
       "               aboveEarnT   -0.074  -0.971  0.331\n",
       "               aboveSleepT  -0.093  -1.226  0.220\n",
       "happy          T_nap        -0.002  -0.031  0.975\n",
       "               aboveEarnT    0.094   1.363  0.173\n",
       "               aboveSleepT   0.011   0.166  0.868\n",
       "cog            T_nap         0.158   1.648  0.099\n",
       "               aboveEarnT   -0.226  -2.080  0.038\n",
       "               aboveSleepT  -0.031  -0.284  0.776\n",
       "typing_time_hr T_nap        -0.079  -0.450  0.653\n",
       "               aboveEarnT   -0.063  -0.288  0.773\n",
       "               aboveSleepT   0.185   0.845  0.398"
      ]
     },
     "execution_count": 15,
     "metadata": {},
     "output_type": "execute_result"
    }
   ],
   "source": [
    "# Declarar columnas\n",
    "d2 = d2.assign(const = 1,\n",
    "               aboveEarnT = d2['aboveEarn'].multiply(d2['T_nap']),\n",
    "               aboveSleepT = d2['aboveSleep'].multiply(d2['T_nap']))\n",
    "\n",
    "# Declarar variables independientes\n",
    "X = ['const','T_nap','aboveEarn','aboveEarnT','aboveSleep','aboveSleepT']\n",
    "\n",
    "# OLS para cada variable\n",
    "d = []\n",
    "for y in Y:\n",
    "    m = d2[X + [y]].notna().all(axis=1)\n",
    "    m = OLS(endog=d2.loc[m, y], exog=d2.loc[m, X], missing='raise').fit(cov_type='HC0')\n",
    "    d.append(pd.concat([m.params, m.tvalues, m.pvalues], axis=1).assign(depvar = y))\n",
    "\n",
    "# A tabla\n",
    "t = pd.concat(d, axis=0).reset_index()\n",
    "t.columns = ['beta','value','t','p','depvar']\n",
    "t = t.set_index(['depvar','beta'])\n",
    "t[t.index.get_level_values(1).isin(['T_nap','aboveEarnT','aboveSleepT'])].round(3)"
   ]
  },
  {
   "cell_type": "markdown",
   "id": "CH-S_ck8EgvX",
   "metadata": {
    "id": "CH-S_ck8EgvX"
   },
   "source": [
    "### 5. Atrición\n",
    "#### a) Reportar atrición"
   ]
  },
  {
   "cell_type": "code",
   "execution_count": 16,
   "id": "eC-UEM2iMUbT",
   "metadata": {
    "colab": {
     "base_uri": "https://localhost:8080/",
     "height": 142
    },
    "id": "eC-UEM2iMUbT",
    "outputId": "d890bef7-ee7f-4cf1-a462-4d686cfa8d13",
    "scrolled": true
   },
   "outputs": [
    {
     "data": {
      "text/html": [
       "<div>\n",
       "<style scoped>\n",
       "    .dataframe tbody tr th:only-of-type {\n",
       "        vertical-align: middle;\n",
       "    }\n",
       "\n",
       "    .dataframe tbody tr th {\n",
       "        vertical-align: top;\n",
       "    }\n",
       "\n",
       "    .dataframe thead th {\n",
       "        text-align: right;\n",
       "    }\n",
       "</style>\n",
       "<table border=\"1\" class=\"dataframe\">\n",
       "  <thead>\n",
       "    <tr style=\"text-align: right;\">\n",
       "      <th></th>\n",
       "      <th>size</th>\n",
       "      <th>sum</th>\n",
       "      <th>pct</th>\n",
       "    </tr>\n",
       "    <tr>\n",
       "      <th>T_nap</th>\n",
       "      <th></th>\n",
       "      <th></th>\n",
       "      <th></th>\n",
       "    </tr>\n",
       "  </thead>\n",
       "  <tbody>\n",
       "    <tr>\n",
       "      <th>0</th>\n",
       "      <td>209</td>\n",
       "      <td>81</td>\n",
       "      <td>38.76</td>\n",
       "    </tr>\n",
       "    <tr>\n",
       "      <th>1</th>\n",
       "      <td>205</td>\n",
       "      <td>23</td>\n",
       "      <td>11.22</td>\n",
       "    </tr>\n",
       "  </tbody>\n",
       "</table>\n",
       "</div>"
      ],
      "text/plain": [
       "       size  sum    pct\n",
       "T_nap                  \n",
       "0       209   81  38.76\n",
       "1       205   23  11.22"
      ]
     },
     "execution_count": 16,
     "metadata": {},
     "output_type": "execute_result"
    }
   ],
   "source": [
    "t = d2.groupby('T_nap')['drop_indicator'].agg(['size','sum'])\n",
    "t['pct'] = t['sum'].div(t['size']) * 100\n",
    "t.round(2)"
   ]
  },
  {
   "cell_type": "markdown",
   "id": "LLZVrrPwMhDb",
   "metadata": {
    "id": "LLZVrrPwMhDb"
   },
   "source": [
    "#### b) Nuevo balance\n",
    "Validez interna"
   ]
  },
  {
   "cell_type": "code",
   "execution_count": 17,
   "id": "qUvzp87XNUcK",
   "metadata": {
    "colab": {
     "base_uri": "https://localhost:8080/",
     "height": 359
    },
    "id": "qUvzp87XNUcK",
    "outputId": "e42d4742-31ed-4a6f-ca73-d138bb02899c"
   },
   "outputs": [
    {
     "data": {
      "text/html": [
       "<div>\n",
       "<style scoped>\n",
       "    .dataframe tbody tr th:only-of-type {\n",
       "        vertical-align: middle;\n",
       "    }\n",
       "\n",
       "    .dataframe tbody tr th {\n",
       "        vertical-align: top;\n",
       "    }\n",
       "\n",
       "    .dataframe thead th {\n",
       "        text-align: right;\n",
       "    }\n",
       "</style>\n",
       "<table border=\"1\" class=\"dataframe\">\n",
       "  <thead>\n",
       "    <tr style=\"text-align: right;\">\n",
       "      <th></th>\n",
       "      <th>variable</th>\n",
       "      <th>t-stat</th>\n",
       "      <th>p-value</th>\n",
       "    </tr>\n",
       "  </thead>\n",
       "  <tbody>\n",
       "    <tr>\n",
       "      <th>6</th>\n",
       "      <td>act_inbed</td>\n",
       "      <td>-1.346</td>\n",
       "      <td>0.179</td>\n",
       "    </tr>\n",
       "    <tr>\n",
       "      <th>1</th>\n",
       "      <td>age_</td>\n",
       "      <td>0.455</td>\n",
       "      <td>0.650</td>\n",
       "    </tr>\n",
       "    <tr>\n",
       "      <th>7</th>\n",
       "      <td>an_12_number_of_awakenings</td>\n",
       "      <td>-0.597</td>\n",
       "      <td>0.551</td>\n",
       "    </tr>\n",
       "    <tr>\n",
       "      <th>8</th>\n",
       "      <td>an_13_average_awakening_length</td>\n",
       "      <td>-0.685</td>\n",
       "      <td>0.494</td>\n",
       "    </tr>\n",
       "    <tr>\n",
       "      <th>3</th>\n",
       "      <td>education_</td>\n",
       "      <td>-3.256</td>\n",
       "      <td>0.001</td>\n",
       "    </tr>\n",
       "    <tr>\n",
       "      <th>2</th>\n",
       "      <td>female_</td>\n",
       "      <td>0.577</td>\n",
       "      <td>0.564</td>\n",
       "    </tr>\n",
       "    <tr>\n",
       "      <th>5</th>\n",
       "      <td>no_of_children_</td>\n",
       "      <td>1.989</td>\n",
       "      <td>0.048</td>\n",
       "    </tr>\n",
       "    <tr>\n",
       "      <th>4</th>\n",
       "      <td>sleep_night</td>\n",
       "      <td>-0.502</td>\n",
       "      <td>0.616</td>\n",
       "    </tr>\n",
       "    <tr>\n",
       "      <th>0</th>\n",
       "      <td>time_in_office</td>\n",
       "      <td>-0.184</td>\n",
       "      <td>0.854</td>\n",
       "    </tr>\n",
       "    <tr>\n",
       "      <th>9</th>\n",
       "      <td>unemployed</td>\n",
       "      <td>0.864</td>\n",
       "      <td>0.388</td>\n",
       "    </tr>\n",
       "  </tbody>\n",
       "</table>\n",
       "</div>"
      ],
      "text/plain": [
       "                         variable  t-stat  p-value\n",
       "6                       act_inbed  -1.346    0.179\n",
       "1                            age_   0.455    0.650\n",
       "7      an_12_number_of_awakenings  -0.597    0.551\n",
       "8  an_13_average_awakening_length  -0.685    0.494\n",
       "3                      education_  -3.256    0.001\n",
       "2                         female_   0.577    0.564\n",
       "5                 no_of_children_   1.989    0.048\n",
       "4                     sleep_night  -0.502    0.616\n",
       "0                  time_in_office  -0.184    0.854\n",
       "9                      unemployed   0.864    0.388"
      ]
     },
     "execution_count": 17,
     "metadata": {},
     "output_type": "execute_result"
    }
   ],
   "source": [
    "# Variables dependientes\n",
    "X = ['time_in_office','age_','female_','education_','sleep_night','no_of_children_','act_inbed',\n",
    "     'an_12_number_of_awakenings','an_13_average_awakening_length','unemployed']\n",
    "\n",
    "# Tabla de balance\n",
    "d = []\n",
    "for x in X:\n",
    "    b, a = d2[d2['drop_indicator'].eq(0)].groupby('T_nap')[x].apply(np.array)\n",
    "    test = stats.ttest_ind(a=a, b=b, equal_var=False, nan_policy='omit')\n",
    "    d.append([x] + list(test))\n",
    "\n",
    "t = pd.DataFrame(data=d, columns=['variable','t-stat','p-value'])\n",
    "t.sort_values('variable').round(3)"
   ]
  },
  {
   "cell_type": "code",
   "execution_count": 18,
   "id": "77d0288c",
   "metadata": {},
   "outputs": [
    {
     "name": "stdout",
     "output_type": "stream",
     "text": [
      "p-value de significancia conjunta: 0.095\n"
     ]
    }
   ],
   "source": [
    "m = OLS(endog=d2.loc[d2['drop_indicator'].eq(0), 'T_nap'],\n",
    "        exog=d2.loc[d2['drop_indicator'].eq(0), X].assign(const = 1),\n",
    "        missing='drop').fit(cov_type='HC0')\n",
    "print(f'p-value de significancia conjunta: {round(m.f_pvalue, 3)}')"
   ]
  },
  {
   "cell_type": "markdown",
   "id": "w0-O4lnDQPVC",
   "metadata": {
    "id": "w0-O4lnDQPVC"
   },
   "source": [
    "Antes de la atrición, ninguna de las 10 variables tenía diferencias entre tratamiento y control que fueran estadísticamente significativas. Después de la atrición, los p-values son más chicos y algunas diferencias tienen significancia a nivel individual. Por ejemplo, las diferencias en `education_` y `no_of_children_` ahora son significativas al 1 y 5 porciento de confianza.\n",
    "\n",
    "Al hacer la prueba de significancia conjunta usando el modelo $T_i = X_i^T \\beta + U_i$, el p-value es aproximadamente 0.1. Es relativamente improbable que todos los coeficientes sean simultáneamente igual a cero, pero la significancia de la prueba cayó tras la atrición.\n",
    "\n",
    "Representatividad externa"
   ]
  },
  {
   "cell_type": "code",
   "execution_count": 19,
   "id": "SsPmAQNoSCPm",
   "metadata": {
    "colab": {
     "base_uri": "https://localhost:8080/",
     "height": 359
    },
    "id": "SsPmAQNoSCPm",
    "outputId": "19ac2184-5ee2-48c5-af35-00f2fc002255"
   },
   "outputs": [
    {
     "data": {
      "text/html": [
       "<div>\n",
       "<style scoped>\n",
       "    .dataframe tbody tr th:only-of-type {\n",
       "        vertical-align: middle;\n",
       "    }\n",
       "\n",
       "    .dataframe tbody tr th {\n",
       "        vertical-align: top;\n",
       "    }\n",
       "\n",
       "    .dataframe thead th {\n",
       "        text-align: right;\n",
       "    }\n",
       "</style>\n",
       "<table border=\"1\" class=\"dataframe\">\n",
       "  <thead>\n",
       "    <tr style=\"text-align: right;\">\n",
       "      <th></th>\n",
       "      <th>variable</th>\n",
       "      <th>t</th>\n",
       "      <th>p</th>\n",
       "    </tr>\n",
       "  </thead>\n",
       "  <tbody>\n",
       "    <tr>\n",
       "      <th>6</th>\n",
       "      <td>act_inbed</td>\n",
       "      <td>-0.221</td>\n",
       "      <td>0.825</td>\n",
       "    </tr>\n",
       "    <tr>\n",
       "      <th>1</th>\n",
       "      <td>age_</td>\n",
       "      <td>-0.718</td>\n",
       "      <td>0.473</td>\n",
       "    </tr>\n",
       "    <tr>\n",
       "      <th>7</th>\n",
       "      <td>an_12_number_of_awakenings</td>\n",
       "      <td>0.010</td>\n",
       "      <td>0.992</td>\n",
       "    </tr>\n",
       "    <tr>\n",
       "      <th>8</th>\n",
       "      <td>an_13_average_awakening_length</td>\n",
       "      <td>-0.117</td>\n",
       "      <td>0.907</td>\n",
       "    </tr>\n",
       "    <tr>\n",
       "      <th>3</th>\n",
       "      <td>education_</td>\n",
       "      <td>-0.722</td>\n",
       "      <td>0.470</td>\n",
       "    </tr>\n",
       "    <tr>\n",
       "      <th>2</th>\n",
       "      <td>female_</td>\n",
       "      <td>1.556</td>\n",
       "      <td>0.120</td>\n",
       "    </tr>\n",
       "    <tr>\n",
       "      <th>5</th>\n",
       "      <td>no_of_children_</td>\n",
       "      <td>1.403</td>\n",
       "      <td>0.161</td>\n",
       "    </tr>\n",
       "    <tr>\n",
       "      <th>4</th>\n",
       "      <td>sleep_night</td>\n",
       "      <td>0.005</td>\n",
       "      <td>0.996</td>\n",
       "    </tr>\n",
       "    <tr>\n",
       "      <th>0</th>\n",
       "      <td>time_in_office</td>\n",
       "      <td>-0.842</td>\n",
       "      <td>0.400</td>\n",
       "    </tr>\n",
       "    <tr>\n",
       "      <th>9</th>\n",
       "      <td>unemployed</td>\n",
       "      <td>0.743</td>\n",
       "      <td>0.458</td>\n",
       "    </tr>\n",
       "  </tbody>\n",
       "</table>\n",
       "</div>"
      ],
      "text/plain": [
       "                         variable      t      p\n",
       "6                       act_inbed -0.221  0.825\n",
       "1                            age_ -0.718  0.473\n",
       "7      an_12_number_of_awakenings  0.010  0.992\n",
       "8  an_13_average_awakening_length -0.117  0.907\n",
       "3                      education_ -0.722  0.470\n",
       "2                         female_  1.556  0.120\n",
       "5                 no_of_children_  1.403  0.161\n",
       "4                     sleep_night  0.005  0.996\n",
       "0                  time_in_office -0.842  0.400\n",
       "9                      unemployed  0.743  0.458"
      ]
     },
     "execution_count": 19,
     "metadata": {},
     "output_type": "execute_result"
    }
   ],
   "source": [
    "# Probar si diferencia es significativa Baseline VS Endline\n",
    "d = []\n",
    "for x in X:\n",
    "    a, b = d2[x], d2.loc[d2['drop_indicator'].eq(0), x]\n",
    "    test = stats.ttest_ind(a=a, b=b, equal_var=False, nan_policy='omit')\n",
    "    d.append([x] + list(test))\n",
    "\n",
    "# Resultados a tabla\n",
    "t = pd.DataFrame(data=d, columns=['variable','t','p'])\n",
    "t.sort_values('variable').round(3)"
   ]
  },
  {
   "cell_type": "markdown",
   "id": "IEM0OS9kUMBk",
   "metadata": {
    "id": "IEM0OS9kUMBk"
   },
   "source": [
    "La atrición parece no haber afectado la representatividad externa de la muestra. Ninguna de las diferencias son significativas individualmente.\n",
    "\n",
    "#### c) Conclusión\n",
    "La atrición fue sistemática entre el grupo de tratamiento y de control. Es decir, parece que el nivel de educación y el número de hijos determinan si alguien abandona o no el experimento. Esto nos lleva a un problema de validez interna porque los grupos de tratamiento y control después de la atrición no están balanceados.\n",
    "\n",
    "Sin embargo, parece que la atrición no afectó la validez externa de la muestra, pues parece que las personas que abandonaron el estudio no afectaron las distribuciones de las variables de control. Ninguna de las 10 variables muestra una diferencia significativa antes y después de la atrición.\n",
    "\n",
    "### 5. Lee Bounds\n",
    "#### a) Perfiles\n",
    "- Always Respondents: $S_i$ = 1 sin importar $T_i$\n",
    "- Never Respondents: $S_i$ = 0 sin importar $T_i$\n",
    "- Selective Respondents: $T_i = 0 \\implies S_i = 0$, $T_i = 1 \\implies S_i = 1$\n",
    "- Counter-Selective Respondents: $T_i = 0 \\implies S_i = 1$, $T_i = 1 \\implies S_i = 0$\n",
    "\n",
    "El supuesto de monotonicidad es que no existe alguno de los dos grupos de respuesta selectiva. En el contexto de este experimento, tiene sentido asumir que los Counter-Selective Respondents no existen porque el tratamiento es algo *bueno*. Es decir, si a alguien le toca tomar una siesta durante sus horas de trabajo, es razonable pensar que el tratamiento es algo deseable y por ende no incentivaría a los individuos a abandonar el experimento."
   ]
  },
  {
   "cell_type": "code",
   "execution_count": 20,
   "id": "WY67mJbVUUje",
   "metadata": {
    "id": "WY67mJbVUUje"
   },
   "outputs": [
    {
     "data": {
      "text/html": [
       "<div>\n",
       "<style scoped>\n",
       "    .dataframe tbody tr th:only-of-type {\n",
       "        vertical-align: middle;\n",
       "    }\n",
       "\n",
       "    .dataframe tbody tr th {\n",
       "        vertical-align: top;\n",
       "    }\n",
       "\n",
       "    .dataframe thead th {\n",
       "        text-align: right;\n",
       "    }\n",
       "</style>\n",
       "<table border=\"1\" class=\"dataframe\">\n",
       "  <thead>\n",
       "    <tr style=\"text-align: right;\">\n",
       "      <th>T_nap</th>\n",
       "      <th>0</th>\n",
       "      <th>1</th>\n",
       "    </tr>\n",
       "    <tr>\n",
       "      <th>S</th>\n",
       "      <th></th>\n",
       "      <th></th>\n",
       "    </tr>\n",
       "  </thead>\n",
       "  <tbody>\n",
       "    <tr>\n",
       "      <th>0</th>\n",
       "      <td>81</td>\n",
       "      <td>23</td>\n",
       "    </tr>\n",
       "    <tr>\n",
       "      <th>1</th>\n",
       "      <td>128</td>\n",
       "      <td>182</td>\n",
       "    </tr>\n",
       "  </tbody>\n",
       "</table>\n",
       "</div>"
      ],
      "text/plain": [
       "T_nap    0    1\n",
       "S              \n",
       "0       81   23\n",
       "1      128  182"
      ]
     },
     "execution_count": 20,
     "metadata": {},
     "output_type": "execute_result"
    }
   ],
   "source": [
    "# Columna S_i\n",
    "d2['S'] = 1 - d2['drop_indicator']\n",
    "\n",
    "# Casos\n",
    "t = d2.groupby(['T_nap','S']).size()\n",
    "t.unstack().transpose()"
   ]
  },
  {
   "cell_type": "code",
   "execution_count": 21,
   "id": "0ae1323b",
   "metadata": {},
   "outputs": [
    {
     "name": "stdout",
     "output_type": "stream",
     "text": [
      "P(AR) = 0.6124401913875598\n",
      "P(SR) = 0.2753646866612207\n",
      "P(NR) = 0.1121951219512195\n"
     ]
    }
   ],
   "source": [
    "# P(AR|T=0)\n",
    "par = 128 / (81 + 128)\n",
    "\n",
    "# P(SR|T=1)\n",
    "psr = 182 / (182 + 23) - par\n",
    "\n",
    "# Probabilidades\n",
    "print(f'P(AR) = {par}', f'P(SR) = {psr}', f'P(NR) = {1 - (par + psr)}', sep='\\n')"
   ]
  },
  {
   "cell_type": "markdown",
   "id": "fea61ba1",
   "metadata": {},
   "source": [
    "#### b) Lee Bounds"
   ]
  },
  {
   "cell_type": "code",
   "execution_count": 22,
   "id": "731d90a2",
   "metadata": {},
   "outputs": [
    {
     "name": "stdout",
     "output_type": "stream",
     "text": [
      "El ATE de los AR está en [(-1779.6532923733384, -256.33863398462927)]\n"
     ]
    }
   ],
   "source": [
    "# Arreglos de S_i = 1\n",
    "a, b = d2[d2['S'].eq(1)].groupby('T_nap')['productivity'].apply(np.array)\n",
    "\n",
    "# Lower bound\n",
    "lb = b[b <= np.quantile(b, 1 - psr).mean()].mean() - a.mean()\n",
    "\n",
    "# Upper bound\n",
    "ub = b[b >= np.quantile(b, psr)].mean() - a.mean()\n",
    "\n",
    "# Bounds\n",
    "print(f'El ATE de los AR está en [{lb, ub}]')"
   ]
  },
  {
   "cell_type": "markdown",
   "id": "8f6c2fd3",
   "metadata": {},
   "source": [
    "#### c) Comparación\n",
    "Los resultados de la pregunta 2 no tienen por qué estar centrados en los Lee Bounds porque estiman el efecto para toda la población, mientras que el intervalo de esta pregunta acota el efecto de tratamiento para los Always Respondents.\n",
    "\n",
    "Lo único que sí podemos ver es que el ATE observado en la muestra completa es mayor al ATE de los Always Respondents."
   ]
  },
  {
   "cell_type": "markdown",
   "id": "87126748",
   "metadata": {},
   "source": [
    "## 2. Matching"
   ]
  },
  {
   "cell_type": "code",
   "execution_count": null,
   "id": "1c4ee305",
   "metadata": {},
   "outputs": [],
   "source": []
  }
 ],
 "metadata": {
  "colab": {
   "name": "main.ipynb",
   "provenance": []
  },
  "kernelspec": {
   "display_name": "Python 3",
   "language": "python",
   "name": "python3"
  },
  "language_info": {
   "codemirror_mode": {
    "name": "ipython",
    "version": 3
   },
   "file_extension": ".py",
   "mimetype": "text/x-python",
   "name": "python",
   "nbconvert_exporter": "python",
   "pygments_lexer": "ipython3",
   "version": "3.8.8"
  }
 },
 "nbformat": 4,
 "nbformat_minor": 5
}
