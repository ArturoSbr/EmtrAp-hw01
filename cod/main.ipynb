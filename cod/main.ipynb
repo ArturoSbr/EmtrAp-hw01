{
  "cells": [
    {
      "cell_type": "markdown",
      "id": "f4147fc8",
      "metadata": {
        "id": "f4147fc8"
      },
      "source": [
        "# Econometría Aplicada II\n",
        "## Tarea 1\n",
        "Importar librerías"
      ]
    },
    {
      "cell_type": "code",
      "source": [
        "if 'google.colab' in str(get_ipython()):\n",
        "    !git clone https://github.com/ArturoSbr/EmtrAp2-hw01\n",
        "    cd EmtrAp2-hw01/\n",
        "    break"
      ],
      "metadata": {
        "id": "MOHnTbtuIA34",
        "outputId": "21bdb197-b0ff-4d94-a0e2-d87a231057b5",
        "colab": {
          "base_uri": "https://localhost:8080/"
        }
      },
      "id": "MOHnTbtuIA34",
      "execution_count": 8,
      "outputs": [
        {
          "output_type": "stream",
          "name": "stdout",
          "text": [
            "fatal: destination path 'EmtrAp2-hw01' already exists and is not an empty directory.\n"
          ]
        }
      ]
    },
    {
      "cell_type": "code",
      "source": [
        "!git clone https://github.com/ArturoSbr/EmtrAp2-hw01"
      ],
      "metadata": {
        "id": "bdYUdm0lGqRC",
        "outputId": "fe00c373-070b-40ea-f207-67c6f8e31acb",
        "colab": {
          "base_uri": "https://localhost:8080/"
        }
      },
      "id": "bdYUdm0lGqRC",
      "execution_count": 3,
      "outputs": [
        {
          "output_type": "stream",
          "name": "stdout",
          "text": [
            "Cloning into 'EmtrAp2-hw01'...\n",
            "remote: Enumerating objects: 27, done.\u001b[K\n",
            "remote: Counting objects: 100% (27/27), done.\u001b[K\n",
            "remote: Compressing objects: 100% (19/19), done.\u001b[K\n",
            "remote: Total 27 (delta 5), reused 25 (delta 3), pack-reused 0\u001b[K\n",
            "Unpacking objects: 100% (27/27), done.\n"
          ]
        }
      ]
    },
    {
      "cell_type": "code",
      "execution_count": null,
      "id": "0183c18b",
      "metadata": {
        "id": "0183c18b"
      },
      "outputs": [],
      "source": [
        "\n",
        "\n",
        "import numpy as np\n",
        "import pandas as pd\n",
        "from scipy import stats\n",
        "from statsmodels.api import OLS\n",
        "from matplotlib import pyplot as plt"
      ]
    },
    {
      "cell_type": "markdown",
      "id": "f28d8dad",
      "metadata": {
        "id": "f28d8dad"
      },
      "source": [
        "Importar datos"
      ]
    },
    {
      "cell_type": "code",
      "execution_count": null,
      "id": "69e10890",
      "metadata": {
        "id": "69e10890"
      },
      "outputs": [],
      "source": [
        "d1 = pd.read_csv('../dat/baseline.csv')\n",
        "d2 = pd.read_csv('../dat/endline.csv')\n",
        "d3 = pd.read_csv('../dat/completa.csv')"
      ]
    },
    {
      "cell_type": "markdown",
      "id": "b93ef3b8",
      "metadata": {
        "id": "b93ef3b8"
      },
      "source": [
        "### 1. Balance\n",
        "Tabla de balance por grupo de acuerdo a `T_nap`"
      ]
    },
    {
      "cell_type": "code",
      "execution_count": null,
      "id": "14a8a3d0",
      "metadata": {
        "scrolled": false,
        "id": "14a8a3d0",
        "outputId": "027af687-4d3e-4104-8580-d2d66444dc0d"
      },
      "outputs": [
        {
          "data": {
            "text/html": [
              "<div>\n",
              "<style scoped>\n",
              "    .dataframe tbody tr th:only-of-type {\n",
              "        vertical-align: middle;\n",
              "    }\n",
              "\n",
              "    .dataframe tbody tr th {\n",
              "        vertical-align: top;\n",
              "    }\n",
              "\n",
              "    .dataframe thead th {\n",
              "        text-align: right;\n",
              "    }\n",
              "</style>\n",
              "<table border=\"1\" class=\"dataframe\">\n",
              "  <thead>\n",
              "    <tr style=\"text-align: right;\">\n",
              "      <th></th>\n",
              "      <th>var</th>\n",
              "      <th>control_mean</th>\n",
              "      <th>treatment_mean</th>\n",
              "      <th>tau</th>\n",
              "      <th>t</th>\n",
              "      <th>p</th>\n",
              "    </tr>\n",
              "  </thead>\n",
              "  <tbody>\n",
              "    <tr>\n",
              "      <th>0</th>\n",
              "      <td>act_inbed</td>\n",
              "      <td>7.992301</td>\n",
              "      <td>8.071253</td>\n",
              "      <td>-0.078952</td>\n",
              "      <td>-0.839935</td>\n",
              "      <td>0.400945</td>\n",
              "    </tr>\n",
              "    <tr>\n",
              "      <th>1</th>\n",
              "      <td>age_</td>\n",
              "      <td>34.938053</td>\n",
              "      <td>34.964602</td>\n",
              "      <td>-0.026549</td>\n",
              "      <td>-0.039027</td>\n",
              "      <td>0.968869</td>\n",
              "    </tr>\n",
              "    <tr>\n",
              "      <th>2</th>\n",
              "      <td>an_12_number_of_awakenings</td>\n",
              "      <td>31.715624</td>\n",
              "      <td>32.188211</td>\n",
              "      <td>-0.472587</td>\n",
              "      <td>-0.621987</td>\n",
              "      <td>0.533950</td>\n",
              "    </tr>\n",
              "    <tr>\n",
              "      <th>3</th>\n",
              "      <td>an_13_average_awakening_length</td>\n",
              "      <td>4.478105</td>\n",
              "      <td>4.477173</td>\n",
              "      <td>0.000931</td>\n",
              "      <td>0.007186</td>\n",
              "      <td>0.994267</td>\n",
              "    </tr>\n",
              "    <tr>\n",
              "      <th>4</th>\n",
              "      <td>education_</td>\n",
              "      <td>10.336283</td>\n",
              "      <td>10.030973</td>\n",
              "      <td>0.305310</td>\n",
              "      <td>1.128002</td>\n",
              "      <td>0.259319</td>\n",
              "    </tr>\n",
              "    <tr>\n",
              "      <th>5</th>\n",
              "      <td>female_</td>\n",
              "      <td>0.650442</td>\n",
              "      <td>0.672566</td>\n",
              "      <td>-0.022124</td>\n",
              "      <td>-0.496037</td>\n",
              "      <td>0.619869</td>\n",
              "    </tr>\n",
              "    <tr>\n",
              "      <th>6</th>\n",
              "      <td>no_of_children_</td>\n",
              "      <td>1.300885</td>\n",
              "      <td>1.407080</td>\n",
              "      <td>-0.106195</td>\n",
              "      <td>-1.068706</td>\n",
              "      <td>0.285202</td>\n",
              "    </tr>\n",
              "    <tr>\n",
              "      <th>7</th>\n",
              "      <td>sleep_night</td>\n",
              "      <td>5.559958</td>\n",
              "      <td>5.595827</td>\n",
              "      <td>-0.035869</td>\n",
              "      <td>-0.434612</td>\n",
              "      <td>0.663844</td>\n",
              "    </tr>\n",
              "    <tr>\n",
              "      <th>8</th>\n",
              "      <td>time_in_office</td>\n",
              "      <td>7.968159</td>\n",
              "      <td>7.942971</td>\n",
              "      <td>0.025188</td>\n",
              "      <td>0.366232</td>\n",
              "      <td>0.714192</td>\n",
              "    </tr>\n",
              "    <tr>\n",
              "      <th>9</th>\n",
              "      <td>unemployed</td>\n",
              "      <td>0.247788</td>\n",
              "      <td>0.283186</td>\n",
              "      <td>-0.035398</td>\n",
              "      <td>-0.339135</td>\n",
              "      <td>0.734508</td>\n",
              "    </tr>\n",
              "  </tbody>\n",
              "</table>\n",
              "</div>"
            ],
            "text/plain": [
              "                              var  control_mean  treatment_mean       tau  \\\n",
              "0                       act_inbed      7.992301        8.071253 -0.078952   \n",
              "1                            age_     34.938053       34.964602 -0.026549   \n",
              "2      an_12_number_of_awakenings     31.715624       32.188211 -0.472587   \n",
              "3  an_13_average_awakening_length      4.478105        4.477173  0.000931   \n",
              "4                      education_     10.336283       10.030973  0.305310   \n",
              "5                         female_      0.650442        0.672566 -0.022124   \n",
              "6                 no_of_children_      1.300885        1.407080 -0.106195   \n",
              "7                     sleep_night      5.559958        5.595827 -0.035869   \n",
              "8                  time_in_office      7.968159        7.942971  0.025188   \n",
              "9                      unemployed      0.247788        0.283186 -0.035398   \n",
              "\n",
              "          t         p  \n",
              "0 -0.839935  0.400945  \n",
              "1 -0.039027  0.968869  \n",
              "2 -0.621987  0.533950  \n",
              "3  0.007186  0.994267  \n",
              "4  1.128002  0.259319  \n",
              "5 -0.496037  0.619869  \n",
              "6 -1.068706  0.285202  \n",
              "7 -0.434612  0.663844  \n",
              "8  0.366232  0.714192  \n",
              "9 -0.339135  0.734508  "
            ]
          },
          "execution_count": 3,
          "metadata": {},
          "output_type": "execute_result"
        }
      ],
      "source": [
        "# Declarar número de individuos por grupo\n",
        "n0, n1 = d1.groupby('T_nap').size()\n",
        "\n",
        "# Seleccionar 12 variables basales\n",
        "X = ['age_','female','education_','no_of_children_','']\n",
        "X = ['time_in_office','age_','female_','education_','sleep_night','no_of_children_','act_inbed',\n",
        "     'an_12_number_of_awakenings','an_13_average_awakening_length','unemployed']\n",
        "\n",
        "# Medias de variables basales por grupo\n",
        "t = d1.groupby('T_nap')[X].agg(['mean','var'])\n",
        "\n",
        "# Ajustes estéticos a t\n",
        "t = t.transpose().reset_index()\n",
        "t.columns = ['var','fun','control','treatment']\n",
        "t = t.pivot(index='var', columns='fun')\n",
        "t.columns = ['_'.join(col) for col in t.columns]\n",
        "\n",
        "# Calcular estadísticos\n",
        "t['tau'] = t['control_mean'] - t['treatment_mean']\n",
        "t['tau_var'] = t['control_var'].div(n0) + t['treatment_var'].div(n1)\n",
        "t['t'] = t['tau'].div(np.sqrt(t['tau_var']))\n",
        "t['p'] = (1 - stats.norm().cdf(t['t'].abs())) * 2\n",
        "\n",
        "# Resultado presentable\n",
        "t = t[['control_mean','treatment_mean','tau','t','p']].reset_index()\n",
        "t"
      ]
    },
    {
      "cell_type": "markdown",
      "id": "6010a6d0",
      "metadata": {
        "id": "6010a6d0"
      },
      "source": [
        "Evaluación conjunta de significancia"
      ]
    },
    {
      "cell_type": "code",
      "execution_count": null,
      "id": "bf866f0f",
      "metadata": {
        "id": "bf866f0f",
        "outputId": "89a64a76-2b68-4433-c836-4dcdc2c106a7"
      },
      "outputs": [
        {
          "data": {
            "text/plain": [
              "0.9615038681207262"
            ]
          },
          "execution_count": 4,
          "metadata": {},
          "output_type": "execute_result"
        }
      ],
      "source": [
        "# T_nap en función de controles\n",
        "m = OLS(endog=d1['T_nap'], exog=d1[X].assign(const = 1)).fit()\n",
        "\n",
        "# p-value de prueba\n",
        "m.f_pvalue"
      ]
    },
    {
      "cell_type": "markdown",
      "id": "c364addf",
      "metadata": {
        "id": "c364addf"
      },
      "source": [
        "### 2. Efectos de tratamiento\n",
        "Declarar todas las variables dependientes"
      ]
    },
    {
      "cell_type": "code",
      "execution_count": null,
      "id": "614b47e1",
      "metadata": {
        "id": "614b47e1"
      },
      "outputs": [],
      "source": [
        "# Crear medida estandarizada de habilidades cognitivas\n",
        "d2['cogni'] = d2[['corsi_measure','hf_measure','pvt_measure']] \\\n",
        "    .apply(lambda x: (x - x.mean()) / x.std()).mean(axis=1)\n",
        "\n",
        "# Variables dependientes\n",
        "Y = ['productivity','tot_earnings','cogni','daily_savings','happy','ds_g1_satisfaction','typing_time_hr']"
      ]
    },
    {
      "cell_type": "markdown",
      "id": "13132de5",
      "metadata": {
        "id": "13132de5"
      },
      "source": [
        "#### a) Estimadores de Neyman"
      ]
    },
    {
      "cell_type": "code",
      "execution_count": null,
      "id": "d05b58a9",
      "metadata": {
        "id": "d05b58a9",
        "outputId": "abf6be32-707c-4881-91de-cede17765e5d"
      },
      "outputs": [
        {
          "data": {
            "text/html": [
              "<div>\n",
              "<style scoped>\n",
              "    .dataframe tbody tr th:only-of-type {\n",
              "        vertical-align: middle;\n",
              "    }\n",
              "\n",
              "    .dataframe tbody tr th {\n",
              "        vertical-align: top;\n",
              "    }\n",
              "\n",
              "    .dataframe thead th {\n",
              "        text-align: right;\n",
              "    }\n",
              "</style>\n",
              "<table border=\"1\" class=\"dataframe\">\n",
              "  <thead>\n",
              "    <tr style=\"text-align: right;\">\n",
              "      <th></th>\n",
              "      <th>depvar</th>\n",
              "      <th>diff</th>\n",
              "      <th>t-stat</th>\n",
              "      <th>p</th>\n",
              "    </tr>\n",
              "  </thead>\n",
              "  <tbody>\n",
              "    <tr>\n",
              "      <th>0</th>\n",
              "      <td>productivity</td>\n",
              "      <td>-171.240947</td>\n",
              "      <td>-0.976215</td>\n",
              "      <td>0.328958</td>\n",
              "    </tr>\n",
              "    <tr>\n",
              "      <th>1</th>\n",
              "      <td>tot_earnings</td>\n",
              "      <td>-21.102813</td>\n",
              "      <td>-1.510394</td>\n",
              "      <td>0.130943</td>\n",
              "    </tr>\n",
              "    <tr>\n",
              "      <th>2</th>\n",
              "      <td>cogni</td>\n",
              "      <td>0.027056</td>\n",
              "      <td>0.492507</td>\n",
              "      <td>0.622361</td>\n",
              "    </tr>\n",
              "    <tr>\n",
              "      <th>3</th>\n",
              "      <td>daily_savings</td>\n",
              "      <td>0.757374</td>\n",
              "      <td>0.966742</td>\n",
              "      <td>0.333673</td>\n",
              "    </tr>\n",
              "    <tr>\n",
              "      <th>4</th>\n",
              "      <td>happy</td>\n",
              "      <td>0.033502</td>\n",
              "      <td>0.990464</td>\n",
              "      <td>0.321947</td>\n",
              "    </tr>\n",
              "    <tr>\n",
              "      <th>5</th>\n",
              "      <td>ds_g1_satisfaction</td>\n",
              "      <td>0.215989</td>\n",
              "      <td>1.044944</td>\n",
              "      <td>0.296049</td>\n",
              "    </tr>\n",
              "    <tr>\n",
              "      <th>6</th>\n",
              "      <td>typing_time_hr</td>\n",
              "      <td>-0.087307</td>\n",
              "      <td>-0.634157</td>\n",
              "      <td>0.525978</td>\n",
              "    </tr>\n",
              "  </tbody>\n",
              "</table>\n",
              "</div>"
            ],
            "text/plain": [
              "               depvar        diff    t-stat         p\n",
              "0        productivity -171.240947 -0.976215  0.328958\n",
              "1        tot_earnings  -21.102813 -1.510394  0.130943\n",
              "2               cogni    0.027056  0.492507  0.622361\n",
              "3       daily_savings    0.757374  0.966742  0.333673\n",
              "4               happy    0.033502  0.990464  0.321947\n",
              "5  ds_g1_satisfaction    0.215989  1.044944  0.296049\n",
              "6      typing_time_hr   -0.087307 -0.634157  0.525978"
            ]
          },
          "execution_count": 6,
          "metadata": {},
          "output_type": "execute_result"
        }
      ],
      "source": [
        "# Función para estimador de Neyman\n",
        "def neyman(frame, treatment_col, values_col):\n",
        "    # Sacar arreglos C y T\n",
        "    a, b = frame.dropna(subset=[values_col]).groupby(treatment_col)[values_col].apply(np.array)\n",
        "    # Estadístico t\n",
        "    tau = np.mean(b) - np.mean(a)\n",
        "    t = tau / np.sqrt(np.var(a, ddof=1) / len(a) + np.var(b, ddof=1) / len(b))\n",
        "    # p-value\n",
        "    p = 2 * (1 - stats.norm().cdf(np.abs(t)))\n",
        "    return (values_col, tau, t, p)\n",
        "\n",
        "# Diferencias de Neyman\n",
        "t_ney = pd.DataFrame(data=[neyman(d2, 'T_nap', y) for y in Y], columns=['depvar','diff','t-stat','p'])\n",
        "t_ney"
      ]
    },
    {
      "cell_type": "markdown",
      "id": "2ed76558",
      "metadata": {
        "id": "2ed76558"
      },
      "source": [
        "#### b) Estimadores OLS sin controles"
      ]
    },
    {
      "cell_type": "code",
      "execution_count": null,
      "id": "9f69843a",
      "metadata": {
        "id": "9f69843a",
        "outputId": "3fc50cf8-7a7b-436c-c5f1-66f3e85d2025"
      },
      "outputs": [
        {
          "data": {
            "text/html": [
              "<div>\n",
              "<style scoped>\n",
              "    .dataframe tbody tr th:only-of-type {\n",
              "        vertical-align: middle;\n",
              "    }\n",
              "\n",
              "    .dataframe tbody tr th {\n",
              "        vertical-align: top;\n",
              "    }\n",
              "\n",
              "    .dataframe thead th {\n",
              "        text-align: right;\n",
              "    }\n",
              "</style>\n",
              "<table border=\"1\" class=\"dataframe\">\n",
              "  <thead>\n",
              "    <tr style=\"text-align: right;\">\n",
              "      <th></th>\n",
              "      <th>depvar</th>\n",
              "      <th>diff</th>\n",
              "      <th>t-stat</th>\n",
              "      <th>p</th>\n",
              "    </tr>\n",
              "  </thead>\n",
              "  <tbody>\n",
              "    <tr>\n",
              "      <th>0</th>\n",
              "      <td>productivity</td>\n",
              "      <td>-171.240947</td>\n",
              "      <td>-0.976215</td>\n",
              "      <td>0.328958</td>\n",
              "    </tr>\n",
              "    <tr>\n",
              "      <th>1</th>\n",
              "      <td>tot_earnings</td>\n",
              "      <td>-21.102813</td>\n",
              "      <td>-1.510394</td>\n",
              "      <td>0.130943</td>\n",
              "    </tr>\n",
              "    <tr>\n",
              "      <th>2</th>\n",
              "      <td>cogni</td>\n",
              "      <td>0.027056</td>\n",
              "      <td>0.492507</td>\n",
              "      <td>0.622361</td>\n",
              "    </tr>\n",
              "    <tr>\n",
              "      <th>3</th>\n",
              "      <td>daily_savings</td>\n",
              "      <td>0.757374</td>\n",
              "      <td>0.966742</td>\n",
              "      <td>0.333673</td>\n",
              "    </tr>\n",
              "    <tr>\n",
              "      <th>4</th>\n",
              "      <td>happy</td>\n",
              "      <td>0.033502</td>\n",
              "      <td>0.990464</td>\n",
              "      <td>0.321947</td>\n",
              "    </tr>\n",
              "    <tr>\n",
              "      <th>5</th>\n",
              "      <td>ds_g1_satisfaction</td>\n",
              "      <td>0.215989</td>\n",
              "      <td>1.044944</td>\n",
              "      <td>0.296049</td>\n",
              "    </tr>\n",
              "    <tr>\n",
              "      <th>6</th>\n",
              "      <td>typing_time_hr</td>\n",
              "      <td>-0.087307</td>\n",
              "      <td>-0.634157</td>\n",
              "      <td>0.525978</td>\n",
              "    </tr>\n",
              "  </tbody>\n",
              "</table>\n",
              "</div>"
            ],
            "text/plain": [
              "               depvar        diff    t-stat         p\n",
              "0        productivity -171.240947 -0.976215  0.328958\n",
              "1        tot_earnings  -21.102813 -1.510394  0.130943\n",
              "2               cogni    0.027056  0.492507  0.622361\n",
              "3       daily_savings    0.757374  0.966742  0.333673\n",
              "4               happy    0.033502  0.990464  0.321947\n",
              "5  ds_g1_satisfaction    0.215989  1.044944  0.296049\n",
              "6      typing_time_hr   -0.087307 -0.634157  0.525978"
            ]
          },
          "execution_count": 7,
          "metadata": {},
          "output_type": "execute_result"
        }
      ],
      "source": [
        "# Correr regresiones\n",
        "d = []\n",
        "for y in Y:\n",
        "    m = OLS(endog=d2[y], exog=d2.assign(const = 1)[['const','T_nap']], missing='drop')\n",
        "    m = m.fit(cov_type='HC2')\n",
        "    d.append([y, m.params['T_nap'], m.tvalues['T_nap'], m.pvalues['T_nap']])\n",
        "\n",
        "# Regresiones a tabla\n",
        "t_ols = pd.DataFrame(data=d, columns=['depvar','diff','t-stat','p'])\n",
        "t_ols"
      ]
    },
    {
      "cell_type": "markdown",
      "id": "672981fe",
      "metadata": {
        "id": "672981fe"
      },
      "source": [
        "#### c) Estimadores con controles\n",
        "De acuerdo al paper, la variable dependiente sobre la cuál las siestas tienen un mayor efecto es `earnings`. Por ende, eligiré los controles que más se relacionen con esta variable."
      ]
    },
    {
      "cell_type": "code",
      "execution_count": null,
      "id": "29012c16",
      "metadata": {
        "id": "29012c16",
        "outputId": "a3bb4ea8-127f-4db6-91d0-04832977a776"
      },
      "outputs": [
        {
          "data": {
            "text/html": [
              "<div>\n",
              "<style scoped>\n",
              "    .dataframe tbody tr th:only-of-type {\n",
              "        vertical-align: middle;\n",
              "    }\n",
              "\n",
              "    .dataframe tbody tr th {\n",
              "        vertical-align: top;\n",
              "    }\n",
              "\n",
              "    .dataframe thead th {\n",
              "        text-align: right;\n",
              "    }\n",
              "</style>\n",
              "<table border=\"1\" class=\"dataframe\">\n",
              "  <thead>\n",
              "    <tr style=\"text-align: right;\">\n",
              "      <th></th>\n",
              "      <th>depvar</th>\n",
              "      <th>diff</th>\n",
              "      <th>t-stat</th>\n",
              "      <th>p</th>\n",
              "    </tr>\n",
              "  </thead>\n",
              "  <tbody>\n",
              "    <tr>\n",
              "      <th>0</th>\n",
              "      <td>productivity</td>\n",
              "      <td>-73.808399</td>\n",
              "      <td>-0.525065</td>\n",
              "      <td>0.599538</td>\n",
              "    </tr>\n",
              "    <tr>\n",
              "      <th>1</th>\n",
              "      <td>tot_earnings</td>\n",
              "      <td>-14.009914</td>\n",
              "      <td>-1.133608</td>\n",
              "      <td>0.256959</td>\n",
              "    </tr>\n",
              "    <tr>\n",
              "      <th>2</th>\n",
              "      <td>cogni</td>\n",
              "      <td>0.030423</td>\n",
              "      <td>0.553662</td>\n",
              "      <td>0.579810</td>\n",
              "    </tr>\n",
              "    <tr>\n",
              "      <th>3</th>\n",
              "      <td>daily_savings</td>\n",
              "      <td>0.709339</td>\n",
              "      <td>0.966411</td>\n",
              "      <td>0.333839</td>\n",
              "    </tr>\n",
              "    <tr>\n",
              "      <th>4</th>\n",
              "      <td>happy</td>\n",
              "      <td>0.039056</td>\n",
              "      <td>1.165330</td>\n",
              "      <td>0.243885</td>\n",
              "    </tr>\n",
              "    <tr>\n",
              "      <th>5</th>\n",
              "      <td>ds_g1_satisfaction</td>\n",
              "      <td>0.224820</td>\n",
              "      <td>1.089787</td>\n",
              "      <td>0.275807</td>\n",
              "    </tr>\n",
              "    <tr>\n",
              "      <th>6</th>\n",
              "      <td>typing_time_hr</td>\n",
              "      <td>-0.078824</td>\n",
              "      <td>-0.572106</td>\n",
              "      <td>0.567250</td>\n",
              "    </tr>\n",
              "  </tbody>\n",
              "</table>\n",
              "</div>"
            ],
            "text/plain": [
              "               depvar       diff    t-stat         p\n",
              "0        productivity -73.808399 -0.525065  0.599538\n",
              "1        tot_earnings -14.009914 -1.133608  0.256959\n",
              "2               cogni   0.030423  0.553662  0.579810\n",
              "3       daily_savings   0.709339  0.966411  0.333839\n",
              "4               happy   0.039056  1.165330  0.243885\n",
              "5  ds_g1_satisfaction   0.224820  1.089787  0.275807\n",
              "6      typing_time_hr  -0.078824 -0.572106  0.567250"
            ]
          },
          "execution_count": 8,
          "metadata": {},
          "output_type": "execute_result"
        }
      ],
      "source": [
        "# Correlación con earnings\n",
        "# print(d2.corr()['earnings'].sort_values())\n",
        "\n",
        "# Regresiones a tabla\n",
        "t_ols = pd.DataFrame(data=d, columns=['depvar','diff','t-stat','p'])\n",
        "t_ols\n",
        "\n",
        "# Tratamiento y controles\n",
        "X = ['const','T_nap','age_','education_']\n",
        "\n",
        "# Correr regresiones\n",
        "d = []\n",
        "for y in Y:\n",
        "    m = OLS(endog=d2[y], exog=d2.assign(const = 1)[X], missing='drop')\n",
        "    m = m.fit(cov_type='HC2')\n",
        "    d.append([y, m.params['T_nap'], m.tvalues['T_nap'], m.pvalues['T_nap']])\n",
        "\n",
        "# Regresiones a tabla\n",
        "t_ctr = pd.DataFrame(data=d, columns=['depvar','diff','t-stat','p'])\n",
        "t_ctr"
      ]
    },
    {
      "cell_type": "code",
      "execution_count": null,
      "id": "6da52fed",
      "metadata": {
        "id": "6da52fed",
        "outputId": "dbe782a5-1020-49ad-a6cb-8ae906f9952a"
      },
      "outputs": [
        {
          "data": {
            "text/html": [
              "<div>\n",
              "<style scoped>\n",
              "    .dataframe tbody tr th:only-of-type {\n",
              "        vertical-align: middle;\n",
              "    }\n",
              "\n",
              "    .dataframe tbody tr th {\n",
              "        vertical-align: top;\n",
              "    }\n",
              "\n",
              "    .dataframe thead th {\n",
              "        text-align: right;\n",
              "    }\n",
              "</style>\n",
              "<table border=\"1\" class=\"dataframe\">\n",
              "  <thead>\n",
              "    <tr style=\"text-align: right;\">\n",
              "      <th></th>\n",
              "      <th>depvar</th>\n",
              "      <th>diff</th>\n",
              "      <th>t-stat</th>\n",
              "      <th>p</th>\n",
              "      <th>method</th>\n",
              "    </tr>\n",
              "  </thead>\n",
              "  <tbody>\n",
              "    <tr>\n",
              "      <th>2</th>\n",
              "      <td>cogni</td>\n",
              "      <td>0.027056</td>\n",
              "      <td>0.492507</td>\n",
              "      <td>0.622361</td>\n",
              "      <td>Neyman</td>\n",
              "    </tr>\n",
              "    <tr>\n",
              "      <th>2</th>\n",
              "      <td>cogni</td>\n",
              "      <td>0.030423</td>\n",
              "      <td>0.553662</td>\n",
              "      <td>0.579810</td>\n",
              "      <td>MLR</td>\n",
              "    </tr>\n",
              "    <tr>\n",
              "      <th>2</th>\n",
              "      <td>cogni</td>\n",
              "      <td>0.027056</td>\n",
              "      <td>0.492507</td>\n",
              "      <td>0.622361</td>\n",
              "      <td>OLS</td>\n",
              "    </tr>\n",
              "    <tr>\n",
              "      <th>3</th>\n",
              "      <td>daily_savings</td>\n",
              "      <td>0.757374</td>\n",
              "      <td>0.966742</td>\n",
              "      <td>0.333673</td>\n",
              "      <td>OLS</td>\n",
              "    </tr>\n",
              "    <tr>\n",
              "      <th>3</th>\n",
              "      <td>daily_savings</td>\n",
              "      <td>0.757374</td>\n",
              "      <td>0.966742</td>\n",
              "      <td>0.333673</td>\n",
              "      <td>Neyman</td>\n",
              "    </tr>\n",
              "    <tr>\n",
              "      <th>3</th>\n",
              "      <td>daily_savings</td>\n",
              "      <td>0.709339</td>\n",
              "      <td>0.966411</td>\n",
              "      <td>0.333839</td>\n",
              "      <td>MLR</td>\n",
              "    </tr>\n",
              "    <tr>\n",
              "      <th>5</th>\n",
              "      <td>ds_g1_satisfaction</td>\n",
              "      <td>0.215989</td>\n",
              "      <td>1.044944</td>\n",
              "      <td>0.296049</td>\n",
              "      <td>Neyman</td>\n",
              "    </tr>\n",
              "    <tr>\n",
              "      <th>5</th>\n",
              "      <td>ds_g1_satisfaction</td>\n",
              "      <td>0.224820</td>\n",
              "      <td>1.089787</td>\n",
              "      <td>0.275807</td>\n",
              "      <td>MLR</td>\n",
              "    </tr>\n",
              "    <tr>\n",
              "      <th>5</th>\n",
              "      <td>ds_g1_satisfaction</td>\n",
              "      <td>0.215989</td>\n",
              "      <td>1.044944</td>\n",
              "      <td>0.296049</td>\n",
              "      <td>OLS</td>\n",
              "    </tr>\n",
              "    <tr>\n",
              "      <th>4</th>\n",
              "      <td>happy</td>\n",
              "      <td>0.039056</td>\n",
              "      <td>1.165330</td>\n",
              "      <td>0.243885</td>\n",
              "      <td>MLR</td>\n",
              "    </tr>\n",
              "    <tr>\n",
              "      <th>4</th>\n",
              "      <td>happy</td>\n",
              "      <td>0.033502</td>\n",
              "      <td>0.990464</td>\n",
              "      <td>0.321947</td>\n",
              "      <td>Neyman</td>\n",
              "    </tr>\n",
              "    <tr>\n",
              "      <th>4</th>\n",
              "      <td>happy</td>\n",
              "      <td>0.033502</td>\n",
              "      <td>0.990464</td>\n",
              "      <td>0.321947</td>\n",
              "      <td>OLS</td>\n",
              "    </tr>\n",
              "    <tr>\n",
              "      <th>0</th>\n",
              "      <td>productivity</td>\n",
              "      <td>-73.808399</td>\n",
              "      <td>-0.525065</td>\n",
              "      <td>0.599538</td>\n",
              "      <td>MLR</td>\n",
              "    </tr>\n",
              "    <tr>\n",
              "      <th>0</th>\n",
              "      <td>productivity</td>\n",
              "      <td>-171.240947</td>\n",
              "      <td>-0.976215</td>\n",
              "      <td>0.328958</td>\n",
              "      <td>Neyman</td>\n",
              "    </tr>\n",
              "    <tr>\n",
              "      <th>0</th>\n",
              "      <td>productivity</td>\n",
              "      <td>-171.240947</td>\n",
              "      <td>-0.976215</td>\n",
              "      <td>0.328958</td>\n",
              "      <td>OLS</td>\n",
              "    </tr>\n",
              "    <tr>\n",
              "      <th>1</th>\n",
              "      <td>tot_earnings</td>\n",
              "      <td>-21.102813</td>\n",
              "      <td>-1.510394</td>\n",
              "      <td>0.130943</td>\n",
              "      <td>OLS</td>\n",
              "    </tr>\n",
              "    <tr>\n",
              "      <th>1</th>\n",
              "      <td>tot_earnings</td>\n",
              "      <td>-14.009914</td>\n",
              "      <td>-1.133608</td>\n",
              "      <td>0.256959</td>\n",
              "      <td>MLR</td>\n",
              "    </tr>\n",
              "    <tr>\n",
              "      <th>1</th>\n",
              "      <td>tot_earnings</td>\n",
              "      <td>-21.102813</td>\n",
              "      <td>-1.510394</td>\n",
              "      <td>0.130943</td>\n",
              "      <td>Neyman</td>\n",
              "    </tr>\n",
              "    <tr>\n",
              "      <th>6</th>\n",
              "      <td>typing_time_hr</td>\n",
              "      <td>-0.087307</td>\n",
              "      <td>-0.634157</td>\n",
              "      <td>0.525978</td>\n",
              "      <td>Neyman</td>\n",
              "    </tr>\n",
              "    <tr>\n",
              "      <th>6</th>\n",
              "      <td>typing_time_hr</td>\n",
              "      <td>-0.087307</td>\n",
              "      <td>-0.634157</td>\n",
              "      <td>0.525978</td>\n",
              "      <td>OLS</td>\n",
              "    </tr>\n",
              "    <tr>\n",
              "      <th>6</th>\n",
              "      <td>typing_time_hr</td>\n",
              "      <td>-0.078824</td>\n",
              "      <td>-0.572106</td>\n",
              "      <td>0.567250</td>\n",
              "      <td>MLR</td>\n",
              "    </tr>\n",
              "  </tbody>\n",
              "</table>\n",
              "</div>"
            ],
            "text/plain": [
              "               depvar        diff    t-stat         p  method\n",
              "2               cogni    0.027056  0.492507  0.622361  Neyman\n",
              "2               cogni    0.030423  0.553662  0.579810     MLR\n",
              "2               cogni    0.027056  0.492507  0.622361     OLS\n",
              "3       daily_savings    0.757374  0.966742  0.333673     OLS\n",
              "3       daily_savings    0.757374  0.966742  0.333673  Neyman\n",
              "3       daily_savings    0.709339  0.966411  0.333839     MLR\n",
              "5  ds_g1_satisfaction    0.215989  1.044944  0.296049  Neyman\n",
              "5  ds_g1_satisfaction    0.224820  1.089787  0.275807     MLR\n",
              "5  ds_g1_satisfaction    0.215989  1.044944  0.296049     OLS\n",
              "4               happy    0.039056  1.165330  0.243885     MLR\n",
              "4               happy    0.033502  0.990464  0.321947  Neyman\n",
              "4               happy    0.033502  0.990464  0.321947     OLS\n",
              "0        productivity  -73.808399 -0.525065  0.599538     MLR\n",
              "0        productivity -171.240947 -0.976215  0.328958  Neyman\n",
              "0        productivity -171.240947 -0.976215  0.328958     OLS\n",
              "1        tot_earnings  -21.102813 -1.510394  0.130943     OLS\n",
              "1        tot_earnings  -14.009914 -1.133608  0.256959     MLR\n",
              "1        tot_earnings  -21.102813 -1.510394  0.130943  Neyman\n",
              "6      typing_time_hr   -0.087307 -0.634157  0.525978  Neyman\n",
              "6      typing_time_hr   -0.087307 -0.634157  0.525978     OLS\n",
              "6      typing_time_hr   -0.078824 -0.572106  0.567250     MLR"
            ]
          },
          "execution_count": 10,
          "metadata": {},
          "output_type": "execute_result"
        }
      ],
      "source": [
        "t = pd.concat([t_ney.assign(method='Neyman'),\n",
        "               t_ols.assign(method='OLS'),\n",
        "               t_ctr.assign(method='MLR')])\n",
        "\n",
        "t.sort_values('depvar')"
      ]
    },
    {
      "cell_type": "markdown",
      "id": "02f45af7",
      "metadata": {
        "id": "02f45af7"
      },
      "source": [
        "### 3. Fischer's Exact Test"
      ]
    },
    {
      "cell_type": "code",
      "execution_count": null,
      "id": "11061de9",
      "metadata": {
        "id": "11061de9",
        "outputId": "f9ad6bfc-56c6-4872-b4e5-09f921b03c1a"
      },
      "outputs": [
        {
          "ename": "TypeError",
          "evalue": "cannot unpack non-iterable PermutationTestResult object",
          "output_type": "error",
          "traceback": [
            "\u001b[0;31m---------------------------------------------------------------------------\u001b[0m",
            "\u001b[0;31mTypeError\u001b[0m                                 Traceback (most recent call last)",
            "\u001b[0;32m<ipython-input-23-5b54f57cc3b8>\u001b[0m in \u001b[0;36m<module>\u001b[0;34m\u001b[0m\n\u001b[0;32m----> 1\u001b[0;31m tau, p, n = stats.permutation_test(data=(d2.loc[d2['T_nap'].eq(1) & d2['tot_earnings'].notna(), 'tot_earnings'],\n\u001b[0m\u001b[1;32m      2\u001b[0m                                    d2.loc[d2['T_nap'].eq(0) & d2['tot_earnings'].notna(), 'tot_earnings']),\n\u001b[1;32m      3\u001b[0m                              \u001b[0mstatistic\u001b[0m\u001b[0;34m=\u001b[0m\u001b[0;32mlambda\u001b[0m \u001b[0mx\u001b[0m\u001b[0;34m,\u001b[0m \u001b[0my\u001b[0m\u001b[0;34m:\u001b[0m \u001b[0mnp\u001b[0m\u001b[0;34m.\u001b[0m\u001b[0mmean\u001b[0m\u001b[0;34m(\u001b[0m\u001b[0mx\u001b[0m\u001b[0;34m)\u001b[0m \u001b[0;34m-\u001b[0m \u001b[0mnp\u001b[0m\u001b[0;34m.\u001b[0m\u001b[0mmean\u001b[0m\u001b[0;34m(\u001b[0m\u001b[0my\u001b[0m\u001b[0;34m)\u001b[0m\u001b[0;34m,\u001b[0m\u001b[0;34m\u001b[0m\u001b[0;34m\u001b[0m\u001b[0m\n\u001b[1;32m      4\u001b[0m                              \u001b[0mn_resamples\u001b[0m\u001b[0;34m=\u001b[0m\u001b[0;36m1000\u001b[0m\u001b[0;34m,\u001b[0m\u001b[0;34m\u001b[0m\u001b[0;34m\u001b[0m\u001b[0m\n\u001b[1;32m      5\u001b[0m                              random_state=42)\n",
            "\u001b[0;31mTypeError\u001b[0m: cannot unpack non-iterable PermutationTestResult object"
          ]
        }
      ],
      "source": [
        "stats.permutation_test(data=(d2.loc[d2['T_nap'].eq(1) & d2['tot_earnings'].notna(), 'tot_earnings'],\n",
        "                             d2.loc[d2['T_nap'].eq(0) & d2['tot_earnings'].notna(), 'tot_earnings']),\n",
        "                       statistic=lambda x, y: np.mean(x) - np.mean(y),\n",
        "                       n_resamples=1000,\n",
        "                       random_state=42)"
      ]
    }
  ],
  "metadata": {
    "kernelspec": {
      "display_name": "Python 3",
      "language": "python",
      "name": "python3"
    },
    "language_info": {
      "codemirror_mode": {
        "name": "ipython",
        "version": 3
      },
      "file_extension": ".py",
      "mimetype": "text/x-python",
      "name": "python",
      "nbconvert_exporter": "python",
      "pygments_lexer": "ipython3",
      "version": "3.8.8"
    },
    "colab": {
      "name": "main.ipynb",
      "provenance": []
    }
  },
  "nbformat": 4,
  "nbformat_minor": 5
}