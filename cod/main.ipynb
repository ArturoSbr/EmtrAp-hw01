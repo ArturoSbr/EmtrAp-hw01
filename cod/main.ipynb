{
  "cells": [
    {
      "cell_type": "markdown",
      "id": "f4147fc8",
      "metadata": {
        "id": "f4147fc8"
      },
      "source": [
        "# Econometría Aplicada II\n",
        "## Tarea 1\n",
        "Importar librerías"
      ]
    },
    {
      "cell_type": "code",
      "execution_count": 1,
      "id": "0183c18b",
      "metadata": {
        "id": "0183c18b"
      },
      "outputs": [],
      "source": [
        "%%capture\n",
        "# Clonar repo si estamos en colab\n",
        "if 'google.colab' in str(get_ipython()):\n",
        "    !git clone https://github.com/ArturoSbr/EmtrAp2-hw01\n",
        "    # !pip install scipy==1.7.3\n",
        "    %cd EmtrAp2-hw01/cod\n",
        "\n",
        "# Libs\n",
        "import numpy as np\n",
        "import pandas as pd\n",
        "from scipy import stats\n",
        "from statsmodels.api import OLS\n",
        "from matplotlib import pyplot as plt"
      ]
    },
    {
      "cell_type": "markdown",
      "id": "f28d8dad",
      "metadata": {
        "id": "f28d8dad"
      },
      "source": [
        "Importar datos"
      ]
    },
    {
      "cell_type": "code",
      "execution_count": 2,
      "id": "69e10890",
      "metadata": {
        "id": "69e10890"
      },
      "outputs": [],
      "source": [
        "d1 = pd.read_csv('../dat/baseline.csv')\n",
        "d2 = pd.read_csv('../dat/endline.csv')\n",
        "d3 = pd.read_csv('../dat/completa.csv')"
      ]
    },
    {
      "cell_type": "markdown",
      "id": "b93ef3b8",
      "metadata": {
        "id": "b93ef3b8"
      },
      "source": [
        "### 1. Balance\n",
        "Tabla de balance por grupo de acuerdo a `T_nap`"
      ]
    },
    {
      "cell_type": "code",
      "execution_count": 3,
      "id": "14a8a3d0",
      "metadata": {
        "colab": {
          "base_uri": "https://localhost:8080/",
          "height": 359
        },
        "id": "14a8a3d0",
        "outputId": "76faa306-edb6-4afe-8aab-f13af07860c8",
        "scrolled": false
      },
      "outputs": [
        {
          "output_type": "execute_result",
          "data": {
            "text/plain": [
              "                              var      t      p\n",
              "6                       act_inbed  1.255  0.210\n",
              "1                            age_ -0.249  0.804\n",
              "7      an_12_number_of_awakenings  0.780  0.436\n",
              "8  an_13_average_awakening_length  0.111  0.912\n",
              "3                      education_ -1.296  0.196\n",
              "2                         female_ -0.034  0.973\n",
              "5                 no_of_children_  0.533  0.594\n",
              "4                     sleep_night  0.612  0.541\n",
              "0                  time_in_office -0.246  0.806\n",
              "9                      unemployed  0.491  0.624"
            ],
            "text/html": [
              "\n",
              "  <div id=\"df-b94aa5f5-3f66-4e98-9457-ccd3a374491e\">\n",
              "    <div class=\"colab-df-container\">\n",
              "      <div>\n",
              "<style scoped>\n",
              "    .dataframe tbody tr th:only-of-type {\n",
              "        vertical-align: middle;\n",
              "    }\n",
              "\n",
              "    .dataframe tbody tr th {\n",
              "        vertical-align: top;\n",
              "    }\n",
              "\n",
              "    .dataframe thead th {\n",
              "        text-align: right;\n",
              "    }\n",
              "</style>\n",
              "<table border=\"1\" class=\"dataframe\">\n",
              "  <thead>\n",
              "    <tr style=\"text-align: right;\">\n",
              "      <th></th>\n",
              "      <th>var</th>\n",
              "      <th>t</th>\n",
              "      <th>p</th>\n",
              "    </tr>\n",
              "  </thead>\n",
              "  <tbody>\n",
              "    <tr>\n",
              "      <th>6</th>\n",
              "      <td>act_inbed</td>\n",
              "      <td>1.255</td>\n",
              "      <td>0.210</td>\n",
              "    </tr>\n",
              "    <tr>\n",
              "      <th>1</th>\n",
              "      <td>age_</td>\n",
              "      <td>-0.249</td>\n",
              "      <td>0.804</td>\n",
              "    </tr>\n",
              "    <tr>\n",
              "      <th>7</th>\n",
              "      <td>an_12_number_of_awakenings</td>\n",
              "      <td>0.780</td>\n",
              "      <td>0.436</td>\n",
              "    </tr>\n",
              "    <tr>\n",
              "      <th>8</th>\n",
              "      <td>an_13_average_awakening_length</td>\n",
              "      <td>0.111</td>\n",
              "      <td>0.912</td>\n",
              "    </tr>\n",
              "    <tr>\n",
              "      <th>3</th>\n",
              "      <td>education_</td>\n",
              "      <td>-1.296</td>\n",
              "      <td>0.196</td>\n",
              "    </tr>\n",
              "    <tr>\n",
              "      <th>2</th>\n",
              "      <td>female_</td>\n",
              "      <td>-0.034</td>\n",
              "      <td>0.973</td>\n",
              "    </tr>\n",
              "    <tr>\n",
              "      <th>5</th>\n",
              "      <td>no_of_children_</td>\n",
              "      <td>0.533</td>\n",
              "      <td>0.594</td>\n",
              "    </tr>\n",
              "    <tr>\n",
              "      <th>4</th>\n",
              "      <td>sleep_night</td>\n",
              "      <td>0.612</td>\n",
              "      <td>0.541</td>\n",
              "    </tr>\n",
              "    <tr>\n",
              "      <th>0</th>\n",
              "      <td>time_in_office</td>\n",
              "      <td>-0.246</td>\n",
              "      <td>0.806</td>\n",
              "    </tr>\n",
              "    <tr>\n",
              "      <th>9</th>\n",
              "      <td>unemployed</td>\n",
              "      <td>0.491</td>\n",
              "      <td>0.624</td>\n",
              "    </tr>\n",
              "  </tbody>\n",
              "</table>\n",
              "</div>\n",
              "      <button class=\"colab-df-convert\" onclick=\"convertToInteractive('df-b94aa5f5-3f66-4e98-9457-ccd3a374491e')\"\n",
              "              title=\"Convert this dataframe to an interactive table.\"\n",
              "              style=\"display:none;\">\n",
              "        \n",
              "  <svg xmlns=\"http://www.w3.org/2000/svg\" height=\"24px\"viewBox=\"0 0 24 24\"\n",
              "       width=\"24px\">\n",
              "    <path d=\"M0 0h24v24H0V0z\" fill=\"none\"/>\n",
              "    <path d=\"M18.56 5.44l.94 2.06.94-2.06 2.06-.94-2.06-.94-.94-2.06-.94 2.06-2.06.94zm-11 1L8.5 8.5l.94-2.06 2.06-.94-2.06-.94L8.5 2.5l-.94 2.06-2.06.94zm10 10l.94 2.06.94-2.06 2.06-.94-2.06-.94-.94-2.06-.94 2.06-2.06.94z\"/><path d=\"M17.41 7.96l-1.37-1.37c-.4-.4-.92-.59-1.43-.59-.52 0-1.04.2-1.43.59L10.3 9.45l-7.72 7.72c-.78.78-.78 2.05 0 2.83L4 21.41c.39.39.9.59 1.41.59.51 0 1.02-.2 1.41-.59l7.78-7.78 2.81-2.81c.8-.78.8-2.07 0-2.86zM5.41 20L4 18.59l7.72-7.72 1.47 1.35L5.41 20z\"/>\n",
              "  </svg>\n",
              "      </button>\n",
              "      \n",
              "  <style>\n",
              "    .colab-df-container {\n",
              "      display:flex;\n",
              "      flex-wrap:wrap;\n",
              "      gap: 12px;\n",
              "    }\n",
              "\n",
              "    .colab-df-convert {\n",
              "      background-color: #E8F0FE;\n",
              "      border: none;\n",
              "      border-radius: 50%;\n",
              "      cursor: pointer;\n",
              "      display: none;\n",
              "      fill: #1967D2;\n",
              "      height: 32px;\n",
              "      padding: 0 0 0 0;\n",
              "      width: 32px;\n",
              "    }\n",
              "\n",
              "    .colab-df-convert:hover {\n",
              "      background-color: #E2EBFA;\n",
              "      box-shadow: 0px 1px 2px rgba(60, 64, 67, 0.3), 0px 1px 3px 1px rgba(60, 64, 67, 0.15);\n",
              "      fill: #174EA6;\n",
              "    }\n",
              "\n",
              "    [theme=dark] .colab-df-convert {\n",
              "      background-color: #3B4455;\n",
              "      fill: #D2E3FC;\n",
              "    }\n",
              "\n",
              "    [theme=dark] .colab-df-convert:hover {\n",
              "      background-color: #434B5C;\n",
              "      box-shadow: 0px 1px 3px 1px rgba(0, 0, 0, 0.15);\n",
              "      filter: drop-shadow(0px 1px 2px rgba(0, 0, 0, 0.3));\n",
              "      fill: #FFFFFF;\n",
              "    }\n",
              "  </style>\n",
              "\n",
              "      <script>\n",
              "        const buttonEl =\n",
              "          document.querySelector('#df-b94aa5f5-3f66-4e98-9457-ccd3a374491e button.colab-df-convert');\n",
              "        buttonEl.style.display =\n",
              "          google.colab.kernel.accessAllowed ? 'block' : 'none';\n",
              "\n",
              "        async function convertToInteractive(key) {\n",
              "          const element = document.querySelector('#df-b94aa5f5-3f66-4e98-9457-ccd3a374491e');\n",
              "          const dataTable =\n",
              "            await google.colab.kernel.invokeFunction('convertToInteractive',\n",
              "                                                     [key], {});\n",
              "          if (!dataTable) return;\n",
              "\n",
              "          const docLinkHtml = 'Like what you see? Visit the ' +\n",
              "            '<a target=\"_blank\" href=https://colab.research.google.com/notebooks/data_table.ipynb>data table notebook</a>'\n",
              "            + ' to learn more about interactive tables.';\n",
              "          element.innerHTML = '';\n",
              "          dataTable['output_type'] = 'display_data';\n",
              "          await google.colab.output.renderOutput(dataTable, element);\n",
              "          const docLink = document.createElement('div');\n",
              "          docLink.innerHTML = docLinkHtml;\n",
              "          element.appendChild(docLink);\n",
              "        }\n",
              "      </script>\n",
              "    </div>\n",
              "  </div>\n",
              "  "
            ]
          },
          "metadata": {},
          "execution_count": 3
        }
      ],
      "source": [
        "# Seleccionar 10 variables basales\n",
        "X = ['time_in_office','age_','female_','education_','sleep_night','no_of_children_','act_inbed',\n",
        "     'an_12_number_of_awakenings','an_13_average_awakening_length','unemployed']\n",
        "\n",
        "# Inicializar lista\n",
        "d = []\n",
        "\n",
        "# Medias de variables basales\n",
        "for x in X:\n",
        "    # Grupos\n",
        "    b, a = d1.groupby('T_nap')[x].apply(np.array)\n",
        "    # t-test\n",
        "    test = stats.ttest_ind(a=a, b=b, equal_var=False, nan_policy='omit')\n",
        "    # Agregar a lista\n",
        "    d.append([x] + list(test))\n",
        "\n",
        "# A tabla\n",
        "t = pd.DataFrame(data=d, columns=['var','t','p']).sort_values('var')\n",
        "t.round(3)"
      ]
    },
    {
      "cell_type": "markdown",
      "id": "6010a6d0",
      "metadata": {
        "id": "6010a6d0"
      },
      "source": [
        "Todos los p-values de las pruebas de diferencia de medias son mayores a 0.1. Esto significa que para toda variable independiente $X_j$, no podemos rechazar la hipótesis nula $\\mu_{X_j}^C = \\mu_{X_j}^T$. Las pruebas individuales sugieren que no existe ninguna diferencia entra las medias del grupo de control y el grupo de tratamiento.\n",
        "\n",
        "Para evaluar la significancia de manera conjunta, uso el siguiente modelo de probabilidad lineal:\n",
        "$$T_i = \\beta_0 + X_i^T \\beta + U_i$$\n",
        "donde $X_i^T$ contiene todos los controles evaluados en la prueba anterior.\n",
        "\n",
        "La prueba de hipótesis para determinar si al menos una de las variables indepentientes está relacionada con la asignación a tratamiento es:\n",
        "$$H_0: \\beta_1 = 0$$\n",
        "$$H_1: \\text{Al menos un coeficiente es distinto de cero}$$"
      ]
    },
    {
      "cell_type": "code",
      "execution_count": 4,
      "id": "bf866f0f",
      "metadata": {
        "colab": {
          "base_uri": "https://localhost:8080/"
        },
        "id": "bf866f0f",
        "outputId": "edcfd107-07d1-487d-a852-80fef5a5a87b"
      },
      "outputs": [
        {
          "output_type": "stream",
          "name": "stdout",
          "text": [
            "                            OLS Regression Results                            \n",
            "==============================================================================\n",
            "Dep. Variable:                  T_nap   R-squared:                       0.013\n",
            "Model:                            OLS   Adj. R-squared:                 -0.012\n",
            "Method:                 Least Squares   F-statistic:                    0.5121\n",
            "Date:                Sat, 30 Apr 2022   Prob (F-statistic):              0.882\n",
            "Time:                        15:45:51   Log-Likelihood:                -297.84\n",
            "No. Observations:                 414   AIC:                             617.7\n",
            "Df Residuals:                     403   BIC:                             662.0\n",
            "Df Model:                          10                                         \n",
            "Covariance Type:            nonrobust                                         \n",
            "==================================================================================================\n",
            "                                     coef    std err          t      P>|t|      [0.025      0.975]\n",
            "--------------------------------------------------------------------------------------------------\n",
            "time_in_office                    -0.0144      0.037     -0.390      0.697      -0.087       0.058\n",
            "age_                              -0.0017      0.004     -0.424      0.672      -0.010       0.006\n",
            "female_                           -0.0156      0.065     -0.241      0.810      -0.143       0.111\n",
            "education_                        -0.0123      0.009     -1.321      0.187      -0.031       0.006\n",
            "sleep_night                       -0.1062      0.126     -0.840      0.402      -0.355       0.142\n",
            "no_of_children_                    0.0144      0.029      0.493      0.622      -0.043       0.072\n",
            "act_inbed                          0.1387      0.127      1.094      0.275      -0.111       0.388\n",
            "an_12_number_of_awakenings        -0.0077      0.010     -0.773      0.440      -0.027       0.012\n",
            "an_13_average_awakening_length    -0.0402      0.054     -0.743      0.458      -0.147       0.066\n",
            "unemployed                         0.0118      0.023      0.512      0.609      -0.033       0.057\n",
            "const                              0.6893      0.519      1.328      0.185      -0.331       1.709\n",
            "==============================================================================\n",
            "Omnibus:                     1840.882   Durbin-Watson:                   2.155\n",
            "Prob(Omnibus):                  0.000   Jarque-Bera (JB):               65.690\n",
            "Skew:                           0.019   Prob(JB):                     5.44e-15\n",
            "Kurtosis:                       1.049   Cond. No.                     1.07e+03\n",
            "==============================================================================\n",
            "\n",
            "Warnings:\n",
            "[1] Standard Errors assume that the covariance matrix of the errors is correctly specified.\n",
            "[2] The condition number is large, 1.07e+03. This might indicate that there are\n",
            "strong multicollinearity or other numerical problems.\n"
          ]
        }
      ],
      "source": [
        "# T_nap en función de controles\n",
        "m = OLS(endog=d1['T_nap'], exog=d1[X].assign(const = 1)).fit()\n",
        "\n",
        "# Tabla de resumen\n",
        "print(m.summary())"
      ]
    },
    {
      "cell_type": "markdown",
      "id": "c364addf",
      "metadata": {
        "id": "c364addf"
      },
      "source": [
        "Al igual que en las diferencias de medias, todos los coeficientes estimados del modelo de probabilidad lineal tienen p-values menores a 0.1. Por ende, ninguno de las variables independientes tiene significancia individual para determinar la asignación a tratamiento.\n",
        "\n",
        "La prueba que nos interesa se ve reflejada en el estadístico $F$. La prueba de significancia conjunta tiene un p-value de 0.882. Es decir, no hay evidencia de que alguno de los coeficientes sea distinto de cero.\n",
        "\n",
        "Como conclusión, parece que el tratamiento sí fue asignado de manera aleatoria con base en los 10 controles que elegí.\n",
        "\n",
        "### 2. Efectos de tratamiento\n",
        "Efectos de tratamiento sobre la productividad de los trabajadores.\n",
        "\n",
        "#### a) Estimadores de Neyman"
      ]
    },
    {
      "cell_type": "code",
      "execution_count": 12,
      "id": "d05b58a9",
      "metadata": {
        "colab": {
          "base_uri": "https://localhost:8080/"
        },
        "id": "d05b58a9",
        "outputId": "54fb748c-9db6-41eb-99fd-7d42ffe8e17f"
      },
      "outputs": [
        {
          "output_type": "stream",
          "name": "stdout",
          "text": [
            "Prueba de Neyman sobre productividad:\n",
            "['T_nap', -170.53711387267913, 177.8423473054588, -0.9589229812614184, 0.3375975464907819]\n"
          ]
        }
      ],
      "source": [
        "# Función para estimador de Neyman\n",
        "def neyman(frame, treatment_col, values_col):\n",
        "    # Arreglos C y T\n",
        "    m = frame[[treatment_col,values_col]].notna().all(axis=1)\n",
        "    a, b = frame[m].groupby(treatment_col)[values_col].apply(np.array)\n",
        "    # Diferencia de medias\n",
        "    tau = np.mean(b) - np.mean(a)\n",
        "    # Error estándar sobre-estimado\n",
        "    bse = np.sqrt(np.var(a, ddof=1) / len(a) + np.var(b, ddof=1) / len(b))\n",
        "    # t-stat\n",
        "    t = tau / bse\n",
        "    # p-value\n",
        "    p = 2 * (1 - stats.norm().cdf(np.abs(t)))\n",
        "    return [treatment_col, tau, bse, t, p]\n",
        "\n",
        "# Diferencia de Neyman\n",
        "prod_ney = neyman(d2, 'T_nap', 'productivity')\n",
        "print(f'Prueba de Neyman sobre productividad:\\n{prod_ney}')"
      ]
    },
    {
      "cell_type": "markdown",
      "id": "2ed76558",
      "metadata": {
        "id": "2ed76558"
      },
      "source": [
        "#### b) Estimadores OLS sin controles"
      ]
    },
    {
      "cell_type": "code",
      "execution_count": 13,
      "id": "9f69843a",
      "metadata": {
        "colab": {
          "base_uri": "https://localhost:8080/"
        },
        "id": "9f69843a",
        "outputId": "025a7312-737c-407b-f755-ff49b7c831cd"
      },
      "outputs": [
        {
          "output_type": "stream",
          "name": "stdout",
          "text": [
            "Estimación OLS sobre productividad:\n",
            "['T_nap', -170.53711387267884, 177.41291329606045, -0.9612440870529672, 0.3364294539166679]\n"
          ]
        }
      ],
      "source": [
        "m = OLS(endog=d2['productivity'], exog=d2.assign(const = 1)[['const','T_nap']], missing='drop')\n",
        "m = m.fit(cov_type='HC0')\n",
        "\n",
        "# Diferencia OLS sin X\n",
        "prod_ols = ['T_nap', m.params['T_nap'], m.bse['T_nap'], m.tvalues['T_nap'], m.pvalues['T_nap']]\n",
        "print(f'Estimación OLS sobre productividad:\\n{prod_ols}')"
      ]
    },
    {
      "cell_type": "markdown",
      "id": "672981fe",
      "metadata": {
        "id": "672981fe"
      },
      "source": [
        "#### c) Estimadores con controles\n",
        "De acuerdo al paper, $X_i$ contiene `age_` en cuartiles, `female_` y la variable que indica si $i$ fue asignado a trabajar o a tomarse un break en vez de tomar una siesta.\n",
        "\n",
        "Como esta pregunta usa la base con promedios durante los 20 días de estudio, la variable que indica la actividad asignada cada día a los individuos del grupo de control no está disponible. Por ende, usaré el siguiente model:\n",
        "$$Y_i = \\beta_0 + \\sum_{q=1}^4I\\big[\\beta_q \\times Q(age_i)\\big] + \\beta_f fem_i$$\n",
        "donde $Q(age_i)$ asigna un cuartil a $i$ con base en su edad y $fem_i = 1$ si $i$ es mujer."
      ]
    },
    {
      "cell_type": "code",
      "execution_count": 17,
      "id": "29012c16",
      "metadata": {
        "colab": {
          "base_uri": "https://localhost:8080/"
        },
        "id": "29012c16",
        "outputId": "5ea7a18e-3f9e-4cc6-f06c-ab31ecbb3f56"
      },
      "outputs": [
        {
          "output_type": "stream",
          "name": "stdout",
          "text": [
            "Estimación OLS+X sobre productividad:\n",
            "['T_nap', -212.8637174329257, 168.48555935750844, -1.2633944312179985, 0.2064474644578932]\n"
          ]
        }
      ],
      "source": [
        "# Edad a cuartiles y luego a dummies\n",
        "d2['age_q'] = pd.qcut(x=d2['age_'], q=4, labels=[f'q{i}' for i in range(1,5)])\n",
        "d2 = pd.get_dummies(data=d2, prefix='age_', prefix_sep='', columns=['age_q'], )\n",
        "\n",
        "# Tratamiento y controles\n",
        "X = ['T_nap','const','age_q2','age_q3','age_q4','female_']\n",
        "\n",
        "# Correr regresión\n",
        "m = OLS(endog=d2['productivity'], exog=d2.assign(const = 1)[X], missing='drop')\n",
        "m = m.fit(cov_type='HC0')\n",
        "\n",
        "# Regresión con controles\n",
        "prod_ctr = ['T_nap', m.params['T_nap'], m.bse['T_nap'], m.tvalues['T_nap'], m.pvalues['T_nap']]\n",
        "print(f'Estimación OLS+X sobre productividad:\\n{prod_ctr}')"
      ]
    },
    {
      "cell_type": "markdown",
      "id": "taHtJSS3Y1xS",
      "metadata": {
        "id": "taHtJSS3Y1xS"
      },
      "source": [
        "#### d) Resultados a tabla"
      ]
    },
    {
      "cell_type": "code",
      "execution_count": 26,
      "id": "eyUKsklr_SAf",
      "metadata": {
        "colab": {
          "base_uri": "https://localhost:8080/",
          "height": 142
        },
        "id": "eyUKsklr_SAf",
        "outputId": "fae18941-e83f-45ab-f1f7-e5467c42e0e0"
      },
      "outputs": [
        {
          "output_type": "execute_result",
          "data": {
            "text/plain": [
              "                   Y         tau          se         t         p\n",
              "Neyman         T_nap -170.537114  177.842347 -0.958923  0.337598\n",
              "OLS simple     T_nap -170.537114  177.412913 -0.961244  0.336429\n",
              "OLS controles  T_nap -212.863717  168.485559 -1.263394  0.206447"
            ],
            "text/html": [
              "\n",
              "  <div id=\"df-dd401e05-cda0-4fd3-9e7a-23347f07ed37\">\n",
              "    <div class=\"colab-df-container\">\n",
              "      <div>\n",
              "<style scoped>\n",
              "    .dataframe tbody tr th:only-of-type {\n",
              "        vertical-align: middle;\n",
              "    }\n",
              "\n",
              "    .dataframe tbody tr th {\n",
              "        vertical-align: top;\n",
              "    }\n",
              "\n",
              "    .dataframe thead th {\n",
              "        text-align: right;\n",
              "    }\n",
              "</style>\n",
              "<table border=\"1\" class=\"dataframe\">\n",
              "  <thead>\n",
              "    <tr style=\"text-align: right;\">\n",
              "      <th></th>\n",
              "      <th>Y</th>\n",
              "      <th>tau</th>\n",
              "      <th>se</th>\n",
              "      <th>t</th>\n",
              "      <th>p</th>\n",
              "    </tr>\n",
              "  </thead>\n",
              "  <tbody>\n",
              "    <tr>\n",
              "      <th>Neyman</th>\n",
              "      <td>T_nap</td>\n",
              "      <td>-170.537114</td>\n",
              "      <td>177.842347</td>\n",
              "      <td>-0.958923</td>\n",
              "      <td>0.337598</td>\n",
              "    </tr>\n",
              "    <tr>\n",
              "      <th>OLS simple</th>\n",
              "      <td>T_nap</td>\n",
              "      <td>-170.537114</td>\n",
              "      <td>177.412913</td>\n",
              "      <td>-0.961244</td>\n",
              "      <td>0.336429</td>\n",
              "    </tr>\n",
              "    <tr>\n",
              "      <th>OLS controles</th>\n",
              "      <td>T_nap</td>\n",
              "      <td>-212.863717</td>\n",
              "      <td>168.485559</td>\n",
              "      <td>-1.263394</td>\n",
              "      <td>0.206447</td>\n",
              "    </tr>\n",
              "  </tbody>\n",
              "</table>\n",
              "</div>\n",
              "      <button class=\"colab-df-convert\" onclick=\"convertToInteractive('df-dd401e05-cda0-4fd3-9e7a-23347f07ed37')\"\n",
              "              title=\"Convert this dataframe to an interactive table.\"\n",
              "              style=\"display:none;\">\n",
              "        \n",
              "  <svg xmlns=\"http://www.w3.org/2000/svg\" height=\"24px\"viewBox=\"0 0 24 24\"\n",
              "       width=\"24px\">\n",
              "    <path d=\"M0 0h24v24H0V0z\" fill=\"none\"/>\n",
              "    <path d=\"M18.56 5.44l.94 2.06.94-2.06 2.06-.94-2.06-.94-.94-2.06-.94 2.06-2.06.94zm-11 1L8.5 8.5l.94-2.06 2.06-.94-2.06-.94L8.5 2.5l-.94 2.06-2.06.94zm10 10l.94 2.06.94-2.06 2.06-.94-2.06-.94-.94-2.06-.94 2.06-2.06.94z\"/><path d=\"M17.41 7.96l-1.37-1.37c-.4-.4-.92-.59-1.43-.59-.52 0-1.04.2-1.43.59L10.3 9.45l-7.72 7.72c-.78.78-.78 2.05 0 2.83L4 21.41c.39.39.9.59 1.41.59.51 0 1.02-.2 1.41-.59l7.78-7.78 2.81-2.81c.8-.78.8-2.07 0-2.86zM5.41 20L4 18.59l7.72-7.72 1.47 1.35L5.41 20z\"/>\n",
              "  </svg>\n",
              "      </button>\n",
              "      \n",
              "  <style>\n",
              "    .colab-df-container {\n",
              "      display:flex;\n",
              "      flex-wrap:wrap;\n",
              "      gap: 12px;\n",
              "    }\n",
              "\n",
              "    .colab-df-convert {\n",
              "      background-color: #E8F0FE;\n",
              "      border: none;\n",
              "      border-radius: 50%;\n",
              "      cursor: pointer;\n",
              "      display: none;\n",
              "      fill: #1967D2;\n",
              "      height: 32px;\n",
              "      padding: 0 0 0 0;\n",
              "      width: 32px;\n",
              "    }\n",
              "\n",
              "    .colab-df-convert:hover {\n",
              "      background-color: #E2EBFA;\n",
              "      box-shadow: 0px 1px 2px rgba(60, 64, 67, 0.3), 0px 1px 3px 1px rgba(60, 64, 67, 0.15);\n",
              "      fill: #174EA6;\n",
              "    }\n",
              "\n",
              "    [theme=dark] .colab-df-convert {\n",
              "      background-color: #3B4455;\n",
              "      fill: #D2E3FC;\n",
              "    }\n",
              "\n",
              "    [theme=dark] .colab-df-convert:hover {\n",
              "      background-color: #434B5C;\n",
              "      box-shadow: 0px 1px 3px 1px rgba(0, 0, 0, 0.15);\n",
              "      filter: drop-shadow(0px 1px 2px rgba(0, 0, 0, 0.3));\n",
              "      fill: #FFFFFF;\n",
              "    }\n",
              "  </style>\n",
              "\n",
              "      <script>\n",
              "        const buttonEl =\n",
              "          document.querySelector('#df-dd401e05-cda0-4fd3-9e7a-23347f07ed37 button.colab-df-convert');\n",
              "        buttonEl.style.display =\n",
              "          google.colab.kernel.accessAllowed ? 'block' : 'none';\n",
              "\n",
              "        async function convertToInteractive(key) {\n",
              "          const element = document.querySelector('#df-dd401e05-cda0-4fd3-9e7a-23347f07ed37');\n",
              "          const dataTable =\n",
              "            await google.colab.kernel.invokeFunction('convertToInteractive',\n",
              "                                                     [key], {});\n",
              "          if (!dataTable) return;\n",
              "\n",
              "          const docLinkHtml = 'Like what you see? Visit the ' +\n",
              "            '<a target=\"_blank\" href=https://colab.research.google.com/notebooks/data_table.ipynb>data table notebook</a>'\n",
              "            + ' to learn more about interactive tables.';\n",
              "          element.innerHTML = '';\n",
              "          dataTable['output_type'] = 'display_data';\n",
              "          await google.colab.output.renderOutput(dataTable, element);\n",
              "          const docLink = document.createElement('div');\n",
              "          docLink.innerHTML = docLinkHtml;\n",
              "          element.appendChild(docLink);\n",
              "        }\n",
              "      </script>\n",
              "    </div>\n",
              "  </div>\n",
              "  "
            ]
          },
          "metadata": {},
          "execution_count": 26
        }
      ],
      "source": [
        "# Concatenar resultados\n",
        "t = pd.DataFrame(data=[prod_ney, prod_ols, prod_ctr],\n",
        "                 columns=['Y','tau','se','t','p'],\n",
        "                 index=['Neyman','OLS simple','OLS controles'])\n",
        "t"
      ]
    },
    {
      "cell_type": "markdown",
      "id": "yhCJvUmyCRUy",
      "metadata": {
        "id": "yhCJvUmyCRUy"
      },
      "source": [
        "Los tres métodos indican que tomar una siesta tiene un efecto negativo sobre la productividad de los trabajadores. Sin embargo, todos los efectos estimados carecen de significancia. Es decir, el efecto promedio de tratamiento no es estadísticamente distinto de cero.\n",
        "\n",
        "Mi modelo preferido es el OLS con controles porque redujo el p-value del coeficiente asociado al tratamiento.\n",
        "\n",
        "#### e) Nuevas variables dependientes"
      ]
    },
    {
      "cell_type": "code",
      "execution_count": 28,
      "id": "RNe2PpD_CifM",
      "metadata": {
        "colab": {
          "base_uri": "https://localhost:8080/",
          "height": 142
        },
        "id": "RNe2PpD_CifM",
        "outputId": "04be365f-c0ba-495b-80b2-2c91fb875a9b"
      },
      "outputs": [
        {
          "output_type": "execute_result",
          "data": {
            "text/plain": [
              "     nap_time_mins  sleep_report  happy    cog  typing_time_hr\n",
              "tau         11.745         0.049  0.050  0.029          -0.018\n",
              "t           39.444         1.119  1.422  0.531          -0.167\n",
              "p            0.000         0.263  0.155  0.596           0.868"
            ],
            "text/html": [
              "\n",
              "  <div id=\"df-02986657-1eea-4efd-a5ba-64a88e92b03a\">\n",
              "    <div class=\"colab-df-container\">\n",
              "      <div>\n",
              "<style scoped>\n",
              "    .dataframe tbody tr th:only-of-type {\n",
              "        vertical-align: middle;\n",
              "    }\n",
              "\n",
              "    .dataframe tbody tr th {\n",
              "        vertical-align: top;\n",
              "    }\n",
              "\n",
              "    .dataframe thead th {\n",
              "        text-align: right;\n",
              "    }\n",
              "</style>\n",
              "<table border=\"1\" class=\"dataframe\">\n",
              "  <thead>\n",
              "    <tr style=\"text-align: right;\">\n",
              "      <th></th>\n",
              "      <th>nap_time_mins</th>\n",
              "      <th>sleep_report</th>\n",
              "      <th>happy</th>\n",
              "      <th>cog</th>\n",
              "      <th>typing_time_hr</th>\n",
              "    </tr>\n",
              "  </thead>\n",
              "  <tbody>\n",
              "    <tr>\n",
              "      <th>tau</th>\n",
              "      <td>11.745</td>\n",
              "      <td>0.049</td>\n",
              "      <td>0.050</td>\n",
              "      <td>0.029</td>\n",
              "      <td>-0.018</td>\n",
              "    </tr>\n",
              "    <tr>\n",
              "      <th>t</th>\n",
              "      <td>39.444</td>\n",
              "      <td>1.119</td>\n",
              "      <td>1.422</td>\n",
              "      <td>0.531</td>\n",
              "      <td>-0.167</td>\n",
              "    </tr>\n",
              "    <tr>\n",
              "      <th>p</th>\n",
              "      <td>0.000</td>\n",
              "      <td>0.263</td>\n",
              "      <td>0.155</td>\n",
              "      <td>0.596</td>\n",
              "      <td>0.868</td>\n",
              "    </tr>\n",
              "  </tbody>\n",
              "</table>\n",
              "</div>\n",
              "      <button class=\"colab-df-convert\" onclick=\"convertToInteractive('df-02986657-1eea-4efd-a5ba-64a88e92b03a')\"\n",
              "              title=\"Convert this dataframe to an interactive table.\"\n",
              "              style=\"display:none;\">\n",
              "        \n",
              "  <svg xmlns=\"http://www.w3.org/2000/svg\" height=\"24px\"viewBox=\"0 0 24 24\"\n",
              "       width=\"24px\">\n",
              "    <path d=\"M0 0h24v24H0V0z\" fill=\"none\"/>\n",
              "    <path d=\"M18.56 5.44l.94 2.06.94-2.06 2.06-.94-2.06-.94-.94-2.06-.94 2.06-2.06.94zm-11 1L8.5 8.5l.94-2.06 2.06-.94-2.06-.94L8.5 2.5l-.94 2.06-2.06.94zm10 10l.94 2.06.94-2.06 2.06-.94-2.06-.94-.94-2.06-.94 2.06-2.06.94z\"/><path d=\"M17.41 7.96l-1.37-1.37c-.4-.4-.92-.59-1.43-.59-.52 0-1.04.2-1.43.59L10.3 9.45l-7.72 7.72c-.78.78-.78 2.05 0 2.83L4 21.41c.39.39.9.59 1.41.59.51 0 1.02-.2 1.41-.59l7.78-7.78 2.81-2.81c.8-.78.8-2.07 0-2.86zM5.41 20L4 18.59l7.72-7.72 1.47 1.35L5.41 20z\"/>\n",
              "  </svg>\n",
              "      </button>\n",
              "      \n",
              "  <style>\n",
              "    .colab-df-container {\n",
              "      display:flex;\n",
              "      flex-wrap:wrap;\n",
              "      gap: 12px;\n",
              "    }\n",
              "\n",
              "    .colab-df-convert {\n",
              "      background-color: #E8F0FE;\n",
              "      border: none;\n",
              "      border-radius: 50%;\n",
              "      cursor: pointer;\n",
              "      display: none;\n",
              "      fill: #1967D2;\n",
              "      height: 32px;\n",
              "      padding: 0 0 0 0;\n",
              "      width: 32px;\n",
              "    }\n",
              "\n",
              "    .colab-df-convert:hover {\n",
              "      background-color: #E2EBFA;\n",
              "      box-shadow: 0px 1px 2px rgba(60, 64, 67, 0.3), 0px 1px 3px 1px rgba(60, 64, 67, 0.15);\n",
              "      fill: #174EA6;\n",
              "    }\n",
              "\n",
              "    [theme=dark] .colab-df-convert {\n",
              "      background-color: #3B4455;\n",
              "      fill: #D2E3FC;\n",
              "    }\n",
              "\n",
              "    [theme=dark] .colab-df-convert:hover {\n",
              "      background-color: #434B5C;\n",
              "      box-shadow: 0px 1px 3px 1px rgba(0, 0, 0, 0.15);\n",
              "      filter: drop-shadow(0px 1px 2px rgba(0, 0, 0, 0.3));\n",
              "      fill: #FFFFFF;\n",
              "    }\n",
              "  </style>\n",
              "\n",
              "      <script>\n",
              "        const buttonEl =\n",
              "          document.querySelector('#df-02986657-1eea-4efd-a5ba-64a88e92b03a button.colab-df-convert');\n",
              "        buttonEl.style.display =\n",
              "          google.colab.kernel.accessAllowed ? 'block' : 'none';\n",
              "\n",
              "        async function convertToInteractive(key) {\n",
              "          const element = document.querySelector('#df-02986657-1eea-4efd-a5ba-64a88e92b03a');\n",
              "          const dataTable =\n",
              "            await google.colab.kernel.invokeFunction('convertToInteractive',\n",
              "                                                     [key], {});\n",
              "          if (!dataTable) return;\n",
              "\n",
              "          const docLinkHtml = 'Like what you see? Visit the ' +\n",
              "            '<a target=\"_blank\" href=https://colab.research.google.com/notebooks/data_table.ipynb>data table notebook</a>'\n",
              "            + ' to learn more about interactive tables.';\n",
              "          element.innerHTML = '';\n",
              "          dataTable['output_type'] = 'display_data';\n",
              "          await google.colab.output.renderOutput(dataTable, element);\n",
              "          const docLink = document.createElement('div');\n",
              "          docLink.innerHTML = docLinkHtml;\n",
              "          element.appendChild(docLink);\n",
              "        }\n",
              "      </script>\n",
              "    </div>\n",
              "  </div>\n",
              "  "
            ]
          },
          "metadata": {},
          "execution_count": 28
        }
      ],
      "source": [
        "# Crear índice de habilidades cognitivas\n",
        "cog = ['corsi_measure','hf_measure','pvt_measure']\n",
        "d2['cog'] = d2[cog].apply(lambda x: (x - x.mean()) / x.std()).mean(axis=1)\n",
        "\n",
        "# Nuevas variables dependientes\n",
        "Y = ['nap_time_mins','sleep_report','happy','cog','typing_time_hr']\n",
        "\n",
        "# Correr regresiones\n",
        "d = []\n",
        "for y in Y:\n",
        "    m = OLS(endog=d2[y], exog=d2.assign(const = 1)[X], missing='drop')\n",
        "    m = m.fit(cov_type='HC0')\n",
        "    d.append([m.params['T_nap'], m.tvalues['T_nap'], m.pvalues['T_nap']])\n",
        "\n",
        "# Resultados a tabla\n",
        "t = pd.DataFrame(data=d, columns=['tau','t','p'], index=Y)\n",
        "\n",
        "# Visualizar\n",
        "t.transpose().round(3)"
      ]
    },
    {
      "cell_type": "markdown",
      "id": "4Y2Chd2LDfmr",
      "metadata": {
        "id": "4Y2Chd2LDfmr"
      },
      "source": [
        "De acuerdo al modelo OLS con controles, el tratamiento:\n",
        "1. Aumenta el promedio de minutos dormidos durante la siesta de 0 a 11.7 minutos\n",
        "1. Aumenta el promedio de número de horas de sueño en 0.05 horas por día (pero no tiene significancia estadística)\n",
        "1. Aumenta el promedio de la calificación de felicidad reportada en 0.05 puntos (pero no tiene significancia estadística)\n",
        "1. Aumentar el índice promedio de desempeño cognitivo en 0.03 desviaciones estándar (pero no tiene significancia estadística)\n",
        "1. Reducir el promedio de horas trabajadas en 0.02 unidades diarias (pero no tiene significancia estadística)\n",
        "\n",
        "### 3. Fischer's Exact Test\n",
        "#### a) Probar si el tratamiento tiene efecto nulo"
      ]
    },
    {
      "cell_type": "code",
      "execution_count": null,
      "id": "11061de9",
      "metadata": {
        "id": "11061de9",
        "outputId": "f2fc422c-2d66-4f8a-caf5-7960e9511823"
      },
      "outputs": [
        {
          "name": "stdout",
          "output_type": "stream",
          "text": [
            "p-value: 0.308\n"
          ]
        }
      ],
      "source": [
        "fet = stats.permutation_test(data=(d2.loc[d2['T_nap'].eq(1) & d2['productivity'].notna(), 'productivity'],\n",
        "                                   d2.loc[d2['T_nap'].eq(0) & d2['productivity'].notna(), 'productivity']),\n",
        "                             statistic=lambda x, y: np.mean(x) - np.mean(y),\n",
        "                             n_resamples=1000,\n",
        "                             random_state=42)\n",
        "\n",
        "print('p-value:', round(fet.pvalue, 3))"
      ]
    },
    {
      "cell_type": "markdown",
      "id": "f58580fe",
      "metadata": {
        "id": "f58580fe"
      },
      "source": [
        "#### b) Conclusión\n",
        "El p-value de la diferencia de Neyman y de OLS sin controles es 0.329, mientras que con la falsificación de Fischer el p-value es 0.328. Estos p-values son muy parecidos entre sí, por lo que podemos concluir con un alto grado de certeza que el efecto de las siestas sobre la productividad no es estadísticamente significativo.\n",
        "\n",
        "Cuando agregamos controles al modelo OLS, el p-value baja a 0.238, lo cual es menor a lo que solía ser, pero permance sin significancia estadística.\n",
        "\n",
        "En resumen, todos los casos indican que las siestas no tienen un efecto estadísticamente significativo sobre la productividad de las personas."
      ]
    },
    {
      "cell_type": "markdown",
      "id": "YH7UHbqiyi38",
      "metadata": {
        "id": "YH7UHbqiyi38"
      },
      "source": [
        "### 4. Estratificación"
      ]
    },
    {
      "cell_type": "code",
      "execution_count": null,
      "id": "PTlD8fapF4a1",
      "metadata": {
        "id": "PTlD8fapF4a1"
      },
      "outputs": [],
      "source": [
        "# Crear casos con datos basales\n",
        "d1[['e','s']] = d1[['earnings','sleep_report']].apply(lambda x: (x >= x.median()).astype(int), axis=0)\n",
        "\n",
        "# Agregar casos a `d2`\n",
        "d2 = d2.merge(d1[['pid','e','s']], on='pid')"
      ]
    },
    {
      "cell_type": "markdown",
      "id": "efc457e3",
      "metadata": {
        "id": "efc457e3"
      },
      "source": [
        "#### a) Número de observaciones asignadas a tratamiento en cada estrato"
      ]
    },
    {
      "cell_type": "code",
      "execution_count": null,
      "id": "b8ae8bef",
      "metadata": {
        "scrolled": true,
        "id": "b8ae8bef",
        "outputId": "96128f1a-87e2-48df-a0bf-98053ba8f229"
      },
      "outputs": [
        {
          "name": "stdout",
          "output_type": "stream",
          "text": [
            "e  s\n",
            "0  0    48\n",
            "   1    54\n",
            "1  0    54\n",
            "   1    49\n",
            "Name: T_nap, dtype: int64\n",
            "e  s\n",
            "0  0     97\n",
            "   1    110\n",
            "1  0    110\n",
            "   1     97\n",
            "dtype: int64\n"
          ]
        }
      ],
      "source": [
        "# Número de observaciones asignadas a tratamiento\n",
        "print(d2.groupby(['e','s'])['T_nap'].sum())\n",
        "\n",
        "# Número de observaciones en cada grupo\n",
        "print(d2.groupby(['e','s']).size())"
      ]
    },
    {
      "cell_type": "markdown",
      "id": "Al8XmkPs7rZX",
      "metadata": {
        "id": "Al8XmkPs7rZX"
      },
      "source": [
        "El 50% de la población fue asignada a tratamiento. Sin embargo, el número de personas en cada grupo no es constante (51.25), sino que a veces está por encima de este número y a veces está por debajo.\n",
        "\n",
        "#### b) Efectos por estrato y agregados\n",
        "Efectos por estrato"
      ]
    },
    {
      "cell_type": "code",
      "execution_count": null,
      "id": "Ff-NRUdj8mm2",
      "metadata": {
        "colab": {
          "base_uri": "https://localhost:8080/",
          "height": 669
        },
        "id": "Ff-NRUdj8mm2",
        "outputId": "ece75b40-8beb-4ffa-ff42-10b8cc79b238"
      },
      "outputs": [
        {
          "data": {
            "text/html": [
              "<div>\n",
              "<style scoped>\n",
              "    .dataframe tbody tr th:only-of-type {\n",
              "        vertical-align: middle;\n",
              "    }\n",
              "\n",
              "    .dataframe tbody tr th {\n",
              "        vertical-align: top;\n",
              "    }\n",
              "\n",
              "    .dataframe thead th {\n",
              "        text-align: right;\n",
              "    }\n",
              "</style>\n",
              "<table border=\"1\" class=\"dataframe\">\n",
              "  <thead>\n",
              "    <tr style=\"text-align: right;\">\n",
              "      <th></th>\n",
              "      <th></th>\n",
              "      <th></th>\n",
              "      <th>tau</th>\n",
              "    </tr>\n",
              "    <tr>\n",
              "      <th>depvar</th>\n",
              "      <th>aboveEarn</th>\n",
              "      <th>aboveSleep</th>\n",
              "      <th></th>\n",
              "    </tr>\n",
              "  </thead>\n",
              "  <tbody>\n",
              "    <tr>\n",
              "      <th rowspan=\"4\" valign=\"top\">nap_time_mins</th>\n",
              "      <th rowspan=\"2\" valign=\"top\">0</th>\n",
              "      <th>0</th>\n",
              "      <td>11.516</td>\n",
              "    </tr>\n",
              "    <tr>\n",
              "      <th>1</th>\n",
              "      <td>12.430</td>\n",
              "    </tr>\n",
              "    <tr>\n",
              "      <th rowspan=\"2\" valign=\"top\">1</th>\n",
              "      <th>0</th>\n",
              "      <td>10.873</td>\n",
              "    </tr>\n",
              "    <tr>\n",
              "      <th>1</th>\n",
              "      <td>12.048</td>\n",
              "    </tr>\n",
              "    <tr>\n",
              "      <th rowspan=\"4\" valign=\"top\">sleep_report</th>\n",
              "      <th rowspan=\"2\" valign=\"top\">0</th>\n",
              "      <th>0</th>\n",
              "      <td>0.005</td>\n",
              "    </tr>\n",
              "    <tr>\n",
              "      <th>1</th>\n",
              "      <td>0.167</td>\n",
              "    </tr>\n",
              "    <tr>\n",
              "      <th rowspan=\"2\" valign=\"top\">1</th>\n",
              "      <th>0</th>\n",
              "      <td>0.020</td>\n",
              "    </tr>\n",
              "    <tr>\n",
              "      <th>1</th>\n",
              "      <td>-0.016</td>\n",
              "    </tr>\n",
              "    <tr>\n",
              "      <th rowspan=\"4\" valign=\"top\">happy</th>\n",
              "      <th rowspan=\"2\" valign=\"top\">0</th>\n",
              "      <th>0</th>\n",
              "      <td>-0.042</td>\n",
              "    </tr>\n",
              "    <tr>\n",
              "      <th>1</th>\n",
              "      <td>0.043</td>\n",
              "    </tr>\n",
              "    <tr>\n",
              "      <th rowspan=\"2\" valign=\"top\">1</th>\n",
              "      <th>0</th>\n",
              "      <td>0.004</td>\n",
              "    </tr>\n",
              "    <tr>\n",
              "      <th>1</th>\n",
              "      <td>0.203</td>\n",
              "    </tr>\n",
              "    <tr>\n",
              "      <th rowspan=\"4\" valign=\"top\">cog</th>\n",
              "      <th rowspan=\"2\" valign=\"top\">0</th>\n",
              "      <th>0</th>\n",
              "      <td>0.116</td>\n",
              "    </tr>\n",
              "    <tr>\n",
              "      <th>1</th>\n",
              "      <td>0.169</td>\n",
              "    </tr>\n",
              "    <tr>\n",
              "      <th rowspan=\"2\" valign=\"top\">1</th>\n",
              "      <th>0</th>\n",
              "      <td>-0.027</td>\n",
              "    </tr>\n",
              "    <tr>\n",
              "      <th>1</th>\n",
              "      <td>-0.148</td>\n",
              "    </tr>\n",
              "    <tr>\n",
              "      <th rowspan=\"4\" valign=\"top\">typing_time_hr</th>\n",
              "      <th rowspan=\"2\" valign=\"top\">0</th>\n",
              "      <th>0</th>\n",
              "      <td>0.295</td>\n",
              "    </tr>\n",
              "    <tr>\n",
              "      <th>1</th>\n",
              "      <td>-0.256</td>\n",
              "    </tr>\n",
              "    <tr>\n",
              "      <th rowspan=\"2\" valign=\"top\">1</th>\n",
              "      <th>0</th>\n",
              "      <td>-0.274</td>\n",
              "    </tr>\n",
              "    <tr>\n",
              "      <th>1</th>\n",
              "      <td>0.219</td>\n",
              "    </tr>\n",
              "  </tbody>\n",
              "</table>\n",
              "</div>"
            ],
            "text/plain": [
              "                                        tau\n",
              "depvar         aboveEarn aboveSleep        \n",
              "nap_time_mins  0         0           11.516\n",
              "                         1           12.430\n",
              "               1         0           10.873\n",
              "                         1           12.048\n",
              "sleep_report   0         0            0.005\n",
              "                         1            0.167\n",
              "               1         0            0.020\n",
              "                         1           -0.016\n",
              "happy          0         0           -0.042\n",
              "                         1            0.043\n",
              "               1         0            0.004\n",
              "                         1            0.203\n",
              "cog            0         0            0.116\n",
              "                         1            0.169\n",
              "               1         0           -0.027\n",
              "                         1           -0.148\n",
              "typing_time_hr 0         0            0.295\n",
              "                         1           -0.256\n",
              "               1         0           -0.274\n",
              "                         1            0.219"
            ]
          },
          "execution_count": 25,
          "metadata": {},
          "output_type": "execute_result"
        }
      ],
      "source": [
        "# Inicializar lista\n",
        "d = []\n",
        "\n",
        "# Efecto por esstrato a cada variable\n",
        "for y in Y:\n",
        "    for e, s in [(0,0),(0,1),(1,0),(1,1)]:\n",
        "        # Máscara\n",
        "        m = d2['e'].eq(e) & d2['s'].eq(s)\n",
        "        d.append([e, s, m.sum(), m.sum() / len(d2)] + neyman(d2[m], 'T_nap', y))\n",
        "\n",
        "t = pd.DataFrame(data=d, columns=['aboveEarn','aboveSleep','ng','wg','depvar','tau','t','p'])\n",
        "t = t.set_index(['depvar','aboveEarn','aboveSleep'])\n",
        "\n",
        "# Visualizar resultados\n",
        "t[['tau']].round(3)"
      ]
    },
    {
      "cell_type": "code",
      "execution_count": null,
      "id": "b143cb44",
      "metadata": {
        "id": "b143cb44",
        "outputId": "8de3c020-3dfd-4fd9-a6c3-089381153f1e"
      },
      "outputs": [
        {
          "data": {
            "text/plain": [
              "T_nap\n",
              "0         NaN\n",
              "1    0.116175\n",
              "Name: cog, dtype: float64"
            ]
          },
          "execution_count": 43,
          "metadata": {},
          "output_type": "execute_result"
        }
      ],
      "source": [
        "y = 'cog'\n",
        "# Efecto en cog por neyman a mano\n",
        "d2.loc[d2['e'].eq(0) & d2['s'].eq(0), 'cog'].groupby(d2['T_nap']).mean().diff()"
      ]
    },
    {
      "cell_type": "code",
      "execution_count": null,
      "id": "1eda9f2f",
      "metadata": {
        "id": "1eda9f2f"
      },
      "outputs": [],
      "source": [
        "# Efecto en cog por neyman usando controles de OLS \n",
        "d2.loc[d2['e'].eq(0) & d2['s'].eq(0), 'cog'].groupby(d2['T_nap']).mean().diff()"
      ]
    },
    {
      "cell_type": "markdown",
      "id": "M6uh5l0Q-7QT",
      "metadata": {
        "id": "M6uh5l0Q-7QT"
      },
      "source": [
        "Efectos agregados"
      ]
    },
    {
      "cell_type": "code",
      "execution_count": null,
      "id": "546696b9",
      "metadata": {
        "id": "546696b9",
        "outputId": "7f252e6d-4f2e-4bab-b235-b46d0b0f82e9"
      },
      "outputs": [
        {
          "data": {
            "text/plain": [
              "depvar\n",
              "cog                0.030237\n",
              "happy              0.050259\n",
              "nap_time_mins     11.712448\n",
              "sleep_report       0.047170\n",
              "typing_time_hr    -0.020488\n",
              "dtype: float64"
            ]
          },
          "execution_count": 26,
          "metadata": {},
          "output_type": "execute_result"
        }
      ],
      "source": [
        "t['tau'].multiply(t['wg']).groupby(t.index.get_level_values(0)).sum()"
      ]
    },
    {
      "cell_type": "markdown",
      "id": "lFW-SrlP-_LA",
      "metadata": {
        "id": "lFW-SrlP-_LA"
      },
      "source": [
        "#### c) Efectos estratificados con OLS\n",
        "$$Y_i = \\beta_0 + \\beta_1 T_i + \\beta_2 e_i + \\beta_3 e_i T_i + \\beta_4 s_i + \\beta_5 s_i T_i + U_i$$"
      ]
    },
    {
      "cell_type": "code",
      "execution_count": null,
      "id": "fc2db3cb",
      "metadata": {
        "id": "fc2db3cb",
        "outputId": "e1cb9ef1-2b29-4b0b-8a1a-2080e2b43d57"
      },
      "outputs": [
        {
          "name": "stdout",
          "output_type": "stream",
          "text": [
            "T_nap\n",
            "0         NaN\n",
            "1    0.116175\n",
            "Name: cog, dtype: float64 \n",
            "\n",
            "          Y  CONST  T  X1  X1T  X2  X2T\n",
            "0  2.312519      1  1   0    0   1    1\n",
            "1 -0.836074      1  1   1    1   1    1\n",
            "2 -0.797183      1  0   0    0   1    0\n",
            "3 -0.157588      1  0   0    0   1    0\n",
            "4 -0.109480      1  0   0    0   1    0 \n",
            "\n",
            "Y        0\n",
            "CONST    0\n",
            "T        0\n",
            "X1       0\n",
            "X1T      0\n",
            "X2       0\n",
            "X2T      0\n",
            "dtype: int64 \n",
            "\n"
          ]
        }
      ],
      "source": [
        "b0 = d2.loc[d2['e'].eq(0) & d2['s'].eq(0), 'cog'].groupby(d2['T_nap']).mean().diff()\n",
        "print(b0, '\\n')\n",
        "\n",
        "X = d2[['cog','T_nap','e','s']].copy()\n",
        "X = X.assign(CONST = 1,\n",
        "             X1T = X['e'].multiply(X['T_nap']),\n",
        "             X2T = X['s'].multiply(X['T_nap']))\n",
        "X.columns = ['Y','T','X1','X2','CONST','X1T','X2T']\n",
        "X = X[['Y','CONST','T','X1','X1T','X2','X2T']]\n",
        "print(X.head(), '\\n')\n",
        "\n",
        "print(X.isna().sum(), '\\n')\n",
        "\n",
        "X.to_csv('../../../../../../../../Desktop/data.csv', index=False)\n",
        "\n",
        "# m = OLS(endog=d2['Y'], exog=d2[['']])\n",
        "# print(m.params)"
      ]
    },
    {
      "cell_type": "code",
      "execution_count": null,
      "id": "c901adbc",
      "metadata": {
        "id": "c901adbc",
        "outputId": "15267a14-3866-443e-c05e-5a96289ea255"
      },
      "outputs": [
        {
          "data": {
            "text/plain": [
              "-0.21749041831356875"
            ]
          },
          "execution_count": 57,
          "metadata": {},
          "output_type": "execute_result"
        }
      ],
      "source": [
        "X.loc[X['T'].eq(0) & X['e'].eq(0) & X['s'].eq(0), 'cog'].mean()"
      ]
    },
    {
      "cell_type": "code",
      "execution_count": null,
      "id": "e939656a",
      "metadata": {
        "id": "e939656a",
        "outputId": "e6a98ab4-8a3b-42da-98d7-b084167e7357"
      },
      "outputs": [
        {
          "data": {
            "text/plain": [
              "True"
            ]
          },
          "execution_count": 62,
          "metadata": {},
          "output_type": "execute_result"
        }
      ],
      "source": [
        "(X['e'].eq(1) & X['T'].eq(1)).sum() == X['eT'].sum()"
      ]
    },
    {
      "cell_type": "code",
      "execution_count": null,
      "id": "b8448a0b",
      "metadata": {
        "id": "b8448a0b"
      },
      "outputs": [],
      "source": [
        "d = []\n",
        "for y in Y:\n",
        "    m = OLS.from_formula(f'{y} ~ T_nap + e + I(T_nap * e) + s + I(T_nap * s)', d2, missing='drop')\n",
        "    m = m.fit(cov_type='HC0')\n",
        "    d.append(pd.concat([m.params, m.bse, m.tvalues, m.pvalues], axis=1).assign(depvar = y))\n",
        "\n"
      ]
    },
    {
      "cell_type": "code",
      "execution_count": null,
      "id": "f79d2114",
      "metadata": {
        "id": "f79d2114",
        "outputId": "82130492-b4b8-4411-ecc9-e71340df9f3b"
      },
      "outputs": [
        {
          "data": {
            "text/html": [
              "<div>\n",
              "<style scoped>\n",
              "    .dataframe tbody tr th:only-of-type {\n",
              "        vertical-align: middle;\n",
              "    }\n",
              "\n",
              "    .dataframe tbody tr th {\n",
              "        vertical-align: top;\n",
              "    }\n",
              "\n",
              "    .dataframe thead th {\n",
              "        text-align: right;\n",
              "    }\n",
              "</style>\n",
              "<table border=\"1\" class=\"dataframe\">\n",
              "  <thead>\n",
              "    <tr style=\"text-align: right;\">\n",
              "      <th></th>\n",
              "      <th>0</th>\n",
              "      <th>1</th>\n",
              "      <th>2</th>\n",
              "      <th>3</th>\n",
              "      <th>depvar</th>\n",
              "    </tr>\n",
              "  </thead>\n",
              "  <tbody>\n",
              "    <tr>\n",
              "      <th>Intercept</th>\n",
              "      <td>0.000</td>\n",
              "      <td>0.000</td>\n",
              "      <td>6.810</td>\n",
              "      <td>0.000</td>\n",
              "      <td>nap_time_mins</td>\n",
              "    </tr>\n",
              "    <tr>\n",
              "      <th>T_nap</th>\n",
              "      <td>11.446</td>\n",
              "      <td>0.508</td>\n",
              "      <td>22.552</td>\n",
              "      <td>0.000</td>\n",
              "      <td>nap_time_mins</td>\n",
              "    </tr>\n",
              "    <tr>\n",
              "      <th>e</th>\n",
              "      <td>-0.000</td>\n",
              "      <td>0.000</td>\n",
              "      <td>-2.232</td>\n",
              "      <td>0.026</td>\n",
              "      <td>nap_time_mins</td>\n",
              "    </tr>\n",
              "    <tr>\n",
              "      <th>I(T_nap * e)</th>\n",
              "      <td>-0.512</td>\n",
              "      <td>0.599</td>\n",
              "      <td>-0.855</td>\n",
              "      <td>0.393</td>\n",
              "      <td>nap_time_mins</td>\n",
              "    </tr>\n",
              "    <tr>\n",
              "      <th>s</th>\n",
              "      <td>-0.000</td>\n",
              "      <td>0.000</td>\n",
              "      <td>-1.344</td>\n",
              "      <td>0.179</td>\n",
              "      <td>nap_time_mins</td>\n",
              "    </tr>\n",
              "    <tr>\n",
              "      <th>I(T_nap * s)</th>\n",
              "      <td>1.046</td>\n",
              "      <td>0.599</td>\n",
              "      <td>1.747</td>\n",
              "      <td>0.081</td>\n",
              "      <td>nap_time_mins</td>\n",
              "    </tr>\n",
              "    <tr>\n",
              "      <th>Intercept</th>\n",
              "      <td>0.643</td>\n",
              "      <td>0.009</td>\n",
              "      <td>71.162</td>\n",
              "      <td>0.000</td>\n",
              "      <td>sleep_report</td>\n",
              "    </tr>\n",
              "    <tr>\n",
              "      <th>T_nap</th>\n",
              "      <td>0.058</td>\n",
              "      <td>0.044</td>\n",
              "      <td>1.307</td>\n",
              "      <td>0.191</td>\n",
              "      <td>sleep_report</td>\n",
              "    </tr>\n",
              "    <tr>\n",
              "      <th>e</th>\n",
              "      <td>-0.003</td>\n",
              "      <td>0.009</td>\n",
              "      <td>-0.285</td>\n",
              "      <td>0.775</td>\n",
              "      <td>sleep_report</td>\n",
              "    </tr>\n",
              "    <tr>\n",
              "      <th>I(T_nap * e)</th>\n",
              "      <td>-0.084</td>\n",
              "      <td>0.080</td>\n",
              "      <td>-1.048</td>\n",
              "      <td>0.295</td>\n",
              "      <td>sleep_report</td>\n",
              "    </tr>\n",
              "    <tr>\n",
              "      <th>s</th>\n",
              "      <td>0.103</td>\n",
              "      <td>0.009</td>\n",
              "      <td>11.169</td>\n",
              "      <td>0.000</td>\n",
              "      <td>sleep_report</td>\n",
              "    </tr>\n",
              "    <tr>\n",
              "      <th>I(T_nap * s)</th>\n",
              "      <td>0.062</td>\n",
              "      <td>0.079</td>\n",
              "      <td>0.783</td>\n",
              "      <td>0.434</td>\n",
              "      <td>sleep_report</td>\n",
              "    </tr>\n",
              "    <tr>\n",
              "      <th>Intercept</th>\n",
              "      <td>0.413</td>\n",
              "      <td>0.043</td>\n",
              "      <td>9.587</td>\n",
              "      <td>0.000</td>\n",
              "      <td>happy</td>\n",
              "    </tr>\n",
              "    <tr>\n",
              "      <th>T_nap</th>\n",
              "      <td>-0.072</td>\n",
              "      <td>0.061</td>\n",
              "      <td>-1.178</td>\n",
              "      <td>0.239</td>\n",
              "      <td>happy</td>\n",
              "    </tr>\n",
              "    <tr>\n",
              "      <th>e</th>\n",
              "      <td>0.062</td>\n",
              "      <td>0.048</td>\n",
              "      <td>1.287</td>\n",
              "      <td>0.198</td>\n",
              "      <td>happy</td>\n",
              "    </tr>\n",
              "    <tr>\n",
              "      <th>I(T_nap * e)</th>\n",
              "      <td>0.104</td>\n",
              "      <td>0.069</td>\n",
              "      <td>1.513</td>\n",
              "      <td>0.130</td>\n",
              "      <td>happy</td>\n",
              "    </tr>\n",
              "    <tr>\n",
              "      <th>s</th>\n",
              "      <td>-0.027</td>\n",
              "      <td>0.048</td>\n",
              "      <td>-0.557</td>\n",
              "      <td>0.578</td>\n",
              "      <td>happy</td>\n",
              "    </tr>\n",
              "    <tr>\n",
              "      <th>I(T_nap * s)</th>\n",
              "      <td>0.143</td>\n",
              "      <td>0.068</td>\n",
              "      <td>2.083</td>\n",
              "      <td>0.037</td>\n",
              "      <td>happy</td>\n",
              "    </tr>\n",
              "    <tr>\n",
              "      <th>Intercept</th>\n",
              "      <td>-0.218</td>\n",
              "      <td>0.067</td>\n",
              "      <td>-3.239</td>\n",
              "      <td>0.001</td>\n",
              "      <td>cog</td>\n",
              "    </tr>\n",
              "    <tr>\n",
              "      <th>T_nap</th>\n",
              "      <td>0.162</td>\n",
              "      <td>0.098</td>\n",
              "      <td>1.662</td>\n",
              "      <td>0.096</td>\n",
              "      <td>cog</td>\n",
              "    </tr>\n",
              "    <tr>\n",
              "      <th>e</th>\n",
              "      <td>0.275</td>\n",
              "      <td>0.073</td>\n",
              "      <td>3.798</td>\n",
              "      <td>0.000</td>\n",
              "      <td>cog</td>\n",
              "    </tr>\n",
              "    <tr>\n",
              "      <th>I(T_nap * e)</th>\n",
              "      <td>-0.230</td>\n",
              "      <td>0.110</td>\n",
              "      <td>-2.089</td>\n",
              "      <td>0.037</td>\n",
              "      <td>cog</td>\n",
              "    </tr>\n",
              "    <tr>\n",
              "      <th>s</th>\n",
              "      <td>0.133</td>\n",
              "      <td>0.073</td>\n",
              "      <td>1.828</td>\n",
              "      <td>0.067</td>\n",
              "      <td>cog</td>\n",
              "    </tr>\n",
              "    <tr>\n",
              "      <th>I(T_nap * s)</th>\n",
              "      <td>-0.034</td>\n",
              "      <td>0.110</td>\n",
              "      <td>-0.311</td>\n",
              "      <td>0.756</td>\n",
              "      <td>cog</td>\n",
              "    </tr>\n",
              "    <tr>\n",
              "      <th>Intercept</th>\n",
              "      <td>3.687</td>\n",
              "      <td>0.148</td>\n",
              "      <td>24.989</td>\n",
              "      <td>0.000</td>\n",
              "      <td>typing_time_hr</td>\n",
              "    </tr>\n",
              "    <tr>\n",
              "      <th>T_nap</th>\n",
              "      <td>0.017</td>\n",
              "      <td>0.202</td>\n",
              "      <td>0.086</td>\n",
              "      <td>0.931</td>\n",
              "      <td>typing_time_hr</td>\n",
              "    </tr>\n",
              "    <tr>\n",
              "      <th>e</th>\n",
              "      <td>0.427</td>\n",
              "      <td>0.161</td>\n",
              "      <td>2.653</td>\n",
              "      <td>0.008</td>\n",
              "      <td>typing_time_hr</td>\n",
              "    </tr>\n",
              "    <tr>\n",
              "      <th>I(T_nap * e)</th>\n",
              "      <td>-0.046</td>\n",
              "      <td>0.217</td>\n",
              "      <td>-0.211</td>\n",
              "      <td>0.833</td>\n",
              "      <td>typing_time_hr</td>\n",
              "    </tr>\n",
              "    <tr>\n",
              "      <th>s</th>\n",
              "      <td>0.147</td>\n",
              "      <td>0.161</td>\n",
              "      <td>0.912</td>\n",
              "      <td>0.362</td>\n",
              "      <td>typing_time_hr</td>\n",
              "    </tr>\n",
              "    <tr>\n",
              "      <th>I(T_nap * s)</th>\n",
              "      <td>-0.027</td>\n",
              "      <td>0.217</td>\n",
              "      <td>-0.125</td>\n",
              "      <td>0.901</td>\n",
              "      <td>typing_time_hr</td>\n",
              "    </tr>\n",
              "  </tbody>\n",
              "</table>\n",
              "</div>"
            ],
            "text/plain": [
              "                   0      1       2      3          depvar\n",
              "Intercept      0.000  0.000   6.810  0.000   nap_time_mins\n",
              "T_nap         11.446  0.508  22.552  0.000   nap_time_mins\n",
              "e             -0.000  0.000  -2.232  0.026   nap_time_mins\n",
              "I(T_nap * e)  -0.512  0.599  -0.855  0.393   nap_time_mins\n",
              "s             -0.000  0.000  -1.344  0.179   nap_time_mins\n",
              "I(T_nap * s)   1.046  0.599   1.747  0.081   nap_time_mins\n",
              "Intercept      0.643  0.009  71.162  0.000    sleep_report\n",
              "T_nap          0.058  0.044   1.307  0.191    sleep_report\n",
              "e             -0.003  0.009  -0.285  0.775    sleep_report\n",
              "I(T_nap * e)  -0.084  0.080  -1.048  0.295    sleep_report\n",
              "s              0.103  0.009  11.169  0.000    sleep_report\n",
              "I(T_nap * s)   0.062  0.079   0.783  0.434    sleep_report\n",
              "Intercept      0.413  0.043   9.587  0.000           happy\n",
              "T_nap         -0.072  0.061  -1.178  0.239           happy\n",
              "e              0.062  0.048   1.287  0.198           happy\n",
              "I(T_nap * e)   0.104  0.069   1.513  0.130           happy\n",
              "s             -0.027  0.048  -0.557  0.578           happy\n",
              "I(T_nap * s)   0.143  0.068   2.083  0.037           happy\n",
              "Intercept     -0.218  0.067  -3.239  0.001             cog\n",
              "T_nap          0.162  0.098   1.662  0.096             cog\n",
              "e              0.275  0.073   3.798  0.000             cog\n",
              "I(T_nap * e)  -0.230  0.110  -2.089  0.037             cog\n",
              "s              0.133  0.073   1.828  0.067             cog\n",
              "I(T_nap * s)  -0.034  0.110  -0.311  0.756             cog\n",
              "Intercept      3.687  0.148  24.989  0.000  typing_time_hr\n",
              "T_nap          0.017  0.202   0.086  0.931  typing_time_hr\n",
              "e              0.427  0.161   2.653  0.008  typing_time_hr\n",
              "I(T_nap * e)  -0.046  0.217  -0.211  0.833  typing_time_hr\n",
              "s              0.147  0.161   0.912  0.362  typing_time_hr\n",
              "I(T_nap * s)  -0.027  0.217  -0.125  0.901  typing_time_hr"
            ]
          },
          "execution_count": 66,
          "metadata": {},
          "output_type": "execute_result"
        }
      ],
      "source": [
        "pd.concat(d).round(3)"
      ]
    },
    {
      "cell_type": "code",
      "execution_count": null,
      "id": "5fa6bf2a",
      "metadata": {
        "id": "5fa6bf2a"
      },
      "outputs": [],
      "source": [
        ""
      ]
    },
    {
      "cell_type": "markdown",
      "id": "CH-S_ck8EgvX",
      "metadata": {
        "id": "CH-S_ck8EgvX"
      },
      "source": [
        "### 5. Atrición\n",
        "#### a) Reportar atrición"
      ]
    },
    {
      "cell_type": "code",
      "execution_count": null,
      "id": "eC-UEM2iMUbT",
      "metadata": {
        "id": "eC-UEM2iMUbT",
        "scrolled": true
      },
      "outputs": [],
      "source": [
        "t = d2.groupby('T_nap')['drop_indicator'].agg(['size','sum'])\n",
        "t['pct'] = t['sum'].div(t['size']) * 100\n",
        "t.round(2)"
      ]
    },
    {
      "cell_type": "markdown",
      "id": "LLZVrrPwMhDb",
      "metadata": {
        "id": "LLZVrrPwMhDb"
      },
      "source": [
        "#### b) Nuevo balance\n",
        "Validez interna"
      ]
    },
    {
      "cell_type": "code",
      "execution_count": null,
      "id": "qUvzp87XNUcK",
      "metadata": {
        "id": "qUvzp87XNUcK"
      },
      "outputs": [],
      "source": [
        "# Variables dependientes\n",
        "X = ['time_in_office','age_','female_','education_','sleep_night','no_of_children_','act_inbed',\n",
        "     'an_12_number_of_awakenings','an_13_average_awakening_length','unemployed']\n",
        "\n",
        "# Tabla de balance\n",
        "d = []\n",
        "for x in X:\n",
        "    b, a = d2[d2['drop_indicator'].eq(0)].groupby('T_nap')[x].apply(np.array)\n",
        "    test = stats.ttest_ind(a=a, b=b, equal_var=False, nan_policy='omit')\n",
        "    d.append([x] + list(test))\n",
        "\n",
        "t = pd.DataFrame(data=d, columns=['variable','t-stat','p-value'])\n",
        "t.sort_values('variable').round(3)"
      ]
    },
    {
      "cell_type": "code",
      "execution_count": null,
      "id": "0759b7d1",
      "metadata": {
        "id": "0759b7d1"
      },
      "outputs": [],
      "source": [
        "m = OLS(endog=d2.loc[d2['drop_indicator'].eq(0), 'T_nap'],\n",
        "        exog=d2.loc[d2['drop_indicator'].eq(0), X].assign(const = 1),\n",
        "        missing='drop').fit(cov_type='HC0')\n",
        "print(f'p-value de significancia conjunta: {round(m.f_pvalue, 3)}')"
      ]
    },
    {
      "cell_type": "markdown",
      "id": "w0-O4lnDQPVC",
      "metadata": {
        "id": "w0-O4lnDQPVC"
      },
      "source": [
        "Antes de la atrición, ninguna de las 10 variables tenía diferencias entre tratamiento y control que fueran estadísticamente significativas. Después de la atrición, los p-values son más chicos y algunas diferencias tienen significancia a nivel individual. Por ejemplo, las diferencias en `education_` y `no_of_children_` ahora son significativas al 1 y 5 porciento de confianza.\n",
        "\n",
        "Al hacer la prueba de significancia conjunta usando el modelo $T_i = X_i^T \\beta + U_i$, el p-value es aproximadamente 0.1. Es relativamente improbable que todos los coeficientes sean simultáneamente igual a cero, pero la significancia de la prueba cayó tras la atrición.\n",
        "\n",
        "Representatividad externa"
      ]
    },
    {
      "cell_type": "code",
      "execution_count": null,
      "id": "SsPmAQNoSCPm",
      "metadata": {
        "id": "SsPmAQNoSCPm"
      },
      "outputs": [],
      "source": [
        "# Probar si diferencia es significativa Baseline VS Endline\n",
        "d = []\n",
        "for x in X:\n",
        "    a, b = d2[x], d2.loc[d2['drop_indicator'].eq(0), x]\n",
        "    test = stats.ttest_ind(a=a, b=b, equal_var=False, nan_policy='omit')\n",
        "    d.append([x] + list(test))\n",
        "\n",
        "# Resultados a tabla\n",
        "t = pd.DataFrame(data=d, columns=['variable','t','p'])\n",
        "t.sort_values('variable').round(3)"
      ]
    },
    {
      "cell_type": "markdown",
      "id": "IEM0OS9kUMBk",
      "metadata": {
        "id": "IEM0OS9kUMBk"
      },
      "source": [
        "La atrición parece no haber afectado la representatividad externa de la muestra. Ninguna de las diferencias son significativas individualmente.\n",
        "\n",
        "#### c) Conclusión\n",
        "La atrición fue sistemática entre el grupo de tratamiento y de control. Es decir, parece que el nivel de educación y el número de hijos determinan si alguien abandona o no el experimento. Esto nos lleva a un problema de validez interna porque los grupos de tratamiento y control después de la atrición no están balanceados.\n",
        "\n",
        "Sin embargo, parece que la atrición no afectó la validez externa de la muestra, pues parece que las personas que abandonaron el estudio no afectaron las distribuciones de las variables de control. Ninguna de las 10 variables muestra una diferencia significativa antes y después de la atrición.\n",
        "\n",
        "### 5. Lee Bounds\n",
        "#### a) Perfiles\n",
        "- Always Respondents: $S_i$ = 1 sin importar $T_i$\n",
        "- Never Respondents: $S_i$ = 0 sin importar $T_i$\n",
        "- Selective Respondents: $T_i = 0 \\implies S_i = 0$, $T_i = 1 \\implies S_i = 1$\n",
        "- Counter-Selective Respondents: $T_i = 0 \\implies S_i = 1$, $T_i = 1 \\implies S_i = 0$\n",
        "\n",
        "El supuesto de monotonicidad es que no existe alguno de los dos grupos de respuesta selectiva. En el contexto de este experimento, tiene sentido asumir que los Counter-Selective Respondents no existen porque el tratamiento es algo *bueno*. Es decir, si a alguien le toca tomar una siesta durante sus horas de trabajo, es razonable pensar que el tratamiento es algo deseable y por ende no incentivaría a los individuos a abandonar el experimento."
      ]
    },
    {
      "cell_type": "code",
      "execution_count": null,
      "id": "WY67mJbVUUje",
      "metadata": {
        "id": "WY67mJbVUUje"
      },
      "outputs": [],
      "source": [
        "# Columna S_i\n",
        "d2['S'] = 1 - d2['drop_indicator']\n",
        "\n",
        "# Casos\n",
        "t = d2.groupby(['T_nap','S']).size()\n",
        "t.unstack().transpose()"
      ]
    },
    {
      "cell_type": "code",
      "execution_count": null,
      "id": "003ebdea",
      "metadata": {
        "id": "003ebdea"
      },
      "outputs": [],
      "source": [
        "# P(AR|T=0)\n",
        "par = 128 / (81 + 128)\n",
        "\n",
        "# P(SR|T=1)\n",
        "psr = 182 / (182 + 23) - par\n",
        "\n",
        "# Probabilidades\n",
        "print(f'P(AR) = {par}', f'P(SR) = {psr}', f'P(NR) = {1 - (par + psr)}', sep='\\n')"
      ]
    },
    {
      "cell_type": "markdown",
      "id": "effdd023",
      "metadata": {
        "id": "effdd023"
      },
      "source": [
        "#### b) Lee Bounds"
      ]
    },
    {
      "cell_type": "code",
      "execution_count": null,
      "id": "684ccda0",
      "metadata": {
        "id": "684ccda0"
      },
      "outputs": [],
      "source": [
        "# Arreglos de S_i = 1\n",
        "a, b = d2[d2['S'].eq(1)].groupby('T_nap')['productivity'].apply(np.array)\n",
        "\n",
        "# Lower bound\n",
        "lb = b[b <= np.quantile(b, 1 - psr).mean()].mean() - a.mean()\n",
        "\n",
        "# Upper bound\n",
        "ub = b[b >= np.quantile(b, psr)].mean() - a.mean()\n",
        "\n",
        "# Bounds\n",
        "print(f'El ATE de los AR está en [{lb, ub}]')"
      ]
    },
    {
      "cell_type": "markdown",
      "id": "532fff46",
      "metadata": {
        "id": "532fff46"
      },
      "source": [
        "#### c) Comparación\n",
        "Los resultados de la pregunta 2 no tienen por qué estar centrados en los Lee Bounds porque estiman el efecto para toda la población, mientras que el intervalo de esta pregunta acota el efecto de tratamiento para los Always Respondents.\n",
        "\n",
        "Lo único que sí podemos ver es que el ATE observado en la muestra completa es mayor al ATE de los Always Respondents."
      ]
    },
    {
      "cell_type": "markdown",
      "id": "f8b1cbaf",
      "metadata": {
        "id": "f8b1cbaf"
      },
      "source": [
        "## 2. Matching"
      ]
    },
    {
      "cell_type": "code",
      "execution_count": null,
      "id": "49e3f38c",
      "metadata": {
        "id": "49e3f38c"
      },
      "outputs": [],
      "source": [
        ""
      ]
    }
  ],
  "metadata": {
    "colab": {
      "name": "main.ipynb",
      "provenance": []
    },
    "kernelspec": {
      "display_name": "Python 3",
      "language": "python",
      "name": "python3"
    },
    "language_info": {
      "codemirror_mode": {
        "name": "ipython",
        "version": 3
      },
      "file_extension": ".py",
      "mimetype": "text/x-python",
      "name": "python",
      "nbconvert_exporter": "python",
      "pygments_lexer": "ipython3",
      "version": "3.8.8"
    }
  },
  "nbformat": 4,
  "nbformat_minor": 5
}