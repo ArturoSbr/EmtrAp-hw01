{
 "cells": [
  {
   "cell_type": "markdown",
   "id": "42459c72",
   "metadata": {},
   "source": [
    "Importar librerías"
   ]
  },
  {
   "cell_type": "code",
   "execution_count": 1,
   "id": "4e439ad9",
   "metadata": {},
   "outputs": [],
   "source": [
    "import numpy as np\n",
    "import pandas as pd\n",
    "from scipy import stats\n",
    "from statsmodels.api import OLS"
   ]
  },
  {
   "cell_type": "markdown",
   "id": "a7e513db",
   "metadata": {},
   "source": [
    "Importar datos"
   ]
  },
  {
   "cell_type": "code",
   "execution_count": 3,
   "id": "df4d426c",
   "metadata": {},
   "outputs": [],
   "source": [
    "d1 = pd.read_csv('../dat/baseline.csv')\n",
    "d2 = pd.read_csv('../dat/endline.csv')\n",
    "d3 = pd.read_csv('../dat/completa.csv')"
   ]
  },
  {
   "cell_type": "code",
   "execution_count": null,
   "id": "68a398a2",
   "metadata": {},
   "outputs": [],
   "source": []
  }
 ],
 "metadata": {
  "kernelspec": {
   "display_name": "Python 3",
   "language": "python",
   "name": "python3"
  },
  "language_info": {
   "codemirror_mode": {
    "name": "ipython",
    "version": 3
   },
   "file_extension": ".py",
   "mimetype": "text/x-python",
   "name": "python",
   "nbconvert_exporter": "python",
   "pygments_lexer": "ipython3",
   "version": "3.8.8"
  }
 },
 "nbformat": 4,
 "nbformat_minor": 5
}
