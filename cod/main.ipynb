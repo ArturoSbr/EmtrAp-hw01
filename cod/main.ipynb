{
 "cells": [
  {
   "cell_type": "markdown",
   "id": "f4147fc8",
   "metadata": {},
   "source": [
    "# Econometría Aplicada II\n",
    "## Tarea 1\n",
    "Importar librerías"
   ]
  },
  {
   "cell_type": "code",
   "execution_count": 1,
   "id": "0183c18b",
   "metadata": {},
   "outputs": [],
   "source": [
    "import numpy as np\n",
    "import pandas as pd\n",
    "from scipy import stats\n",
    "from statsmodels.api import OLS"
   ]
  },
  {
   "cell_type": "markdown",
   "id": "f28d8dad",
   "metadata": {},
   "source": [
    "Importar datos"
   ]
  },
  {
   "cell_type": "code",
   "execution_count": 3,
   "id": "69e10890",
   "metadata": {},
   "outputs": [],
   "source": [
    "d1 = pd.read_csv('../dat/baseline.csv')\n",
    "d2 = pd.read_csv('../dat/endline.csv')\n",
    "d3 = pd.read_csv('../dat/completa.csv')"
   ]
  },
  {
   "cell_type": "markdown",
   "id": "b93ef3b8",
   "metadata": {},
   "source": [
    "### 1. Balance\n",
    "Tabla de balance"
   ]
  },
  {
   "cell_type": "code",
   "execution_count": 62,
   "id": "14a8a3d0",
   "metadata": {
    "scrolled": false
   },
   "outputs": [
    {
     "data": {
      "text/html": [
       "<div>\n",
       "<style scoped>\n",
       "    .dataframe tbody tr th:only-of-type {\n",
       "        vertical-align: middle;\n",
       "    }\n",
       "\n",
       "    .dataframe tbody tr th {\n",
       "        vertical-align: top;\n",
       "    }\n",
       "\n",
       "    .dataframe thead th {\n",
       "        text-align: right;\n",
       "    }\n",
       "</style>\n",
       "<table border=\"1\" class=\"dataframe\">\n",
       "  <thead>\n",
       "    <tr style=\"text-align: right;\">\n",
       "      <th></th>\n",
       "      <th>var</th>\n",
       "      <th>control_mean</th>\n",
       "      <th>treatment_mean</th>\n",
       "      <th>tau</th>\n",
       "      <th>t</th>\n",
       "      <th>p</th>\n",
       "    </tr>\n",
       "  </thead>\n",
       "  <tbody>\n",
       "    <tr>\n",
       "      <th>0</th>\n",
       "      <td>act_inbed</td>\n",
       "      <td>7.992301</td>\n",
       "      <td>8.071253</td>\n",
       "      <td>-0.078952</td>\n",
       "      <td>-0.839935</td>\n",
       "      <td>0.400945</td>\n",
       "    </tr>\n",
       "    <tr>\n",
       "      <th>1</th>\n",
       "      <td>age_</td>\n",
       "      <td>34.938053</td>\n",
       "      <td>34.964602</td>\n",
       "      <td>-0.026549</td>\n",
       "      <td>-0.039027</td>\n",
       "      <td>0.968869</td>\n",
       "    </tr>\n",
       "    <tr>\n",
       "      <th>2</th>\n",
       "      <td>an_12_number_of_awakenings</td>\n",
       "      <td>31.715624</td>\n",
       "      <td>32.188211</td>\n",
       "      <td>-0.472587</td>\n",
       "      <td>-0.621987</td>\n",
       "      <td>0.533950</td>\n",
       "    </tr>\n",
       "    <tr>\n",
       "      <th>3</th>\n",
       "      <td>an_13_average_awakening_length</td>\n",
       "      <td>4.478105</td>\n",
       "      <td>4.477173</td>\n",
       "      <td>0.000931</td>\n",
       "      <td>0.007186</td>\n",
       "      <td>0.994267</td>\n",
       "    </tr>\n",
       "    <tr>\n",
       "      <th>4</th>\n",
       "      <td>c27</td>\n",
       "      <td>0.818584</td>\n",
       "      <td>0.831858</td>\n",
       "      <td>-0.013274</td>\n",
       "      <td>-0.162058</td>\n",
       "      <td>0.871260</td>\n",
       "    </tr>\n",
       "    <tr>\n",
       "      <th>5</th>\n",
       "      <td>c28_m</td>\n",
       "      <td>7.570796</td>\n",
       "      <td>7.964602</td>\n",
       "      <td>-0.393805</td>\n",
       "      <td>-0.320730</td>\n",
       "      <td>0.748415</td>\n",
       "    </tr>\n",
       "    <tr>\n",
       "      <th>6</th>\n",
       "      <td>education_</td>\n",
       "      <td>10.336283</td>\n",
       "      <td>10.030973</td>\n",
       "      <td>0.305310</td>\n",
       "      <td>1.128002</td>\n",
       "      <td>0.259319</td>\n",
       "    </tr>\n",
       "    <tr>\n",
       "      <th>7</th>\n",
       "      <td>female_</td>\n",
       "      <td>0.650442</td>\n",
       "      <td>0.672566</td>\n",
       "      <td>-0.022124</td>\n",
       "      <td>-0.496037</td>\n",
       "      <td>0.619869</td>\n",
       "    </tr>\n",
       "    <tr>\n",
       "      <th>8</th>\n",
       "      <td>no_of_children_</td>\n",
       "      <td>1.300885</td>\n",
       "      <td>1.407080</td>\n",
       "      <td>-0.106195</td>\n",
       "      <td>-1.068706</td>\n",
       "      <td>0.285202</td>\n",
       "    </tr>\n",
       "    <tr>\n",
       "      <th>9</th>\n",
       "      <td>sleep_night</td>\n",
       "      <td>5.559958</td>\n",
       "      <td>5.595827</td>\n",
       "      <td>-0.035869</td>\n",
       "      <td>-0.434612</td>\n",
       "      <td>0.663844</td>\n",
       "    </tr>\n",
       "    <tr>\n",
       "      <th>10</th>\n",
       "      <td>time_in_office</td>\n",
       "      <td>7.968159</td>\n",
       "      <td>7.942971</td>\n",
       "      <td>0.025188</td>\n",
       "      <td>0.366232</td>\n",
       "      <td>0.714192</td>\n",
       "    </tr>\n",
       "    <tr>\n",
       "      <th>11</th>\n",
       "      <td>typing_time_hr</td>\n",
       "      <td>4.620885</td>\n",
       "      <td>4.629057</td>\n",
       "      <td>-0.008173</td>\n",
       "      <td>-0.093281</td>\n",
       "      <td>0.925680</td>\n",
       "    </tr>\n",
       "  </tbody>\n",
       "</table>\n",
       "</div>"
      ],
      "text/plain": [
       "                               var  control_mean  treatment_mean       tau  \\\n",
       "0                        act_inbed      7.992301        8.071253 -0.078952   \n",
       "1                             age_     34.938053       34.964602 -0.026549   \n",
       "2       an_12_number_of_awakenings     31.715624       32.188211 -0.472587   \n",
       "3   an_13_average_awakening_length      4.478105        4.477173  0.000931   \n",
       "4                              c27      0.818584        0.831858 -0.013274   \n",
       "5                            c28_m      7.570796        7.964602 -0.393805   \n",
       "6                       education_     10.336283       10.030973  0.305310   \n",
       "7                          female_      0.650442        0.672566 -0.022124   \n",
       "8                  no_of_children_      1.300885        1.407080 -0.106195   \n",
       "9                      sleep_night      5.559958        5.595827 -0.035869   \n",
       "10                  time_in_office      7.968159        7.942971  0.025188   \n",
       "11                  typing_time_hr      4.620885        4.629057 -0.008173   \n",
       "\n",
       "           t         p  \n",
       "0  -0.839935  0.400945  \n",
       "1  -0.039027  0.968869  \n",
       "2  -0.621987  0.533950  \n",
       "3   0.007186  0.994267  \n",
       "4  -0.162058  0.871260  \n",
       "5  -0.320730  0.748415  \n",
       "6   1.128002  0.259319  \n",
       "7  -0.496037  0.619869  \n",
       "8  -1.068706  0.285202  \n",
       "9  -0.434612  0.663844  \n",
       "10  0.366232  0.714192  \n",
       "11 -0.093281  0.925680  "
      ]
     },
     "execution_count": 62,
     "metadata": {},
     "output_type": "execute_result"
    }
   ],
   "source": [
    "# Declarar número de individuos por grupo\n",
    "n0, n1 = d1.groupby('T_nap').size()\n",
    "\n",
    "# Seleccionar 12 variables basales\n",
    "X = ['time_in_office','age_','female_','education_','sleep_night','no_of_children_','act_inbed',\n",
    "     'an_12_number_of_awakenings','an_13_average_awakening_length','typing_time_hr','c27','c28_m']\n",
    "\n",
    "# Medias de variables basales por grupo\n",
    "t = d1.groupby('T_nap')[X].agg(['mean','var'])\n",
    "\n",
    "# Ajustes estéticos a t\n",
    "t = t.transpose().reset_index()\n",
    "t.columns = ['var','fun','control','treatment']\n",
    "t = t.pivot(index='var', columns='fun')\n",
    "t.columns = ['_'.join(col) for col in t.columns]\n",
    "\n",
    "# Calcular estadísticos\n",
    "t['tau'] = t['control_mean'] - t['treatment_mean']\n",
    "t['tau_var'] = t['control_var'].div(n0) + t['treatment_var'].div(n1)\n",
    "t['t'] = t['tau'].div(np.sqrt(t['tau_var']))\n",
    "t['p'] = (1 - stats.norm().cdf(t['t'].abs())) * 2\n",
    "\n",
    "# Resultado presentable\n",
    "t = t[['control_mean','treatment_mean','tau','t','p']].reset_index()\n",
    "t"
   ]
  },
  {
   "cell_type": "code",
   "execution_count": 72,
   "id": "bf866f0f",
   "metadata": {},
   "outputs": [
    {
     "data": {
      "text/plain": [
       "0.984378537337847"
      ]
     },
     "execution_count": 72,
     "metadata": {},
     "output_type": "execute_result"
    }
   ],
   "source": [
    "m = OLS(endog=d1['T_nap'], exog=d1[X].assign(const = 1)).fit()\n",
    "m.f_pvalue"
   ]
  },
  {
   "cell_type": "markdown",
   "id": "c364addf",
   "metadata": {},
   "source": [
    "### 2. Efectos de tratamiento\n",
    "Declarar todas las variables dependientes"
   ]
  },
  {
   "cell_type": "code",
   "execution_count": 85,
   "id": "d54a2709",
   "metadata": {},
   "outputs": [],
   "source": [
    "Y = ['productivity','corsi_measure','happy','energy']"
   ]
  },
  {
   "cell_type": "markdown",
   "id": "13132de5",
   "metadata": {},
   "source": [
    "#### a) Estimadores de Neyman"
   ]
  },
  {
   "cell_type": "code",
   "execution_count": 129,
   "id": "d05b58a9",
   "metadata": {},
   "outputs": [],
   "source": [
    "def neyman(frame, treatment_col, values_col):\n",
    "    # Sacar arreglos C y T\n",
    "    a, b = frame.groupby(treatment_col)[values_col].apply(np.array)\n",
    "    # Quitar NANs\n",
    "    a, b = a[~np.isnan(a)], b[~np.isnan(b)]\n",
    "    # Estadístico t\n",
    "    tau = np.mean(b) - np.mean(a)\n",
    "    t = tau / np.sqrt(np.var(a, ddof=1) / len(a) + np.var(b, ddof=1) / len(b))\n",
    "    # p-value\n",
    "    p = 2 * (1 - stats.norm().cdf(np.abs(t)))\n",
    "    return (values_col, tau, t, p)"
   ]
  },
  {
   "cell_type": "code",
   "execution_count": 134,
   "id": "202235fc",
   "metadata": {},
   "outputs": [
    {
     "data": {
      "text/html": [
       "<div>\n",
       "<style scoped>\n",
       "    .dataframe tbody tr th:only-of-type {\n",
       "        vertical-align: middle;\n",
       "    }\n",
       "\n",
       "    .dataframe tbody tr th {\n",
       "        vertical-align: top;\n",
       "    }\n",
       "\n",
       "    .dataframe thead th {\n",
       "        text-align: right;\n",
       "    }\n",
       "</style>\n",
       "<table border=\"1\" class=\"dataframe\">\n",
       "  <thead>\n",
       "    <tr style=\"text-align: right;\">\n",
       "      <th></th>\n",
       "      <th>depvar</th>\n",
       "      <th>diff</th>\n",
       "      <th>t-stat</th>\n",
       "      <th>p-val</th>\n",
       "    </tr>\n",
       "  </thead>\n",
       "  <tbody>\n",
       "    <tr>\n",
       "      <th>0</th>\n",
       "      <td>productivity</td>\n",
       "      <td>-171.240947</td>\n",
       "      <td>-0.976215</td>\n",
       "      <td>0.328958</td>\n",
       "    </tr>\n",
       "    <tr>\n",
       "      <th>1</th>\n",
       "      <td>corsi_measure</td>\n",
       "      <td>-0.064241</td>\n",
       "      <td>-0.595590</td>\n",
       "      <td>0.551449</td>\n",
       "    </tr>\n",
       "    <tr>\n",
       "      <th>2</th>\n",
       "      <td>happy</td>\n",
       "      <td>0.033502</td>\n",
       "      <td>0.990464</td>\n",
       "      <td>0.321947</td>\n",
       "    </tr>\n",
       "    <tr>\n",
       "      <th>3</th>\n",
       "      <td>energy</td>\n",
       "      <td>0.011378</td>\n",
       "      <td>0.845477</td>\n",
       "      <td>0.397844</td>\n",
       "    </tr>\n",
       "  </tbody>\n",
       "</table>\n",
       "</div>"
      ],
      "text/plain": [
       "          depvar        diff    t-stat     p-val\n",
       "0   productivity -171.240947 -0.976215  0.328958\n",
       "1  corsi_measure   -0.064241 -0.595590  0.551449\n",
       "2          happy    0.033502  0.990464  0.321947\n",
       "3         energy    0.011378  0.845477  0.397844"
      ]
     },
     "execution_count": 134,
     "metadata": {},
     "output_type": "execute_result"
    }
   ],
   "source": [
    "t_ney = pd.DataFrame(data=[neyman(d2, 'T_nap', y) for y in Y], columns=['depvar','diff','t-stat','p-val'])\n",
    "t_ney"
   ]
  },
  {
   "cell_type": "markdown",
   "id": "2ed76558",
   "metadata": {},
   "source": [
    "#### b) Estimadores OLS sin controles"
   ]
  },
  {
   "cell_type": "code",
   "execution_count": 135,
   "id": "9f69843a",
   "metadata": {},
   "outputs": [],
   "source": [
    "betas = []\n",
    "for y in Y:\n",
    "    m = OLS(endog=d2[y], exog=d2.assign(const = 1)[['const','T_nap']], missing='drop').fit(cov_type='HC0')\n",
    "    betas.append(m.params['T_nap'])"
   ]
  },
  {
   "cell_type": "code",
   "execution_count": 136,
   "id": "f5042b39",
   "metadata": {},
   "outputs": [
    {
     "data": {
      "text/plain": [
       "[-171.24094729961658,\n",
       " -0.06424084929926782,\n",
       " 0.033501896333754694,\n",
       " 0.011378002528445012]"
      ]
     },
     "execution_count": 136,
     "metadata": {},
     "output_type": "execute_result"
    }
   ],
   "source": [
    "betas"
   ]
  }
 ],
 "metadata": {
  "kernelspec": {
   "display_name": "Python 3",
   "language": "python",
   "name": "python3"
  },
  "language_info": {
   "codemirror_mode": {
    "name": "ipython",
    "version": 3
   },
   "file_extension": ".py",
   "mimetype": "text/x-python",
   "name": "python",
   "nbconvert_exporter": "python",
   "pygments_lexer": "ipython3",
   "version": "3.8.8"
  }
 },
 "nbformat": 4,
 "nbformat_minor": 5
}
